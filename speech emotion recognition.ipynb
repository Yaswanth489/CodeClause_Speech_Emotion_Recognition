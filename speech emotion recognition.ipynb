{
 "cells": [
  {
   "cell_type": "code",
   "execution_count": 1,
   "id": "e0dbad31",
   "metadata": {},
   "outputs": [],
   "source": [
    "#importing the required modules\n",
    "import librosa \n",
    "import soundfile\n",
    "import os\n",
    "import glob\n",
    "import numpy as np\n",
    "import pandas as pd\n",
    "import matplotlib.pyplot as plt\n",
    "import speech_recognition as sr\n",
    "from sklearn.model_selection import train_test_split\n",
    "from sklearn.neural_network import MLPClassifier\n",
    "from sklearn.metrics import accuracy_score"
   ]
  },
  {
   "cell_type": "code",
   "execution_count": 2,
   "id": "b8bb8bc2",
   "metadata": {},
   "outputs": [
    {
     "name": "stdout",
     "output_type": "stream",
     "text": [
      "list of audios files used for speech emotion recognition \n"
     ]
    },
    {
     "data": {
      "text/plain": [
       "['D:\\\\nlpcode\\\\Projects\\\\\\\\speech emotion recognition\\\\AudioFiles\\\\Actor_01\\\\03-01-01-01-01-01-01.wav',\n",
       " 'D:\\\\nlpcode\\\\Projects\\\\\\\\speech emotion recognition\\\\AudioFiles\\\\Actor_01\\\\03-01-01-01-01-02-01.wav',\n",
       " 'D:\\\\nlpcode\\\\Projects\\\\\\\\speech emotion recognition\\\\AudioFiles\\\\Actor_01\\\\03-01-01-01-02-01-01.wav',\n",
       " 'D:\\\\nlpcode\\\\Projects\\\\\\\\speech emotion recognition\\\\AudioFiles\\\\Actor_01\\\\03-01-01-01-02-02-01.wav',\n",
       " 'D:\\\\nlpcode\\\\Projects\\\\\\\\speech emotion recognition\\\\AudioFiles\\\\Actor_01\\\\03-01-02-01-01-01-01.wav',\n",
       " 'D:\\\\nlpcode\\\\Projects\\\\\\\\speech emotion recognition\\\\AudioFiles\\\\Actor_01\\\\03-01-02-01-01-02-01.wav',\n",
       " 'D:\\\\nlpcode\\\\Projects\\\\\\\\speech emotion recognition\\\\AudioFiles\\\\Actor_01\\\\03-01-02-01-02-01-01.wav',\n",
       " 'D:\\\\nlpcode\\\\Projects\\\\\\\\speech emotion recognition\\\\AudioFiles\\\\Actor_01\\\\03-01-02-01-02-02-01.wav',\n",
       " 'D:\\\\nlpcode\\\\Projects\\\\\\\\speech emotion recognition\\\\AudioFiles\\\\Actor_01\\\\03-01-02-02-01-01-01.wav',\n",
       " 'D:\\\\nlpcode\\\\Projects\\\\\\\\speech emotion recognition\\\\AudioFiles\\\\Actor_01\\\\03-01-02-02-01-02-01.wav',\n",
       " 'D:\\\\nlpcode\\\\Projects\\\\\\\\speech emotion recognition\\\\AudioFiles\\\\Actor_01\\\\03-01-02-02-02-01-01.wav',\n",
       " 'D:\\\\nlpcode\\\\Projects\\\\\\\\speech emotion recognition\\\\AudioFiles\\\\Actor_01\\\\03-01-02-02-02-02-01.wav',\n",
       " 'D:\\\\nlpcode\\\\Projects\\\\\\\\speech emotion recognition\\\\AudioFiles\\\\Actor_01\\\\03-01-03-01-01-01-01.wav',\n",
       " 'D:\\\\nlpcode\\\\Projects\\\\\\\\speech emotion recognition\\\\AudioFiles\\\\Actor_01\\\\03-01-03-01-01-02-01.wav',\n",
       " 'D:\\\\nlpcode\\\\Projects\\\\\\\\speech emotion recognition\\\\AudioFiles\\\\Actor_01\\\\03-01-03-01-02-01-01.wav',\n",
       " 'D:\\\\nlpcode\\\\Projects\\\\\\\\speech emotion recognition\\\\AudioFiles\\\\Actor_01\\\\03-01-03-01-02-02-01.wav',\n",
       " 'D:\\\\nlpcode\\\\Projects\\\\\\\\speech emotion recognition\\\\AudioFiles\\\\Actor_01\\\\03-01-03-02-01-01-01.wav',\n",
       " 'D:\\\\nlpcode\\\\Projects\\\\\\\\speech emotion recognition\\\\AudioFiles\\\\Actor_01\\\\03-01-03-02-01-02-01.wav',\n",
       " 'D:\\\\nlpcode\\\\Projects\\\\\\\\speech emotion recognition\\\\AudioFiles\\\\Actor_01\\\\03-01-03-02-02-01-01.wav',\n",
       " 'D:\\\\nlpcode\\\\Projects\\\\\\\\speech emotion recognition\\\\AudioFiles\\\\Actor_01\\\\03-01-03-02-02-02-01.wav',\n",
       " 'D:\\\\nlpcode\\\\Projects\\\\\\\\speech emotion recognition\\\\AudioFiles\\\\Actor_01\\\\03-01-04-01-01-01-01.wav',\n",
       " 'D:\\\\nlpcode\\\\Projects\\\\\\\\speech emotion recognition\\\\AudioFiles\\\\Actor_01\\\\03-01-04-01-01-02-01.wav',\n",
       " 'D:\\\\nlpcode\\\\Projects\\\\\\\\speech emotion recognition\\\\AudioFiles\\\\Actor_01\\\\03-01-04-01-02-01-01.wav',\n",
       " 'D:\\\\nlpcode\\\\Projects\\\\\\\\speech emotion recognition\\\\AudioFiles\\\\Actor_01\\\\03-01-04-01-02-02-01.wav',\n",
       " 'D:\\\\nlpcode\\\\Projects\\\\\\\\speech emotion recognition\\\\AudioFiles\\\\Actor_01\\\\03-01-04-02-01-01-01.wav',\n",
       " 'D:\\\\nlpcode\\\\Projects\\\\\\\\speech emotion recognition\\\\AudioFiles\\\\Actor_01\\\\03-01-04-02-01-02-01.wav',\n",
       " 'D:\\\\nlpcode\\\\Projects\\\\\\\\speech emotion recognition\\\\AudioFiles\\\\Actor_01\\\\03-01-04-02-02-01-01.wav',\n",
       " 'D:\\\\nlpcode\\\\Projects\\\\\\\\speech emotion recognition\\\\AudioFiles\\\\Actor_01\\\\03-01-04-02-02-02-01.wav',\n",
       " 'D:\\\\nlpcode\\\\Projects\\\\\\\\speech emotion recognition\\\\AudioFiles\\\\Actor_01\\\\03-01-05-01-01-01-01.wav',\n",
       " 'D:\\\\nlpcode\\\\Projects\\\\\\\\speech emotion recognition\\\\AudioFiles\\\\Actor_01\\\\03-01-05-01-01-02-01.wav',\n",
       " 'D:\\\\nlpcode\\\\Projects\\\\\\\\speech emotion recognition\\\\AudioFiles\\\\Actor_01\\\\03-01-05-01-02-01-01.wav',\n",
       " 'D:\\\\nlpcode\\\\Projects\\\\\\\\speech emotion recognition\\\\AudioFiles\\\\Actor_01\\\\03-01-05-01-02-02-01.wav',\n",
       " 'D:\\\\nlpcode\\\\Projects\\\\\\\\speech emotion recognition\\\\AudioFiles\\\\Actor_01\\\\03-01-05-02-01-01-01.wav',\n",
       " 'D:\\\\nlpcode\\\\Projects\\\\\\\\speech emotion recognition\\\\AudioFiles\\\\Actor_01\\\\03-01-05-02-01-02-01.wav',\n",
       " 'D:\\\\nlpcode\\\\Projects\\\\\\\\speech emotion recognition\\\\AudioFiles\\\\Actor_01\\\\03-01-05-02-02-01-01.wav',\n",
       " 'D:\\\\nlpcode\\\\Projects\\\\\\\\speech emotion recognition\\\\AudioFiles\\\\Actor_01\\\\03-01-05-02-02-02-01.wav',\n",
       " 'D:\\\\nlpcode\\\\Projects\\\\\\\\speech emotion recognition\\\\AudioFiles\\\\Actor_01\\\\03-01-06-01-01-01-01.wav',\n",
       " 'D:\\\\nlpcode\\\\Projects\\\\\\\\speech emotion recognition\\\\AudioFiles\\\\Actor_01\\\\03-01-06-01-01-02-01.wav',\n",
       " 'D:\\\\nlpcode\\\\Projects\\\\\\\\speech emotion recognition\\\\AudioFiles\\\\Actor_01\\\\03-01-06-01-02-01-01.wav',\n",
       " 'D:\\\\nlpcode\\\\Projects\\\\\\\\speech emotion recognition\\\\AudioFiles\\\\Actor_01\\\\03-01-06-01-02-02-01.wav',\n",
       " 'D:\\\\nlpcode\\\\Projects\\\\\\\\speech emotion recognition\\\\AudioFiles\\\\Actor_01\\\\03-01-06-02-01-01-01.wav',\n",
       " 'D:\\\\nlpcode\\\\Projects\\\\\\\\speech emotion recognition\\\\AudioFiles\\\\Actor_01\\\\03-01-06-02-01-02-01.wav',\n",
       " 'D:\\\\nlpcode\\\\Projects\\\\\\\\speech emotion recognition\\\\AudioFiles\\\\Actor_01\\\\03-01-06-02-02-01-01.wav',\n",
       " 'D:\\\\nlpcode\\\\Projects\\\\\\\\speech emotion recognition\\\\AudioFiles\\\\Actor_01\\\\03-01-06-02-02-02-01.wav',\n",
       " 'D:\\\\nlpcode\\\\Projects\\\\\\\\speech emotion recognition\\\\AudioFiles\\\\Actor_01\\\\03-01-07-01-01-01-01.wav',\n",
       " 'D:\\\\nlpcode\\\\Projects\\\\\\\\speech emotion recognition\\\\AudioFiles\\\\Actor_01\\\\03-01-07-01-01-02-01.wav',\n",
       " 'D:\\\\nlpcode\\\\Projects\\\\\\\\speech emotion recognition\\\\AudioFiles\\\\Actor_01\\\\03-01-07-01-02-01-01.wav',\n",
       " 'D:\\\\nlpcode\\\\Projects\\\\\\\\speech emotion recognition\\\\AudioFiles\\\\Actor_01\\\\03-01-07-01-02-02-01.wav',\n",
       " 'D:\\\\nlpcode\\\\Projects\\\\\\\\speech emotion recognition\\\\AudioFiles\\\\Actor_01\\\\03-01-07-02-01-01-01.wav',\n",
       " 'D:\\\\nlpcode\\\\Projects\\\\\\\\speech emotion recognition\\\\AudioFiles\\\\Actor_01\\\\03-01-07-02-01-02-01.wav',\n",
       " 'D:\\\\nlpcode\\\\Projects\\\\\\\\speech emotion recognition\\\\AudioFiles\\\\Actor_01\\\\03-01-07-02-02-01-01.wav',\n",
       " 'D:\\\\nlpcode\\\\Projects\\\\\\\\speech emotion recognition\\\\AudioFiles\\\\Actor_01\\\\03-01-07-02-02-02-01.wav',\n",
       " 'D:\\\\nlpcode\\\\Projects\\\\\\\\speech emotion recognition\\\\AudioFiles\\\\Actor_01\\\\03-01-08-01-01-01-01.wav',\n",
       " 'D:\\\\nlpcode\\\\Projects\\\\\\\\speech emotion recognition\\\\AudioFiles\\\\Actor_01\\\\03-01-08-01-01-02-01.wav',\n",
       " 'D:\\\\nlpcode\\\\Projects\\\\\\\\speech emotion recognition\\\\AudioFiles\\\\Actor_01\\\\03-01-08-01-02-01-01.wav',\n",
       " 'D:\\\\nlpcode\\\\Projects\\\\\\\\speech emotion recognition\\\\AudioFiles\\\\Actor_01\\\\03-01-08-01-02-02-01.wav',\n",
       " 'D:\\\\nlpcode\\\\Projects\\\\\\\\speech emotion recognition\\\\AudioFiles\\\\Actor_01\\\\03-01-08-02-01-01-01.wav',\n",
       " 'D:\\\\nlpcode\\\\Projects\\\\\\\\speech emotion recognition\\\\AudioFiles\\\\Actor_01\\\\03-01-08-02-01-02-01.wav',\n",
       " 'D:\\\\nlpcode\\\\Projects\\\\\\\\speech emotion recognition\\\\AudioFiles\\\\Actor_01\\\\03-01-08-02-02-01-01.wav',\n",
       " 'D:\\\\nlpcode\\\\Projects\\\\\\\\speech emotion recognition\\\\AudioFiles\\\\Actor_01\\\\03-01-08-02-02-02-01.wav',\n",
       " 'D:\\\\nlpcode\\\\Projects\\\\\\\\speech emotion recognition\\\\AudioFiles\\\\Actor_02\\\\03-01-01-01-01-01-02.wav',\n",
       " 'D:\\\\nlpcode\\\\Projects\\\\\\\\speech emotion recognition\\\\AudioFiles\\\\Actor_02\\\\03-01-01-01-01-02-02.wav',\n",
       " 'D:\\\\nlpcode\\\\Projects\\\\\\\\speech emotion recognition\\\\AudioFiles\\\\Actor_02\\\\03-01-01-01-02-01-02.wav',\n",
       " 'D:\\\\nlpcode\\\\Projects\\\\\\\\speech emotion recognition\\\\AudioFiles\\\\Actor_02\\\\03-01-01-01-02-02-02.wav',\n",
       " 'D:\\\\nlpcode\\\\Projects\\\\\\\\speech emotion recognition\\\\AudioFiles\\\\Actor_02\\\\03-01-02-01-01-01-02.wav',\n",
       " 'D:\\\\nlpcode\\\\Projects\\\\\\\\speech emotion recognition\\\\AudioFiles\\\\Actor_02\\\\03-01-02-01-01-02-02.wav',\n",
       " 'D:\\\\nlpcode\\\\Projects\\\\\\\\speech emotion recognition\\\\AudioFiles\\\\Actor_02\\\\03-01-02-01-02-01-02.wav',\n",
       " 'D:\\\\nlpcode\\\\Projects\\\\\\\\speech emotion recognition\\\\AudioFiles\\\\Actor_02\\\\03-01-02-01-02-02-02.wav',\n",
       " 'D:\\\\nlpcode\\\\Projects\\\\\\\\speech emotion recognition\\\\AudioFiles\\\\Actor_02\\\\03-01-02-02-01-01-02.wav',\n",
       " 'D:\\\\nlpcode\\\\Projects\\\\\\\\speech emotion recognition\\\\AudioFiles\\\\Actor_02\\\\03-01-02-02-01-02-02.wav',\n",
       " 'D:\\\\nlpcode\\\\Projects\\\\\\\\speech emotion recognition\\\\AudioFiles\\\\Actor_02\\\\03-01-02-02-02-01-02.wav',\n",
       " 'D:\\\\nlpcode\\\\Projects\\\\\\\\speech emotion recognition\\\\AudioFiles\\\\Actor_02\\\\03-01-02-02-02-02-02.wav',\n",
       " 'D:\\\\nlpcode\\\\Projects\\\\\\\\speech emotion recognition\\\\AudioFiles\\\\Actor_02\\\\03-01-03-01-01-01-02.wav',\n",
       " 'D:\\\\nlpcode\\\\Projects\\\\\\\\speech emotion recognition\\\\AudioFiles\\\\Actor_02\\\\03-01-03-01-01-02-02.wav',\n",
       " 'D:\\\\nlpcode\\\\Projects\\\\\\\\speech emotion recognition\\\\AudioFiles\\\\Actor_02\\\\03-01-03-01-02-01-02.wav',\n",
       " 'D:\\\\nlpcode\\\\Projects\\\\\\\\speech emotion recognition\\\\AudioFiles\\\\Actor_02\\\\03-01-03-01-02-02-02.wav',\n",
       " 'D:\\\\nlpcode\\\\Projects\\\\\\\\speech emotion recognition\\\\AudioFiles\\\\Actor_02\\\\03-01-03-02-01-01-02.wav',\n",
       " 'D:\\\\nlpcode\\\\Projects\\\\\\\\speech emotion recognition\\\\AudioFiles\\\\Actor_02\\\\03-01-03-02-01-02-02.wav',\n",
       " 'D:\\\\nlpcode\\\\Projects\\\\\\\\speech emotion recognition\\\\AudioFiles\\\\Actor_02\\\\03-01-03-02-02-01-02.wav',\n",
       " 'D:\\\\nlpcode\\\\Projects\\\\\\\\speech emotion recognition\\\\AudioFiles\\\\Actor_02\\\\03-01-03-02-02-02-02.wav',\n",
       " 'D:\\\\nlpcode\\\\Projects\\\\\\\\speech emotion recognition\\\\AudioFiles\\\\Actor_02\\\\03-01-04-01-01-01-02.wav',\n",
       " 'D:\\\\nlpcode\\\\Projects\\\\\\\\speech emotion recognition\\\\AudioFiles\\\\Actor_02\\\\03-01-04-01-01-02-02.wav',\n",
       " 'D:\\\\nlpcode\\\\Projects\\\\\\\\speech emotion recognition\\\\AudioFiles\\\\Actor_02\\\\03-01-04-01-02-01-02.wav',\n",
       " 'D:\\\\nlpcode\\\\Projects\\\\\\\\speech emotion recognition\\\\AudioFiles\\\\Actor_02\\\\03-01-04-01-02-02-02.wav',\n",
       " 'D:\\\\nlpcode\\\\Projects\\\\\\\\speech emotion recognition\\\\AudioFiles\\\\Actor_02\\\\03-01-04-02-01-01-02.wav',\n",
       " 'D:\\\\nlpcode\\\\Projects\\\\\\\\speech emotion recognition\\\\AudioFiles\\\\Actor_02\\\\03-01-04-02-01-02-02.wav',\n",
       " 'D:\\\\nlpcode\\\\Projects\\\\\\\\speech emotion recognition\\\\AudioFiles\\\\Actor_02\\\\03-01-04-02-02-01-02.wav',\n",
       " 'D:\\\\nlpcode\\\\Projects\\\\\\\\speech emotion recognition\\\\AudioFiles\\\\Actor_02\\\\03-01-04-02-02-02-02.wav',\n",
       " 'D:\\\\nlpcode\\\\Projects\\\\\\\\speech emotion recognition\\\\AudioFiles\\\\Actor_02\\\\03-01-05-01-01-01-02.wav',\n",
       " 'D:\\\\nlpcode\\\\Projects\\\\\\\\speech emotion recognition\\\\AudioFiles\\\\Actor_02\\\\03-01-05-01-01-02-02.wav',\n",
       " 'D:\\\\nlpcode\\\\Projects\\\\\\\\speech emotion recognition\\\\AudioFiles\\\\Actor_02\\\\03-01-05-01-02-01-02.wav',\n",
       " 'D:\\\\nlpcode\\\\Projects\\\\\\\\speech emotion recognition\\\\AudioFiles\\\\Actor_02\\\\03-01-05-01-02-02-02.wav',\n",
       " 'D:\\\\nlpcode\\\\Projects\\\\\\\\speech emotion recognition\\\\AudioFiles\\\\Actor_02\\\\03-01-05-02-01-01-02.wav',\n",
       " 'D:\\\\nlpcode\\\\Projects\\\\\\\\speech emotion recognition\\\\AudioFiles\\\\Actor_02\\\\03-01-05-02-01-02-02.wav',\n",
       " 'D:\\\\nlpcode\\\\Projects\\\\\\\\speech emotion recognition\\\\AudioFiles\\\\Actor_02\\\\03-01-05-02-02-01-02.wav',\n",
       " 'D:\\\\nlpcode\\\\Projects\\\\\\\\speech emotion recognition\\\\AudioFiles\\\\Actor_02\\\\03-01-05-02-02-02-02.wav',\n",
       " 'D:\\\\nlpcode\\\\Projects\\\\\\\\speech emotion recognition\\\\AudioFiles\\\\Actor_02\\\\03-01-06-01-01-01-02.wav',\n",
       " 'D:\\\\nlpcode\\\\Projects\\\\\\\\speech emotion recognition\\\\AudioFiles\\\\Actor_02\\\\03-01-06-01-01-02-02.wav',\n",
       " 'D:\\\\nlpcode\\\\Projects\\\\\\\\speech emotion recognition\\\\AudioFiles\\\\Actor_02\\\\03-01-06-01-02-01-02.wav',\n",
       " 'D:\\\\nlpcode\\\\Projects\\\\\\\\speech emotion recognition\\\\AudioFiles\\\\Actor_02\\\\03-01-06-01-02-02-02.wav',\n",
       " 'D:\\\\nlpcode\\\\Projects\\\\\\\\speech emotion recognition\\\\AudioFiles\\\\Actor_02\\\\03-01-06-02-01-01-02.wav',\n",
       " 'D:\\\\nlpcode\\\\Projects\\\\\\\\speech emotion recognition\\\\AudioFiles\\\\Actor_02\\\\03-01-06-02-01-02-02.wav',\n",
       " 'D:\\\\nlpcode\\\\Projects\\\\\\\\speech emotion recognition\\\\AudioFiles\\\\Actor_02\\\\03-01-06-02-02-01-02.wav',\n",
       " 'D:\\\\nlpcode\\\\Projects\\\\\\\\speech emotion recognition\\\\AudioFiles\\\\Actor_02\\\\03-01-06-02-02-02-02.wav',\n",
       " 'D:\\\\nlpcode\\\\Projects\\\\\\\\speech emotion recognition\\\\AudioFiles\\\\Actor_02\\\\03-01-07-01-01-01-02.wav',\n",
       " 'D:\\\\nlpcode\\\\Projects\\\\\\\\speech emotion recognition\\\\AudioFiles\\\\Actor_02\\\\03-01-07-01-01-02-02.wav',\n",
       " 'D:\\\\nlpcode\\\\Projects\\\\\\\\speech emotion recognition\\\\AudioFiles\\\\Actor_02\\\\03-01-07-01-02-01-02.wav',\n",
       " 'D:\\\\nlpcode\\\\Projects\\\\\\\\speech emotion recognition\\\\AudioFiles\\\\Actor_02\\\\03-01-07-01-02-02-02.wav',\n",
       " 'D:\\\\nlpcode\\\\Projects\\\\\\\\speech emotion recognition\\\\AudioFiles\\\\Actor_02\\\\03-01-07-02-01-01-02.wav',\n",
       " 'D:\\\\nlpcode\\\\Projects\\\\\\\\speech emotion recognition\\\\AudioFiles\\\\Actor_02\\\\03-01-07-02-01-02-02.wav',\n",
       " 'D:\\\\nlpcode\\\\Projects\\\\\\\\speech emotion recognition\\\\AudioFiles\\\\Actor_02\\\\03-01-07-02-02-01-02.wav',\n",
       " 'D:\\\\nlpcode\\\\Projects\\\\\\\\speech emotion recognition\\\\AudioFiles\\\\Actor_02\\\\03-01-07-02-02-02-02.wav',\n",
       " 'D:\\\\nlpcode\\\\Projects\\\\\\\\speech emotion recognition\\\\AudioFiles\\\\Actor_02\\\\03-01-08-01-01-01-02.wav',\n",
       " 'D:\\\\nlpcode\\\\Projects\\\\\\\\speech emotion recognition\\\\AudioFiles\\\\Actor_02\\\\03-01-08-01-01-02-02.wav',\n",
       " 'D:\\\\nlpcode\\\\Projects\\\\\\\\speech emotion recognition\\\\AudioFiles\\\\Actor_02\\\\03-01-08-01-02-01-02.wav',\n",
       " 'D:\\\\nlpcode\\\\Projects\\\\\\\\speech emotion recognition\\\\AudioFiles\\\\Actor_02\\\\03-01-08-01-02-02-02.wav',\n",
       " 'D:\\\\nlpcode\\\\Projects\\\\\\\\speech emotion recognition\\\\AudioFiles\\\\Actor_02\\\\03-01-08-02-01-01-02.wav',\n",
       " 'D:\\\\nlpcode\\\\Projects\\\\\\\\speech emotion recognition\\\\AudioFiles\\\\Actor_02\\\\03-01-08-02-01-02-02.wav',\n",
       " 'D:\\\\nlpcode\\\\Projects\\\\\\\\speech emotion recognition\\\\AudioFiles\\\\Actor_02\\\\03-01-08-02-02-01-02.wav',\n",
       " 'D:\\\\nlpcode\\\\Projects\\\\\\\\speech emotion recognition\\\\AudioFiles\\\\Actor_02\\\\03-01-08-02-02-02-02.wav',\n",
       " 'D:\\\\nlpcode\\\\Projects\\\\\\\\speech emotion recognition\\\\AudioFiles\\\\Actor_03\\\\03-01-01-01-01-01-03.wav',\n",
       " 'D:\\\\nlpcode\\\\Projects\\\\\\\\speech emotion recognition\\\\AudioFiles\\\\Actor_03\\\\03-01-01-01-01-02-03.wav',\n",
       " 'D:\\\\nlpcode\\\\Projects\\\\\\\\speech emotion recognition\\\\AudioFiles\\\\Actor_03\\\\03-01-01-01-02-01-03.wav',\n",
       " 'D:\\\\nlpcode\\\\Projects\\\\\\\\speech emotion recognition\\\\AudioFiles\\\\Actor_03\\\\03-01-01-01-02-02-03.wav',\n",
       " 'D:\\\\nlpcode\\\\Projects\\\\\\\\speech emotion recognition\\\\AudioFiles\\\\Actor_03\\\\03-01-02-01-01-01-03.wav',\n",
       " 'D:\\\\nlpcode\\\\Projects\\\\\\\\speech emotion recognition\\\\AudioFiles\\\\Actor_03\\\\03-01-02-01-01-02-03.wav',\n",
       " 'D:\\\\nlpcode\\\\Projects\\\\\\\\speech emotion recognition\\\\AudioFiles\\\\Actor_03\\\\03-01-02-01-02-01-03.wav',\n",
       " 'D:\\\\nlpcode\\\\Projects\\\\\\\\speech emotion recognition\\\\AudioFiles\\\\Actor_03\\\\03-01-02-01-02-02-03.wav',\n",
       " 'D:\\\\nlpcode\\\\Projects\\\\\\\\speech emotion recognition\\\\AudioFiles\\\\Actor_03\\\\03-01-02-02-01-01-03.wav',\n",
       " 'D:\\\\nlpcode\\\\Projects\\\\\\\\speech emotion recognition\\\\AudioFiles\\\\Actor_03\\\\03-01-02-02-01-02-03.wav',\n",
       " 'D:\\\\nlpcode\\\\Projects\\\\\\\\speech emotion recognition\\\\AudioFiles\\\\Actor_03\\\\03-01-02-02-02-01-03.wav',\n",
       " 'D:\\\\nlpcode\\\\Projects\\\\\\\\speech emotion recognition\\\\AudioFiles\\\\Actor_03\\\\03-01-02-02-02-02-03.wav',\n",
       " 'D:\\\\nlpcode\\\\Projects\\\\\\\\speech emotion recognition\\\\AudioFiles\\\\Actor_03\\\\03-01-03-01-01-01-03.wav',\n",
       " 'D:\\\\nlpcode\\\\Projects\\\\\\\\speech emotion recognition\\\\AudioFiles\\\\Actor_03\\\\03-01-03-01-01-02-03.wav',\n",
       " 'D:\\\\nlpcode\\\\Projects\\\\\\\\speech emotion recognition\\\\AudioFiles\\\\Actor_03\\\\03-01-03-01-02-01-03.wav',\n",
       " 'D:\\\\nlpcode\\\\Projects\\\\\\\\speech emotion recognition\\\\AudioFiles\\\\Actor_03\\\\03-01-03-01-02-02-03.wav',\n",
       " 'D:\\\\nlpcode\\\\Projects\\\\\\\\speech emotion recognition\\\\AudioFiles\\\\Actor_03\\\\03-01-03-02-01-01-03.wav',\n",
       " 'D:\\\\nlpcode\\\\Projects\\\\\\\\speech emotion recognition\\\\AudioFiles\\\\Actor_03\\\\03-01-03-02-01-02-03.wav',\n",
       " 'D:\\\\nlpcode\\\\Projects\\\\\\\\speech emotion recognition\\\\AudioFiles\\\\Actor_03\\\\03-01-03-02-02-01-03.wav',\n",
       " 'D:\\\\nlpcode\\\\Projects\\\\\\\\speech emotion recognition\\\\AudioFiles\\\\Actor_03\\\\03-01-03-02-02-02-03.wav',\n",
       " 'D:\\\\nlpcode\\\\Projects\\\\\\\\speech emotion recognition\\\\AudioFiles\\\\Actor_03\\\\03-01-04-01-01-01-03.wav',\n",
       " 'D:\\\\nlpcode\\\\Projects\\\\\\\\speech emotion recognition\\\\AudioFiles\\\\Actor_03\\\\03-01-04-01-01-02-03.wav',\n",
       " 'D:\\\\nlpcode\\\\Projects\\\\\\\\speech emotion recognition\\\\AudioFiles\\\\Actor_03\\\\03-01-04-01-02-01-03.wav',\n",
       " 'D:\\\\nlpcode\\\\Projects\\\\\\\\speech emotion recognition\\\\AudioFiles\\\\Actor_03\\\\03-01-04-01-02-02-03.wav',\n",
       " 'D:\\\\nlpcode\\\\Projects\\\\\\\\speech emotion recognition\\\\AudioFiles\\\\Actor_03\\\\03-01-04-02-01-01-03.wav',\n",
       " 'D:\\\\nlpcode\\\\Projects\\\\\\\\speech emotion recognition\\\\AudioFiles\\\\Actor_03\\\\03-01-04-02-01-02-03.wav',\n",
       " 'D:\\\\nlpcode\\\\Projects\\\\\\\\speech emotion recognition\\\\AudioFiles\\\\Actor_03\\\\03-01-04-02-02-01-03.wav',\n",
       " 'D:\\\\nlpcode\\\\Projects\\\\\\\\speech emotion recognition\\\\AudioFiles\\\\Actor_03\\\\03-01-04-02-02-02-03.wav',\n",
       " 'D:\\\\nlpcode\\\\Projects\\\\\\\\speech emotion recognition\\\\AudioFiles\\\\Actor_03\\\\03-01-05-01-01-01-03.wav',\n",
       " 'D:\\\\nlpcode\\\\Projects\\\\\\\\speech emotion recognition\\\\AudioFiles\\\\Actor_03\\\\03-01-05-01-01-02-03.wav',\n",
       " 'D:\\\\nlpcode\\\\Projects\\\\\\\\speech emotion recognition\\\\AudioFiles\\\\Actor_03\\\\03-01-05-01-02-01-03.wav',\n",
       " 'D:\\\\nlpcode\\\\Projects\\\\\\\\speech emotion recognition\\\\AudioFiles\\\\Actor_03\\\\03-01-05-01-02-02-03.wav',\n",
       " 'D:\\\\nlpcode\\\\Projects\\\\\\\\speech emotion recognition\\\\AudioFiles\\\\Actor_03\\\\03-01-05-02-01-01-03.wav',\n",
       " 'D:\\\\nlpcode\\\\Projects\\\\\\\\speech emotion recognition\\\\AudioFiles\\\\Actor_03\\\\03-01-05-02-01-02-03.wav',\n",
       " 'D:\\\\nlpcode\\\\Projects\\\\\\\\speech emotion recognition\\\\AudioFiles\\\\Actor_03\\\\03-01-05-02-02-01-03.wav',\n",
       " 'D:\\\\nlpcode\\\\Projects\\\\\\\\speech emotion recognition\\\\AudioFiles\\\\Actor_03\\\\03-01-05-02-02-02-03.wav',\n",
       " 'D:\\\\nlpcode\\\\Projects\\\\\\\\speech emotion recognition\\\\AudioFiles\\\\Actor_03\\\\03-01-06-01-01-01-03.wav',\n",
       " 'D:\\\\nlpcode\\\\Projects\\\\\\\\speech emotion recognition\\\\AudioFiles\\\\Actor_03\\\\03-01-06-01-01-02-03.wav',\n",
       " 'D:\\\\nlpcode\\\\Projects\\\\\\\\speech emotion recognition\\\\AudioFiles\\\\Actor_03\\\\03-01-06-01-02-01-03.wav',\n",
       " 'D:\\\\nlpcode\\\\Projects\\\\\\\\speech emotion recognition\\\\AudioFiles\\\\Actor_03\\\\03-01-06-01-02-02-03.wav',\n",
       " 'D:\\\\nlpcode\\\\Projects\\\\\\\\speech emotion recognition\\\\AudioFiles\\\\Actor_03\\\\03-01-06-02-01-01-03.wav',\n",
       " 'D:\\\\nlpcode\\\\Projects\\\\\\\\speech emotion recognition\\\\AudioFiles\\\\Actor_03\\\\03-01-06-02-01-02-03.wav',\n",
       " 'D:\\\\nlpcode\\\\Projects\\\\\\\\speech emotion recognition\\\\AudioFiles\\\\Actor_03\\\\03-01-06-02-02-01-03.wav',\n",
       " 'D:\\\\nlpcode\\\\Projects\\\\\\\\speech emotion recognition\\\\AudioFiles\\\\Actor_03\\\\03-01-06-02-02-02-03.wav',\n",
       " 'D:\\\\nlpcode\\\\Projects\\\\\\\\speech emotion recognition\\\\AudioFiles\\\\Actor_03\\\\03-01-07-01-01-01-03.wav',\n",
       " 'D:\\\\nlpcode\\\\Projects\\\\\\\\speech emotion recognition\\\\AudioFiles\\\\Actor_03\\\\03-01-07-01-01-02-03.wav',\n",
       " 'D:\\\\nlpcode\\\\Projects\\\\\\\\speech emotion recognition\\\\AudioFiles\\\\Actor_03\\\\03-01-07-01-02-01-03.wav',\n",
       " 'D:\\\\nlpcode\\\\Projects\\\\\\\\speech emotion recognition\\\\AudioFiles\\\\Actor_03\\\\03-01-07-01-02-02-03.wav',\n",
       " 'D:\\\\nlpcode\\\\Projects\\\\\\\\speech emotion recognition\\\\AudioFiles\\\\Actor_03\\\\03-01-07-02-01-01-03.wav',\n",
       " 'D:\\\\nlpcode\\\\Projects\\\\\\\\speech emotion recognition\\\\AudioFiles\\\\Actor_03\\\\03-01-07-02-01-02-03.wav',\n",
       " 'D:\\\\nlpcode\\\\Projects\\\\\\\\speech emotion recognition\\\\AudioFiles\\\\Actor_03\\\\03-01-07-02-02-01-03.wav',\n",
       " 'D:\\\\nlpcode\\\\Projects\\\\\\\\speech emotion recognition\\\\AudioFiles\\\\Actor_03\\\\03-01-07-02-02-02-03.wav',\n",
       " 'D:\\\\nlpcode\\\\Projects\\\\\\\\speech emotion recognition\\\\AudioFiles\\\\Actor_03\\\\03-01-08-01-01-01-03.wav',\n",
       " 'D:\\\\nlpcode\\\\Projects\\\\\\\\speech emotion recognition\\\\AudioFiles\\\\Actor_03\\\\03-01-08-01-01-02-03.wav',\n",
       " 'D:\\\\nlpcode\\\\Projects\\\\\\\\speech emotion recognition\\\\AudioFiles\\\\Actor_03\\\\03-01-08-01-02-01-03.wav',\n",
       " 'D:\\\\nlpcode\\\\Projects\\\\\\\\speech emotion recognition\\\\AudioFiles\\\\Actor_03\\\\03-01-08-01-02-02-03.wav',\n",
       " 'D:\\\\nlpcode\\\\Projects\\\\\\\\speech emotion recognition\\\\AudioFiles\\\\Actor_03\\\\03-01-08-02-01-01-03.wav',\n",
       " 'D:\\\\nlpcode\\\\Projects\\\\\\\\speech emotion recognition\\\\AudioFiles\\\\Actor_03\\\\03-01-08-02-01-02-03.wav',\n",
       " 'D:\\\\nlpcode\\\\Projects\\\\\\\\speech emotion recognition\\\\AudioFiles\\\\Actor_03\\\\03-01-08-02-02-01-03.wav',\n",
       " 'D:\\\\nlpcode\\\\Projects\\\\\\\\speech emotion recognition\\\\AudioFiles\\\\Actor_03\\\\03-01-08-02-02-02-03.wav',\n",
       " 'D:\\\\nlpcode\\\\Projects\\\\\\\\speech emotion recognition\\\\AudioFiles\\\\Actor_04\\\\03-01-01-01-01-01-04.wav',\n",
       " 'D:\\\\nlpcode\\\\Projects\\\\\\\\speech emotion recognition\\\\AudioFiles\\\\Actor_04\\\\03-01-01-01-01-02-04.wav',\n",
       " 'D:\\\\nlpcode\\\\Projects\\\\\\\\speech emotion recognition\\\\AudioFiles\\\\Actor_04\\\\03-01-01-01-02-01-04.wav',\n",
       " 'D:\\\\nlpcode\\\\Projects\\\\\\\\speech emotion recognition\\\\AudioFiles\\\\Actor_04\\\\03-01-01-01-02-02-04.wav',\n",
       " 'D:\\\\nlpcode\\\\Projects\\\\\\\\speech emotion recognition\\\\AudioFiles\\\\Actor_04\\\\03-01-02-01-01-01-04.wav',\n",
       " 'D:\\\\nlpcode\\\\Projects\\\\\\\\speech emotion recognition\\\\AudioFiles\\\\Actor_04\\\\03-01-02-01-01-02-04.wav',\n",
       " 'D:\\\\nlpcode\\\\Projects\\\\\\\\speech emotion recognition\\\\AudioFiles\\\\Actor_04\\\\03-01-02-01-02-01-04.wav',\n",
       " 'D:\\\\nlpcode\\\\Projects\\\\\\\\speech emotion recognition\\\\AudioFiles\\\\Actor_04\\\\03-01-02-01-02-02-04.wav',\n",
       " 'D:\\\\nlpcode\\\\Projects\\\\\\\\speech emotion recognition\\\\AudioFiles\\\\Actor_04\\\\03-01-02-02-01-01-04.wav',\n",
       " 'D:\\\\nlpcode\\\\Projects\\\\\\\\speech emotion recognition\\\\AudioFiles\\\\Actor_04\\\\03-01-02-02-01-02-04.wav',\n",
       " 'D:\\\\nlpcode\\\\Projects\\\\\\\\speech emotion recognition\\\\AudioFiles\\\\Actor_04\\\\03-01-02-02-02-01-04.wav',\n",
       " 'D:\\\\nlpcode\\\\Projects\\\\\\\\speech emotion recognition\\\\AudioFiles\\\\Actor_04\\\\03-01-02-02-02-02-04.wav',\n",
       " 'D:\\\\nlpcode\\\\Projects\\\\\\\\speech emotion recognition\\\\AudioFiles\\\\Actor_04\\\\03-01-03-01-01-01-04.wav',\n",
       " 'D:\\\\nlpcode\\\\Projects\\\\\\\\speech emotion recognition\\\\AudioFiles\\\\Actor_04\\\\03-01-03-01-01-02-04.wav',\n",
       " 'D:\\\\nlpcode\\\\Projects\\\\\\\\speech emotion recognition\\\\AudioFiles\\\\Actor_04\\\\03-01-03-01-02-01-04.wav',\n",
       " 'D:\\\\nlpcode\\\\Projects\\\\\\\\speech emotion recognition\\\\AudioFiles\\\\Actor_04\\\\03-01-03-01-02-02-04.wav',\n",
       " 'D:\\\\nlpcode\\\\Projects\\\\\\\\speech emotion recognition\\\\AudioFiles\\\\Actor_04\\\\03-01-03-02-01-01-04.wav',\n",
       " 'D:\\\\nlpcode\\\\Projects\\\\\\\\speech emotion recognition\\\\AudioFiles\\\\Actor_04\\\\03-01-03-02-01-02-04.wav',\n",
       " 'D:\\\\nlpcode\\\\Projects\\\\\\\\speech emotion recognition\\\\AudioFiles\\\\Actor_04\\\\03-01-03-02-02-01-04.wav',\n",
       " 'D:\\\\nlpcode\\\\Projects\\\\\\\\speech emotion recognition\\\\AudioFiles\\\\Actor_04\\\\03-01-03-02-02-02-04.wav',\n",
       " 'D:\\\\nlpcode\\\\Projects\\\\\\\\speech emotion recognition\\\\AudioFiles\\\\Actor_04\\\\03-01-04-01-01-01-04.wav',\n",
       " 'D:\\\\nlpcode\\\\Projects\\\\\\\\speech emotion recognition\\\\AudioFiles\\\\Actor_04\\\\03-01-04-01-01-02-04.wav',\n",
       " 'D:\\\\nlpcode\\\\Projects\\\\\\\\speech emotion recognition\\\\AudioFiles\\\\Actor_04\\\\03-01-04-01-02-01-04.wav',\n",
       " 'D:\\\\nlpcode\\\\Projects\\\\\\\\speech emotion recognition\\\\AudioFiles\\\\Actor_04\\\\03-01-04-01-02-02-04.wav',\n",
       " 'D:\\\\nlpcode\\\\Projects\\\\\\\\speech emotion recognition\\\\AudioFiles\\\\Actor_04\\\\03-01-04-02-01-01-04.wav',\n",
       " 'D:\\\\nlpcode\\\\Projects\\\\\\\\speech emotion recognition\\\\AudioFiles\\\\Actor_04\\\\03-01-04-02-01-02-04.wav',\n",
       " 'D:\\\\nlpcode\\\\Projects\\\\\\\\speech emotion recognition\\\\AudioFiles\\\\Actor_04\\\\03-01-04-02-02-01-04.wav',\n",
       " 'D:\\\\nlpcode\\\\Projects\\\\\\\\speech emotion recognition\\\\AudioFiles\\\\Actor_04\\\\03-01-04-02-02-02-04.wav',\n",
       " 'D:\\\\nlpcode\\\\Projects\\\\\\\\speech emotion recognition\\\\AudioFiles\\\\Actor_04\\\\03-01-05-01-01-01-04.wav',\n",
       " 'D:\\\\nlpcode\\\\Projects\\\\\\\\speech emotion recognition\\\\AudioFiles\\\\Actor_04\\\\03-01-05-01-01-02-04.wav',\n",
       " 'D:\\\\nlpcode\\\\Projects\\\\\\\\speech emotion recognition\\\\AudioFiles\\\\Actor_04\\\\03-01-05-01-02-01-04.wav',\n",
       " 'D:\\\\nlpcode\\\\Projects\\\\\\\\speech emotion recognition\\\\AudioFiles\\\\Actor_04\\\\03-01-05-01-02-02-04.wav',\n",
       " 'D:\\\\nlpcode\\\\Projects\\\\\\\\speech emotion recognition\\\\AudioFiles\\\\Actor_04\\\\03-01-05-02-01-01-04.wav',\n",
       " 'D:\\\\nlpcode\\\\Projects\\\\\\\\speech emotion recognition\\\\AudioFiles\\\\Actor_04\\\\03-01-05-02-01-02-04.wav',\n",
       " 'D:\\\\nlpcode\\\\Projects\\\\\\\\speech emotion recognition\\\\AudioFiles\\\\Actor_04\\\\03-01-05-02-02-01-04.wav',\n",
       " 'D:\\\\nlpcode\\\\Projects\\\\\\\\speech emotion recognition\\\\AudioFiles\\\\Actor_04\\\\03-01-05-02-02-02-04.wav',\n",
       " 'D:\\\\nlpcode\\\\Projects\\\\\\\\speech emotion recognition\\\\AudioFiles\\\\Actor_04\\\\03-01-06-01-01-01-04.wav',\n",
       " 'D:\\\\nlpcode\\\\Projects\\\\\\\\speech emotion recognition\\\\AudioFiles\\\\Actor_04\\\\03-01-06-01-01-02-04.wav',\n",
       " 'D:\\\\nlpcode\\\\Projects\\\\\\\\speech emotion recognition\\\\AudioFiles\\\\Actor_04\\\\03-01-06-01-02-01-04.wav',\n",
       " 'D:\\\\nlpcode\\\\Projects\\\\\\\\speech emotion recognition\\\\AudioFiles\\\\Actor_04\\\\03-01-06-01-02-02-04.wav',\n",
       " 'D:\\\\nlpcode\\\\Projects\\\\\\\\speech emotion recognition\\\\AudioFiles\\\\Actor_04\\\\03-01-06-02-01-01-04.wav',\n",
       " 'D:\\\\nlpcode\\\\Projects\\\\\\\\speech emotion recognition\\\\AudioFiles\\\\Actor_04\\\\03-01-06-02-01-02-04.wav',\n",
       " 'D:\\\\nlpcode\\\\Projects\\\\\\\\speech emotion recognition\\\\AudioFiles\\\\Actor_04\\\\03-01-06-02-02-01-04.wav',\n",
       " 'D:\\\\nlpcode\\\\Projects\\\\\\\\speech emotion recognition\\\\AudioFiles\\\\Actor_04\\\\03-01-06-02-02-02-04.wav',\n",
       " 'D:\\\\nlpcode\\\\Projects\\\\\\\\speech emotion recognition\\\\AudioFiles\\\\Actor_04\\\\03-01-07-01-01-01-04.wav',\n",
       " 'D:\\\\nlpcode\\\\Projects\\\\\\\\speech emotion recognition\\\\AudioFiles\\\\Actor_04\\\\03-01-07-01-01-02-04.wav',\n",
       " 'D:\\\\nlpcode\\\\Projects\\\\\\\\speech emotion recognition\\\\AudioFiles\\\\Actor_04\\\\03-01-07-01-02-01-04.wav',\n",
       " 'D:\\\\nlpcode\\\\Projects\\\\\\\\speech emotion recognition\\\\AudioFiles\\\\Actor_04\\\\03-01-07-01-02-02-04.wav',\n",
       " 'D:\\\\nlpcode\\\\Projects\\\\\\\\speech emotion recognition\\\\AudioFiles\\\\Actor_04\\\\03-01-07-02-01-01-04.wav',\n",
       " 'D:\\\\nlpcode\\\\Projects\\\\\\\\speech emotion recognition\\\\AudioFiles\\\\Actor_04\\\\03-01-07-02-01-02-04.wav',\n",
       " 'D:\\\\nlpcode\\\\Projects\\\\\\\\speech emotion recognition\\\\AudioFiles\\\\Actor_04\\\\03-01-07-02-02-01-04.wav',\n",
       " 'D:\\\\nlpcode\\\\Projects\\\\\\\\speech emotion recognition\\\\AudioFiles\\\\Actor_04\\\\03-01-07-02-02-02-04.wav',\n",
       " 'D:\\\\nlpcode\\\\Projects\\\\\\\\speech emotion recognition\\\\AudioFiles\\\\Actor_04\\\\03-01-08-01-01-01-04.wav',\n",
       " 'D:\\\\nlpcode\\\\Projects\\\\\\\\speech emotion recognition\\\\AudioFiles\\\\Actor_04\\\\03-01-08-01-01-02-04.wav',\n",
       " 'D:\\\\nlpcode\\\\Projects\\\\\\\\speech emotion recognition\\\\AudioFiles\\\\Actor_04\\\\03-01-08-01-02-01-04.wav',\n",
       " 'D:\\\\nlpcode\\\\Projects\\\\\\\\speech emotion recognition\\\\AudioFiles\\\\Actor_04\\\\03-01-08-01-02-02-04.wav',\n",
       " 'D:\\\\nlpcode\\\\Projects\\\\\\\\speech emotion recognition\\\\AudioFiles\\\\Actor_04\\\\03-01-08-02-01-01-04.wav',\n",
       " 'D:\\\\nlpcode\\\\Projects\\\\\\\\speech emotion recognition\\\\AudioFiles\\\\Actor_04\\\\03-01-08-02-01-02-04.wav',\n",
       " 'D:\\\\nlpcode\\\\Projects\\\\\\\\speech emotion recognition\\\\AudioFiles\\\\Actor_04\\\\03-01-08-02-02-01-04.wav',\n",
       " 'D:\\\\nlpcode\\\\Projects\\\\\\\\speech emotion recognition\\\\AudioFiles\\\\Actor_04\\\\03-01-08-02-02-02-04.wav',\n",
       " 'D:\\\\nlpcode\\\\Projects\\\\\\\\speech emotion recognition\\\\AudioFiles\\\\Actor_05\\\\03-01-01-01-01-01-05.wav',\n",
       " 'D:\\\\nlpcode\\\\Projects\\\\\\\\speech emotion recognition\\\\AudioFiles\\\\Actor_05\\\\03-01-01-01-01-02-05.wav',\n",
       " 'D:\\\\nlpcode\\\\Projects\\\\\\\\speech emotion recognition\\\\AudioFiles\\\\Actor_05\\\\03-01-01-01-02-01-05.wav',\n",
       " 'D:\\\\nlpcode\\\\Projects\\\\\\\\speech emotion recognition\\\\AudioFiles\\\\Actor_05\\\\03-01-01-01-02-02-05.wav',\n",
       " 'D:\\\\nlpcode\\\\Projects\\\\\\\\speech emotion recognition\\\\AudioFiles\\\\Actor_05\\\\03-01-02-01-01-01-05.wav',\n",
       " 'D:\\\\nlpcode\\\\Projects\\\\\\\\speech emotion recognition\\\\AudioFiles\\\\Actor_05\\\\03-01-02-01-01-02-05.wav',\n",
       " 'D:\\\\nlpcode\\\\Projects\\\\\\\\speech emotion recognition\\\\AudioFiles\\\\Actor_05\\\\03-01-02-01-02-01-05.wav',\n",
       " 'D:\\\\nlpcode\\\\Projects\\\\\\\\speech emotion recognition\\\\AudioFiles\\\\Actor_05\\\\03-01-02-01-02-02-05.wav',\n",
       " 'D:\\\\nlpcode\\\\Projects\\\\\\\\speech emotion recognition\\\\AudioFiles\\\\Actor_05\\\\03-01-02-02-01-01-05.wav',\n",
       " 'D:\\\\nlpcode\\\\Projects\\\\\\\\speech emotion recognition\\\\AudioFiles\\\\Actor_05\\\\03-01-02-02-01-02-05.wav',\n",
       " 'D:\\\\nlpcode\\\\Projects\\\\\\\\speech emotion recognition\\\\AudioFiles\\\\Actor_05\\\\03-01-02-02-02-01-05.wav',\n",
       " 'D:\\\\nlpcode\\\\Projects\\\\\\\\speech emotion recognition\\\\AudioFiles\\\\Actor_05\\\\03-01-02-02-02-02-05.wav',\n",
       " 'D:\\\\nlpcode\\\\Projects\\\\\\\\speech emotion recognition\\\\AudioFiles\\\\Actor_05\\\\03-01-03-01-01-01-05.wav',\n",
       " 'D:\\\\nlpcode\\\\Projects\\\\\\\\speech emotion recognition\\\\AudioFiles\\\\Actor_05\\\\03-01-03-01-01-02-05.wav',\n",
       " 'D:\\\\nlpcode\\\\Projects\\\\\\\\speech emotion recognition\\\\AudioFiles\\\\Actor_05\\\\03-01-03-01-02-01-05.wav',\n",
       " 'D:\\\\nlpcode\\\\Projects\\\\\\\\speech emotion recognition\\\\AudioFiles\\\\Actor_05\\\\03-01-03-01-02-02-05.wav',\n",
       " 'D:\\\\nlpcode\\\\Projects\\\\\\\\speech emotion recognition\\\\AudioFiles\\\\Actor_05\\\\03-01-03-02-01-01-05.wav',\n",
       " 'D:\\\\nlpcode\\\\Projects\\\\\\\\speech emotion recognition\\\\AudioFiles\\\\Actor_05\\\\03-01-03-02-01-02-05.wav',\n",
       " 'D:\\\\nlpcode\\\\Projects\\\\\\\\speech emotion recognition\\\\AudioFiles\\\\Actor_05\\\\03-01-03-02-02-01-05.wav',\n",
       " 'D:\\\\nlpcode\\\\Projects\\\\\\\\speech emotion recognition\\\\AudioFiles\\\\Actor_05\\\\03-01-03-02-02-02-05.wav',\n",
       " 'D:\\\\nlpcode\\\\Projects\\\\\\\\speech emotion recognition\\\\AudioFiles\\\\Actor_05\\\\03-01-04-01-01-01-05.wav',\n",
       " 'D:\\\\nlpcode\\\\Projects\\\\\\\\speech emotion recognition\\\\AudioFiles\\\\Actor_05\\\\03-01-04-01-01-02-05.wav',\n",
       " 'D:\\\\nlpcode\\\\Projects\\\\\\\\speech emotion recognition\\\\AudioFiles\\\\Actor_05\\\\03-01-04-01-02-01-05.wav',\n",
       " 'D:\\\\nlpcode\\\\Projects\\\\\\\\speech emotion recognition\\\\AudioFiles\\\\Actor_05\\\\03-01-04-01-02-02-05.wav',\n",
       " 'D:\\\\nlpcode\\\\Projects\\\\\\\\speech emotion recognition\\\\AudioFiles\\\\Actor_05\\\\03-01-04-02-01-01-05.wav',\n",
       " 'D:\\\\nlpcode\\\\Projects\\\\\\\\speech emotion recognition\\\\AudioFiles\\\\Actor_05\\\\03-01-04-02-01-02-05.wav',\n",
       " 'D:\\\\nlpcode\\\\Projects\\\\\\\\speech emotion recognition\\\\AudioFiles\\\\Actor_05\\\\03-01-04-02-02-01-05.wav',\n",
       " 'D:\\\\nlpcode\\\\Projects\\\\\\\\speech emotion recognition\\\\AudioFiles\\\\Actor_05\\\\03-01-04-02-02-02-05.wav',\n",
       " 'D:\\\\nlpcode\\\\Projects\\\\\\\\speech emotion recognition\\\\AudioFiles\\\\Actor_05\\\\03-01-05-01-01-01-05.wav',\n",
       " 'D:\\\\nlpcode\\\\Projects\\\\\\\\speech emotion recognition\\\\AudioFiles\\\\Actor_05\\\\03-01-05-01-01-02-05.wav',\n",
       " 'D:\\\\nlpcode\\\\Projects\\\\\\\\speech emotion recognition\\\\AudioFiles\\\\Actor_05\\\\03-01-05-01-02-01-05.wav',\n",
       " 'D:\\\\nlpcode\\\\Projects\\\\\\\\speech emotion recognition\\\\AudioFiles\\\\Actor_05\\\\03-01-05-01-02-02-05.wav',\n",
       " 'D:\\\\nlpcode\\\\Projects\\\\\\\\speech emotion recognition\\\\AudioFiles\\\\Actor_05\\\\03-01-05-02-01-01-05.wav',\n",
       " 'D:\\\\nlpcode\\\\Projects\\\\\\\\speech emotion recognition\\\\AudioFiles\\\\Actor_05\\\\03-01-05-02-01-02-05.wav',\n",
       " 'D:\\\\nlpcode\\\\Projects\\\\\\\\speech emotion recognition\\\\AudioFiles\\\\Actor_05\\\\03-01-05-02-02-01-05.wav',\n",
       " 'D:\\\\nlpcode\\\\Projects\\\\\\\\speech emotion recognition\\\\AudioFiles\\\\Actor_05\\\\03-01-05-02-02-02-05.wav',\n",
       " 'D:\\\\nlpcode\\\\Projects\\\\\\\\speech emotion recognition\\\\AudioFiles\\\\Actor_05\\\\03-01-06-01-01-01-05.wav',\n",
       " 'D:\\\\nlpcode\\\\Projects\\\\\\\\speech emotion recognition\\\\AudioFiles\\\\Actor_05\\\\03-01-06-01-01-02-05.wav',\n",
       " 'D:\\\\nlpcode\\\\Projects\\\\\\\\speech emotion recognition\\\\AudioFiles\\\\Actor_05\\\\03-01-06-01-02-01-05.wav',\n",
       " 'D:\\\\nlpcode\\\\Projects\\\\\\\\speech emotion recognition\\\\AudioFiles\\\\Actor_05\\\\03-01-06-01-02-02-05.wav',\n",
       " 'D:\\\\nlpcode\\\\Projects\\\\\\\\speech emotion recognition\\\\AudioFiles\\\\Actor_05\\\\03-01-06-02-01-01-05.wav',\n",
       " 'D:\\\\nlpcode\\\\Projects\\\\\\\\speech emotion recognition\\\\AudioFiles\\\\Actor_05\\\\03-01-06-02-01-02-05.wav',\n",
       " 'D:\\\\nlpcode\\\\Projects\\\\\\\\speech emotion recognition\\\\AudioFiles\\\\Actor_05\\\\03-01-06-02-02-01-05.wav',\n",
       " 'D:\\\\nlpcode\\\\Projects\\\\\\\\speech emotion recognition\\\\AudioFiles\\\\Actor_05\\\\03-01-06-02-02-02-05.wav',\n",
       " 'D:\\\\nlpcode\\\\Projects\\\\\\\\speech emotion recognition\\\\AudioFiles\\\\Actor_05\\\\03-01-07-01-01-01-05.wav',\n",
       " 'D:\\\\nlpcode\\\\Projects\\\\\\\\speech emotion recognition\\\\AudioFiles\\\\Actor_05\\\\03-01-07-01-01-02-05.wav',\n",
       " 'D:\\\\nlpcode\\\\Projects\\\\\\\\speech emotion recognition\\\\AudioFiles\\\\Actor_05\\\\03-01-07-01-02-01-05.wav',\n",
       " 'D:\\\\nlpcode\\\\Projects\\\\\\\\speech emotion recognition\\\\AudioFiles\\\\Actor_05\\\\03-01-07-01-02-02-05.wav',\n",
       " 'D:\\\\nlpcode\\\\Projects\\\\\\\\speech emotion recognition\\\\AudioFiles\\\\Actor_05\\\\03-01-07-02-01-01-05.wav',\n",
       " 'D:\\\\nlpcode\\\\Projects\\\\\\\\speech emotion recognition\\\\AudioFiles\\\\Actor_05\\\\03-01-07-02-01-02-05.wav',\n",
       " 'D:\\\\nlpcode\\\\Projects\\\\\\\\speech emotion recognition\\\\AudioFiles\\\\Actor_05\\\\03-01-07-02-02-01-05.wav',\n",
       " 'D:\\\\nlpcode\\\\Projects\\\\\\\\speech emotion recognition\\\\AudioFiles\\\\Actor_05\\\\03-01-07-02-02-02-05.wav',\n",
       " 'D:\\\\nlpcode\\\\Projects\\\\\\\\speech emotion recognition\\\\AudioFiles\\\\Actor_05\\\\03-01-08-01-01-01-05.wav',\n",
       " 'D:\\\\nlpcode\\\\Projects\\\\\\\\speech emotion recognition\\\\AudioFiles\\\\Actor_05\\\\03-01-08-01-01-02-05.wav',\n",
       " 'D:\\\\nlpcode\\\\Projects\\\\\\\\speech emotion recognition\\\\AudioFiles\\\\Actor_05\\\\03-01-08-01-02-01-05.wav',\n",
       " 'D:\\\\nlpcode\\\\Projects\\\\\\\\speech emotion recognition\\\\AudioFiles\\\\Actor_05\\\\03-01-08-01-02-02-05.wav',\n",
       " 'D:\\\\nlpcode\\\\Projects\\\\\\\\speech emotion recognition\\\\AudioFiles\\\\Actor_05\\\\03-01-08-02-01-01-05.wav',\n",
       " 'D:\\\\nlpcode\\\\Projects\\\\\\\\speech emotion recognition\\\\AudioFiles\\\\Actor_05\\\\03-01-08-02-01-02-05.wav',\n",
       " 'D:\\\\nlpcode\\\\Projects\\\\\\\\speech emotion recognition\\\\AudioFiles\\\\Actor_05\\\\03-01-08-02-02-01-05.wav',\n",
       " 'D:\\\\nlpcode\\\\Projects\\\\\\\\speech emotion recognition\\\\AudioFiles\\\\Actor_05\\\\03-01-08-02-02-02-05.wav',\n",
       " 'D:\\\\nlpcode\\\\Projects\\\\\\\\speech emotion recognition\\\\AudioFiles\\\\Actor_06\\\\03-01-01-01-01-01-06.wav',\n",
       " 'D:\\\\nlpcode\\\\Projects\\\\\\\\speech emotion recognition\\\\AudioFiles\\\\Actor_06\\\\03-01-01-01-01-02-06.wav',\n",
       " 'D:\\\\nlpcode\\\\Projects\\\\\\\\speech emotion recognition\\\\AudioFiles\\\\Actor_06\\\\03-01-01-01-02-01-06.wav',\n",
       " 'D:\\\\nlpcode\\\\Projects\\\\\\\\speech emotion recognition\\\\AudioFiles\\\\Actor_06\\\\03-01-01-01-02-02-06.wav',\n",
       " 'D:\\\\nlpcode\\\\Projects\\\\\\\\speech emotion recognition\\\\AudioFiles\\\\Actor_06\\\\03-01-02-01-01-01-06.wav',\n",
       " 'D:\\\\nlpcode\\\\Projects\\\\\\\\speech emotion recognition\\\\AudioFiles\\\\Actor_06\\\\03-01-02-01-01-02-06.wav',\n",
       " 'D:\\\\nlpcode\\\\Projects\\\\\\\\speech emotion recognition\\\\AudioFiles\\\\Actor_06\\\\03-01-02-01-02-01-06.wav',\n",
       " 'D:\\\\nlpcode\\\\Projects\\\\\\\\speech emotion recognition\\\\AudioFiles\\\\Actor_06\\\\03-01-02-01-02-02-06.wav',\n",
       " 'D:\\\\nlpcode\\\\Projects\\\\\\\\speech emotion recognition\\\\AudioFiles\\\\Actor_06\\\\03-01-02-02-01-01-06.wav',\n",
       " 'D:\\\\nlpcode\\\\Projects\\\\\\\\speech emotion recognition\\\\AudioFiles\\\\Actor_06\\\\03-01-02-02-01-02-06.wav',\n",
       " 'D:\\\\nlpcode\\\\Projects\\\\\\\\speech emotion recognition\\\\AudioFiles\\\\Actor_06\\\\03-01-02-02-02-01-06.wav',\n",
       " 'D:\\\\nlpcode\\\\Projects\\\\\\\\speech emotion recognition\\\\AudioFiles\\\\Actor_06\\\\03-01-02-02-02-02-06.wav',\n",
       " 'D:\\\\nlpcode\\\\Projects\\\\\\\\speech emotion recognition\\\\AudioFiles\\\\Actor_06\\\\03-01-03-01-01-01-06.wav',\n",
       " 'D:\\\\nlpcode\\\\Projects\\\\\\\\speech emotion recognition\\\\AudioFiles\\\\Actor_06\\\\03-01-03-01-01-02-06.wav',\n",
       " 'D:\\\\nlpcode\\\\Projects\\\\\\\\speech emotion recognition\\\\AudioFiles\\\\Actor_06\\\\03-01-03-01-02-01-06.wav',\n",
       " 'D:\\\\nlpcode\\\\Projects\\\\\\\\speech emotion recognition\\\\AudioFiles\\\\Actor_06\\\\03-01-03-01-02-02-06.wav',\n",
       " 'D:\\\\nlpcode\\\\Projects\\\\\\\\speech emotion recognition\\\\AudioFiles\\\\Actor_06\\\\03-01-03-02-01-01-06.wav',\n",
       " 'D:\\\\nlpcode\\\\Projects\\\\\\\\speech emotion recognition\\\\AudioFiles\\\\Actor_06\\\\03-01-03-02-01-02-06.wav',\n",
       " 'D:\\\\nlpcode\\\\Projects\\\\\\\\speech emotion recognition\\\\AudioFiles\\\\Actor_06\\\\03-01-03-02-02-01-06.wav',\n",
       " 'D:\\\\nlpcode\\\\Projects\\\\\\\\speech emotion recognition\\\\AudioFiles\\\\Actor_06\\\\03-01-03-02-02-02-06.wav',\n",
       " 'D:\\\\nlpcode\\\\Projects\\\\\\\\speech emotion recognition\\\\AudioFiles\\\\Actor_06\\\\03-01-04-01-01-01-06.wav',\n",
       " 'D:\\\\nlpcode\\\\Projects\\\\\\\\speech emotion recognition\\\\AudioFiles\\\\Actor_06\\\\03-01-04-01-01-02-06.wav',\n",
       " 'D:\\\\nlpcode\\\\Projects\\\\\\\\speech emotion recognition\\\\AudioFiles\\\\Actor_06\\\\03-01-04-01-02-01-06.wav',\n",
       " 'D:\\\\nlpcode\\\\Projects\\\\\\\\speech emotion recognition\\\\AudioFiles\\\\Actor_06\\\\03-01-04-01-02-02-06.wav',\n",
       " 'D:\\\\nlpcode\\\\Projects\\\\\\\\speech emotion recognition\\\\AudioFiles\\\\Actor_06\\\\03-01-04-02-01-01-06.wav',\n",
       " 'D:\\\\nlpcode\\\\Projects\\\\\\\\speech emotion recognition\\\\AudioFiles\\\\Actor_06\\\\03-01-04-02-01-02-06.wav',\n",
       " 'D:\\\\nlpcode\\\\Projects\\\\\\\\speech emotion recognition\\\\AudioFiles\\\\Actor_06\\\\03-01-04-02-02-01-06.wav',\n",
       " 'D:\\\\nlpcode\\\\Projects\\\\\\\\speech emotion recognition\\\\AudioFiles\\\\Actor_06\\\\03-01-04-02-02-02-06.wav',\n",
       " 'D:\\\\nlpcode\\\\Projects\\\\\\\\speech emotion recognition\\\\AudioFiles\\\\Actor_06\\\\03-01-05-01-01-01-06.wav',\n",
       " 'D:\\\\nlpcode\\\\Projects\\\\\\\\speech emotion recognition\\\\AudioFiles\\\\Actor_06\\\\03-01-05-01-01-02-06.wav',\n",
       " 'D:\\\\nlpcode\\\\Projects\\\\\\\\speech emotion recognition\\\\AudioFiles\\\\Actor_06\\\\03-01-05-01-02-01-06.wav',\n",
       " 'D:\\\\nlpcode\\\\Projects\\\\\\\\speech emotion recognition\\\\AudioFiles\\\\Actor_06\\\\03-01-05-01-02-02-06.wav',\n",
       " 'D:\\\\nlpcode\\\\Projects\\\\\\\\speech emotion recognition\\\\AudioFiles\\\\Actor_06\\\\03-01-05-02-01-01-06.wav',\n",
       " 'D:\\\\nlpcode\\\\Projects\\\\\\\\speech emotion recognition\\\\AudioFiles\\\\Actor_06\\\\03-01-05-02-01-02-06.wav',\n",
       " 'D:\\\\nlpcode\\\\Projects\\\\\\\\speech emotion recognition\\\\AudioFiles\\\\Actor_06\\\\03-01-05-02-02-01-06.wav',\n",
       " 'D:\\\\nlpcode\\\\Projects\\\\\\\\speech emotion recognition\\\\AudioFiles\\\\Actor_06\\\\03-01-05-02-02-02-06.wav',\n",
       " 'D:\\\\nlpcode\\\\Projects\\\\\\\\speech emotion recognition\\\\AudioFiles\\\\Actor_06\\\\03-01-06-01-01-01-06.wav',\n",
       " 'D:\\\\nlpcode\\\\Projects\\\\\\\\speech emotion recognition\\\\AudioFiles\\\\Actor_06\\\\03-01-06-01-01-02-06.wav',\n",
       " 'D:\\\\nlpcode\\\\Projects\\\\\\\\speech emotion recognition\\\\AudioFiles\\\\Actor_06\\\\03-01-06-01-02-01-06.wav',\n",
       " 'D:\\\\nlpcode\\\\Projects\\\\\\\\speech emotion recognition\\\\AudioFiles\\\\Actor_06\\\\03-01-06-01-02-02-06.wav',\n",
       " 'D:\\\\nlpcode\\\\Projects\\\\\\\\speech emotion recognition\\\\AudioFiles\\\\Actor_06\\\\03-01-06-02-01-01-06.wav',\n",
       " 'D:\\\\nlpcode\\\\Projects\\\\\\\\speech emotion recognition\\\\AudioFiles\\\\Actor_06\\\\03-01-06-02-01-02-06.wav',\n",
       " 'D:\\\\nlpcode\\\\Projects\\\\\\\\speech emotion recognition\\\\AudioFiles\\\\Actor_06\\\\03-01-06-02-02-01-06.wav',\n",
       " 'D:\\\\nlpcode\\\\Projects\\\\\\\\speech emotion recognition\\\\AudioFiles\\\\Actor_06\\\\03-01-06-02-02-02-06.wav',\n",
       " 'D:\\\\nlpcode\\\\Projects\\\\\\\\speech emotion recognition\\\\AudioFiles\\\\Actor_06\\\\03-01-07-01-01-01-06.wav',\n",
       " 'D:\\\\nlpcode\\\\Projects\\\\\\\\speech emotion recognition\\\\AudioFiles\\\\Actor_06\\\\03-01-07-01-01-02-06.wav',\n",
       " 'D:\\\\nlpcode\\\\Projects\\\\\\\\speech emotion recognition\\\\AudioFiles\\\\Actor_06\\\\03-01-07-01-02-01-06.wav',\n",
       " 'D:\\\\nlpcode\\\\Projects\\\\\\\\speech emotion recognition\\\\AudioFiles\\\\Actor_06\\\\03-01-07-01-02-02-06.wav',\n",
       " 'D:\\\\nlpcode\\\\Projects\\\\\\\\speech emotion recognition\\\\AudioFiles\\\\Actor_06\\\\03-01-07-02-01-01-06.wav',\n",
       " 'D:\\\\nlpcode\\\\Projects\\\\\\\\speech emotion recognition\\\\AudioFiles\\\\Actor_06\\\\03-01-07-02-01-02-06.wav',\n",
       " 'D:\\\\nlpcode\\\\Projects\\\\\\\\speech emotion recognition\\\\AudioFiles\\\\Actor_06\\\\03-01-07-02-02-01-06.wav',\n",
       " 'D:\\\\nlpcode\\\\Projects\\\\\\\\speech emotion recognition\\\\AudioFiles\\\\Actor_06\\\\03-01-07-02-02-02-06.wav',\n",
       " 'D:\\\\nlpcode\\\\Projects\\\\\\\\speech emotion recognition\\\\AudioFiles\\\\Actor_06\\\\03-01-08-01-01-01-06.wav',\n",
       " 'D:\\\\nlpcode\\\\Projects\\\\\\\\speech emotion recognition\\\\AudioFiles\\\\Actor_06\\\\03-01-08-01-01-02-06.wav',\n",
       " 'D:\\\\nlpcode\\\\Projects\\\\\\\\speech emotion recognition\\\\AudioFiles\\\\Actor_06\\\\03-01-08-01-02-01-06.wav',\n",
       " 'D:\\\\nlpcode\\\\Projects\\\\\\\\speech emotion recognition\\\\AudioFiles\\\\Actor_06\\\\03-01-08-01-02-02-06.wav',\n",
       " 'D:\\\\nlpcode\\\\Projects\\\\\\\\speech emotion recognition\\\\AudioFiles\\\\Actor_06\\\\03-01-08-02-01-01-06.wav',\n",
       " 'D:\\\\nlpcode\\\\Projects\\\\\\\\speech emotion recognition\\\\AudioFiles\\\\Actor_06\\\\03-01-08-02-01-02-06.wav',\n",
       " 'D:\\\\nlpcode\\\\Projects\\\\\\\\speech emotion recognition\\\\AudioFiles\\\\Actor_06\\\\03-01-08-02-02-01-06.wav',\n",
       " 'D:\\\\nlpcode\\\\Projects\\\\\\\\speech emotion recognition\\\\AudioFiles\\\\Actor_06\\\\03-01-08-02-02-02-06.wav',\n",
       " 'D:\\\\nlpcode\\\\Projects\\\\\\\\speech emotion recognition\\\\AudioFiles\\\\Actor_07\\\\03-01-01-01-01-01-07.wav',\n",
       " 'D:\\\\nlpcode\\\\Projects\\\\\\\\speech emotion recognition\\\\AudioFiles\\\\Actor_07\\\\03-01-01-01-01-02-07.wav',\n",
       " 'D:\\\\nlpcode\\\\Projects\\\\\\\\speech emotion recognition\\\\AudioFiles\\\\Actor_07\\\\03-01-01-01-02-01-07.wav',\n",
       " 'D:\\\\nlpcode\\\\Projects\\\\\\\\speech emotion recognition\\\\AudioFiles\\\\Actor_07\\\\03-01-01-01-02-02-07.wav',\n",
       " 'D:\\\\nlpcode\\\\Projects\\\\\\\\speech emotion recognition\\\\AudioFiles\\\\Actor_07\\\\03-01-02-01-01-01-07.wav',\n",
       " 'D:\\\\nlpcode\\\\Projects\\\\\\\\speech emotion recognition\\\\AudioFiles\\\\Actor_07\\\\03-01-02-01-01-02-07.wav',\n",
       " 'D:\\\\nlpcode\\\\Projects\\\\\\\\speech emotion recognition\\\\AudioFiles\\\\Actor_07\\\\03-01-02-01-02-01-07.wav',\n",
       " 'D:\\\\nlpcode\\\\Projects\\\\\\\\speech emotion recognition\\\\AudioFiles\\\\Actor_07\\\\03-01-02-01-02-02-07.wav',\n",
       " 'D:\\\\nlpcode\\\\Projects\\\\\\\\speech emotion recognition\\\\AudioFiles\\\\Actor_07\\\\03-01-02-02-01-01-07.wav',\n",
       " 'D:\\\\nlpcode\\\\Projects\\\\\\\\speech emotion recognition\\\\AudioFiles\\\\Actor_07\\\\03-01-02-02-01-02-07.wav',\n",
       " 'D:\\\\nlpcode\\\\Projects\\\\\\\\speech emotion recognition\\\\AudioFiles\\\\Actor_07\\\\03-01-02-02-02-01-07.wav',\n",
       " 'D:\\\\nlpcode\\\\Projects\\\\\\\\speech emotion recognition\\\\AudioFiles\\\\Actor_07\\\\03-01-02-02-02-02-07.wav',\n",
       " 'D:\\\\nlpcode\\\\Projects\\\\\\\\speech emotion recognition\\\\AudioFiles\\\\Actor_07\\\\03-01-03-01-01-01-07.wav',\n",
       " 'D:\\\\nlpcode\\\\Projects\\\\\\\\speech emotion recognition\\\\AudioFiles\\\\Actor_07\\\\03-01-03-01-01-02-07.wav',\n",
       " 'D:\\\\nlpcode\\\\Projects\\\\\\\\speech emotion recognition\\\\AudioFiles\\\\Actor_07\\\\03-01-03-01-02-01-07.wav',\n",
       " 'D:\\\\nlpcode\\\\Projects\\\\\\\\speech emotion recognition\\\\AudioFiles\\\\Actor_07\\\\03-01-03-01-02-02-07.wav',\n",
       " 'D:\\\\nlpcode\\\\Projects\\\\\\\\speech emotion recognition\\\\AudioFiles\\\\Actor_07\\\\03-01-03-02-01-01-07.wav',\n",
       " 'D:\\\\nlpcode\\\\Projects\\\\\\\\speech emotion recognition\\\\AudioFiles\\\\Actor_07\\\\03-01-03-02-01-02-07.wav',\n",
       " 'D:\\\\nlpcode\\\\Projects\\\\\\\\speech emotion recognition\\\\AudioFiles\\\\Actor_07\\\\03-01-03-02-02-01-07.wav',\n",
       " 'D:\\\\nlpcode\\\\Projects\\\\\\\\speech emotion recognition\\\\AudioFiles\\\\Actor_07\\\\03-01-03-02-02-02-07.wav',\n",
       " 'D:\\\\nlpcode\\\\Projects\\\\\\\\speech emotion recognition\\\\AudioFiles\\\\Actor_07\\\\03-01-04-01-01-01-07.wav',\n",
       " 'D:\\\\nlpcode\\\\Projects\\\\\\\\speech emotion recognition\\\\AudioFiles\\\\Actor_07\\\\03-01-04-01-01-02-07.wav',\n",
       " 'D:\\\\nlpcode\\\\Projects\\\\\\\\speech emotion recognition\\\\AudioFiles\\\\Actor_07\\\\03-01-04-01-02-01-07.wav',\n",
       " 'D:\\\\nlpcode\\\\Projects\\\\\\\\speech emotion recognition\\\\AudioFiles\\\\Actor_07\\\\03-01-04-01-02-02-07.wav',\n",
       " 'D:\\\\nlpcode\\\\Projects\\\\\\\\speech emotion recognition\\\\AudioFiles\\\\Actor_07\\\\03-01-04-02-01-01-07.wav',\n",
       " 'D:\\\\nlpcode\\\\Projects\\\\\\\\speech emotion recognition\\\\AudioFiles\\\\Actor_07\\\\03-01-04-02-01-02-07.wav',\n",
       " 'D:\\\\nlpcode\\\\Projects\\\\\\\\speech emotion recognition\\\\AudioFiles\\\\Actor_07\\\\03-01-04-02-02-01-07.wav',\n",
       " 'D:\\\\nlpcode\\\\Projects\\\\\\\\speech emotion recognition\\\\AudioFiles\\\\Actor_07\\\\03-01-04-02-02-02-07.wav',\n",
       " 'D:\\\\nlpcode\\\\Projects\\\\\\\\speech emotion recognition\\\\AudioFiles\\\\Actor_07\\\\03-01-05-01-01-01-07.wav',\n",
       " 'D:\\\\nlpcode\\\\Projects\\\\\\\\speech emotion recognition\\\\AudioFiles\\\\Actor_07\\\\03-01-05-01-01-02-07.wav',\n",
       " 'D:\\\\nlpcode\\\\Projects\\\\\\\\speech emotion recognition\\\\AudioFiles\\\\Actor_07\\\\03-01-05-01-02-01-07.wav',\n",
       " 'D:\\\\nlpcode\\\\Projects\\\\\\\\speech emotion recognition\\\\AudioFiles\\\\Actor_07\\\\03-01-05-01-02-02-07.wav',\n",
       " 'D:\\\\nlpcode\\\\Projects\\\\\\\\speech emotion recognition\\\\AudioFiles\\\\Actor_07\\\\03-01-05-02-01-01-07.wav',\n",
       " 'D:\\\\nlpcode\\\\Projects\\\\\\\\speech emotion recognition\\\\AudioFiles\\\\Actor_07\\\\03-01-05-02-01-02-07.wav',\n",
       " 'D:\\\\nlpcode\\\\Projects\\\\\\\\speech emotion recognition\\\\AudioFiles\\\\Actor_07\\\\03-01-05-02-02-01-07.wav',\n",
       " 'D:\\\\nlpcode\\\\Projects\\\\\\\\speech emotion recognition\\\\AudioFiles\\\\Actor_07\\\\03-01-05-02-02-02-07.wav',\n",
       " 'D:\\\\nlpcode\\\\Projects\\\\\\\\speech emotion recognition\\\\AudioFiles\\\\Actor_07\\\\03-01-06-01-01-01-07.wav',\n",
       " 'D:\\\\nlpcode\\\\Projects\\\\\\\\speech emotion recognition\\\\AudioFiles\\\\Actor_07\\\\03-01-06-01-01-02-07.wav',\n",
       " 'D:\\\\nlpcode\\\\Projects\\\\\\\\speech emotion recognition\\\\AudioFiles\\\\Actor_07\\\\03-01-06-01-02-01-07.wav',\n",
       " 'D:\\\\nlpcode\\\\Projects\\\\\\\\speech emotion recognition\\\\AudioFiles\\\\Actor_07\\\\03-01-06-01-02-02-07.wav',\n",
       " 'D:\\\\nlpcode\\\\Projects\\\\\\\\speech emotion recognition\\\\AudioFiles\\\\Actor_07\\\\03-01-06-02-01-01-07.wav',\n",
       " 'D:\\\\nlpcode\\\\Projects\\\\\\\\speech emotion recognition\\\\AudioFiles\\\\Actor_07\\\\03-01-06-02-01-02-07.wav',\n",
       " 'D:\\\\nlpcode\\\\Projects\\\\\\\\speech emotion recognition\\\\AudioFiles\\\\Actor_07\\\\03-01-06-02-02-01-07.wav',\n",
       " 'D:\\\\nlpcode\\\\Projects\\\\\\\\speech emotion recognition\\\\AudioFiles\\\\Actor_07\\\\03-01-06-02-02-02-07.wav',\n",
       " 'D:\\\\nlpcode\\\\Projects\\\\\\\\speech emotion recognition\\\\AudioFiles\\\\Actor_07\\\\03-01-07-01-01-01-07.wav',\n",
       " 'D:\\\\nlpcode\\\\Projects\\\\\\\\speech emotion recognition\\\\AudioFiles\\\\Actor_07\\\\03-01-07-01-01-02-07.wav',\n",
       " 'D:\\\\nlpcode\\\\Projects\\\\\\\\speech emotion recognition\\\\AudioFiles\\\\Actor_07\\\\03-01-07-01-02-01-07.wav',\n",
       " 'D:\\\\nlpcode\\\\Projects\\\\\\\\speech emotion recognition\\\\AudioFiles\\\\Actor_07\\\\03-01-07-01-02-02-07.wav',\n",
       " 'D:\\\\nlpcode\\\\Projects\\\\\\\\speech emotion recognition\\\\AudioFiles\\\\Actor_07\\\\03-01-07-02-01-01-07.wav',\n",
       " 'D:\\\\nlpcode\\\\Projects\\\\\\\\speech emotion recognition\\\\AudioFiles\\\\Actor_07\\\\03-01-07-02-01-02-07.wav',\n",
       " 'D:\\\\nlpcode\\\\Projects\\\\\\\\speech emotion recognition\\\\AudioFiles\\\\Actor_07\\\\03-01-07-02-02-01-07.wav',\n",
       " 'D:\\\\nlpcode\\\\Projects\\\\\\\\speech emotion recognition\\\\AudioFiles\\\\Actor_07\\\\03-01-07-02-02-02-07.wav',\n",
       " 'D:\\\\nlpcode\\\\Projects\\\\\\\\speech emotion recognition\\\\AudioFiles\\\\Actor_07\\\\03-01-08-01-01-01-07.wav',\n",
       " 'D:\\\\nlpcode\\\\Projects\\\\\\\\speech emotion recognition\\\\AudioFiles\\\\Actor_07\\\\03-01-08-01-01-02-07.wav',\n",
       " 'D:\\\\nlpcode\\\\Projects\\\\\\\\speech emotion recognition\\\\AudioFiles\\\\Actor_07\\\\03-01-08-01-02-01-07.wav',\n",
       " 'D:\\\\nlpcode\\\\Projects\\\\\\\\speech emotion recognition\\\\AudioFiles\\\\Actor_07\\\\03-01-08-01-02-02-07.wav',\n",
       " 'D:\\\\nlpcode\\\\Projects\\\\\\\\speech emotion recognition\\\\AudioFiles\\\\Actor_07\\\\03-01-08-02-01-01-07.wav',\n",
       " 'D:\\\\nlpcode\\\\Projects\\\\\\\\speech emotion recognition\\\\AudioFiles\\\\Actor_07\\\\03-01-08-02-01-02-07.wav',\n",
       " 'D:\\\\nlpcode\\\\Projects\\\\\\\\speech emotion recognition\\\\AudioFiles\\\\Actor_07\\\\03-01-08-02-02-01-07.wav',\n",
       " 'D:\\\\nlpcode\\\\Projects\\\\\\\\speech emotion recognition\\\\AudioFiles\\\\Actor_07\\\\03-01-08-02-02-02-07.wav',\n",
       " 'D:\\\\nlpcode\\\\Projects\\\\\\\\speech emotion recognition\\\\AudioFiles\\\\Actor_08\\\\03-01-01-01-01-01-08.wav',\n",
       " 'D:\\\\nlpcode\\\\Projects\\\\\\\\speech emotion recognition\\\\AudioFiles\\\\Actor_08\\\\03-01-01-01-01-02-08.wav',\n",
       " 'D:\\\\nlpcode\\\\Projects\\\\\\\\speech emotion recognition\\\\AudioFiles\\\\Actor_08\\\\03-01-01-01-02-01-08.wav',\n",
       " 'D:\\\\nlpcode\\\\Projects\\\\\\\\speech emotion recognition\\\\AudioFiles\\\\Actor_08\\\\03-01-01-01-02-02-08.wav',\n",
       " 'D:\\\\nlpcode\\\\Projects\\\\\\\\speech emotion recognition\\\\AudioFiles\\\\Actor_08\\\\03-01-02-01-01-01-08.wav',\n",
       " 'D:\\\\nlpcode\\\\Projects\\\\\\\\speech emotion recognition\\\\AudioFiles\\\\Actor_08\\\\03-01-02-01-01-02-08.wav',\n",
       " 'D:\\\\nlpcode\\\\Projects\\\\\\\\speech emotion recognition\\\\AudioFiles\\\\Actor_08\\\\03-01-02-01-02-01-08.wav',\n",
       " 'D:\\\\nlpcode\\\\Projects\\\\\\\\speech emotion recognition\\\\AudioFiles\\\\Actor_08\\\\03-01-02-01-02-02-08.wav',\n",
       " 'D:\\\\nlpcode\\\\Projects\\\\\\\\speech emotion recognition\\\\AudioFiles\\\\Actor_08\\\\03-01-02-02-01-01-08.wav',\n",
       " 'D:\\\\nlpcode\\\\Projects\\\\\\\\speech emotion recognition\\\\AudioFiles\\\\Actor_08\\\\03-01-02-02-01-02-08.wav',\n",
       " 'D:\\\\nlpcode\\\\Projects\\\\\\\\speech emotion recognition\\\\AudioFiles\\\\Actor_08\\\\03-01-02-02-02-01-08.wav',\n",
       " 'D:\\\\nlpcode\\\\Projects\\\\\\\\speech emotion recognition\\\\AudioFiles\\\\Actor_08\\\\03-01-02-02-02-02-08.wav',\n",
       " 'D:\\\\nlpcode\\\\Projects\\\\\\\\speech emotion recognition\\\\AudioFiles\\\\Actor_08\\\\03-01-03-01-01-01-08.wav',\n",
       " 'D:\\\\nlpcode\\\\Projects\\\\\\\\speech emotion recognition\\\\AudioFiles\\\\Actor_08\\\\03-01-03-01-01-02-08.wav',\n",
       " 'D:\\\\nlpcode\\\\Projects\\\\\\\\speech emotion recognition\\\\AudioFiles\\\\Actor_08\\\\03-01-03-01-02-01-08.wav',\n",
       " 'D:\\\\nlpcode\\\\Projects\\\\\\\\speech emotion recognition\\\\AudioFiles\\\\Actor_08\\\\03-01-03-01-02-02-08.wav',\n",
       " 'D:\\\\nlpcode\\\\Projects\\\\\\\\speech emotion recognition\\\\AudioFiles\\\\Actor_08\\\\03-01-03-02-01-01-08.wav',\n",
       " 'D:\\\\nlpcode\\\\Projects\\\\\\\\speech emotion recognition\\\\AudioFiles\\\\Actor_08\\\\03-01-03-02-01-02-08.wav',\n",
       " 'D:\\\\nlpcode\\\\Projects\\\\\\\\speech emotion recognition\\\\AudioFiles\\\\Actor_08\\\\03-01-03-02-02-01-08.wav',\n",
       " 'D:\\\\nlpcode\\\\Projects\\\\\\\\speech emotion recognition\\\\AudioFiles\\\\Actor_08\\\\03-01-03-02-02-02-08.wav',\n",
       " 'D:\\\\nlpcode\\\\Projects\\\\\\\\speech emotion recognition\\\\AudioFiles\\\\Actor_08\\\\03-01-04-01-01-01-08.wav',\n",
       " 'D:\\\\nlpcode\\\\Projects\\\\\\\\speech emotion recognition\\\\AudioFiles\\\\Actor_08\\\\03-01-04-01-01-02-08.wav',\n",
       " 'D:\\\\nlpcode\\\\Projects\\\\\\\\speech emotion recognition\\\\AudioFiles\\\\Actor_08\\\\03-01-04-01-02-01-08.wav',\n",
       " 'D:\\\\nlpcode\\\\Projects\\\\\\\\speech emotion recognition\\\\AudioFiles\\\\Actor_08\\\\03-01-04-01-02-02-08.wav',\n",
       " 'D:\\\\nlpcode\\\\Projects\\\\\\\\speech emotion recognition\\\\AudioFiles\\\\Actor_08\\\\03-01-04-02-01-01-08.wav',\n",
       " 'D:\\\\nlpcode\\\\Projects\\\\\\\\speech emotion recognition\\\\AudioFiles\\\\Actor_08\\\\03-01-04-02-01-02-08.wav',\n",
       " 'D:\\\\nlpcode\\\\Projects\\\\\\\\speech emotion recognition\\\\AudioFiles\\\\Actor_08\\\\03-01-04-02-02-01-08.wav',\n",
       " 'D:\\\\nlpcode\\\\Projects\\\\\\\\speech emotion recognition\\\\AudioFiles\\\\Actor_08\\\\03-01-04-02-02-02-08.wav',\n",
       " 'D:\\\\nlpcode\\\\Projects\\\\\\\\speech emotion recognition\\\\AudioFiles\\\\Actor_08\\\\03-01-05-01-01-01-08.wav',\n",
       " 'D:\\\\nlpcode\\\\Projects\\\\\\\\speech emotion recognition\\\\AudioFiles\\\\Actor_08\\\\03-01-05-01-01-02-08.wav',\n",
       " 'D:\\\\nlpcode\\\\Projects\\\\\\\\speech emotion recognition\\\\AudioFiles\\\\Actor_08\\\\03-01-05-01-02-01-08.wav',\n",
       " 'D:\\\\nlpcode\\\\Projects\\\\\\\\speech emotion recognition\\\\AudioFiles\\\\Actor_08\\\\03-01-05-01-02-02-08.wav',\n",
       " 'D:\\\\nlpcode\\\\Projects\\\\\\\\speech emotion recognition\\\\AudioFiles\\\\Actor_08\\\\03-01-05-02-01-01-08.wav',\n",
       " 'D:\\\\nlpcode\\\\Projects\\\\\\\\speech emotion recognition\\\\AudioFiles\\\\Actor_08\\\\03-01-05-02-01-02-08.wav',\n",
       " 'D:\\\\nlpcode\\\\Projects\\\\\\\\speech emotion recognition\\\\AudioFiles\\\\Actor_08\\\\03-01-05-02-02-01-08.wav',\n",
       " 'D:\\\\nlpcode\\\\Projects\\\\\\\\speech emotion recognition\\\\AudioFiles\\\\Actor_08\\\\03-01-05-02-02-02-08.wav',\n",
       " 'D:\\\\nlpcode\\\\Projects\\\\\\\\speech emotion recognition\\\\AudioFiles\\\\Actor_08\\\\03-01-06-01-01-01-08.wav',\n",
       " 'D:\\\\nlpcode\\\\Projects\\\\\\\\speech emotion recognition\\\\AudioFiles\\\\Actor_08\\\\03-01-06-01-01-02-08.wav',\n",
       " 'D:\\\\nlpcode\\\\Projects\\\\\\\\speech emotion recognition\\\\AudioFiles\\\\Actor_08\\\\03-01-06-01-02-01-08.wav',\n",
       " 'D:\\\\nlpcode\\\\Projects\\\\\\\\speech emotion recognition\\\\AudioFiles\\\\Actor_08\\\\03-01-06-01-02-02-08.wav',\n",
       " 'D:\\\\nlpcode\\\\Projects\\\\\\\\speech emotion recognition\\\\AudioFiles\\\\Actor_08\\\\03-01-06-02-01-01-08.wav',\n",
       " 'D:\\\\nlpcode\\\\Projects\\\\\\\\speech emotion recognition\\\\AudioFiles\\\\Actor_08\\\\03-01-06-02-01-02-08.wav',\n",
       " 'D:\\\\nlpcode\\\\Projects\\\\\\\\speech emotion recognition\\\\AudioFiles\\\\Actor_08\\\\03-01-06-02-02-01-08.wav',\n",
       " 'D:\\\\nlpcode\\\\Projects\\\\\\\\speech emotion recognition\\\\AudioFiles\\\\Actor_08\\\\03-01-06-02-02-02-08.wav',\n",
       " 'D:\\\\nlpcode\\\\Projects\\\\\\\\speech emotion recognition\\\\AudioFiles\\\\Actor_08\\\\03-01-07-01-01-01-08.wav',\n",
       " 'D:\\\\nlpcode\\\\Projects\\\\\\\\speech emotion recognition\\\\AudioFiles\\\\Actor_08\\\\03-01-07-01-01-02-08.wav',\n",
       " 'D:\\\\nlpcode\\\\Projects\\\\\\\\speech emotion recognition\\\\AudioFiles\\\\Actor_08\\\\03-01-07-01-02-01-08.wav',\n",
       " 'D:\\\\nlpcode\\\\Projects\\\\\\\\speech emotion recognition\\\\AudioFiles\\\\Actor_08\\\\03-01-07-01-02-02-08.wav',\n",
       " 'D:\\\\nlpcode\\\\Projects\\\\\\\\speech emotion recognition\\\\AudioFiles\\\\Actor_08\\\\03-01-07-02-01-01-08.wav',\n",
       " 'D:\\\\nlpcode\\\\Projects\\\\\\\\speech emotion recognition\\\\AudioFiles\\\\Actor_08\\\\03-01-07-02-01-02-08.wav',\n",
       " 'D:\\\\nlpcode\\\\Projects\\\\\\\\speech emotion recognition\\\\AudioFiles\\\\Actor_08\\\\03-01-07-02-02-01-08.wav',\n",
       " 'D:\\\\nlpcode\\\\Projects\\\\\\\\speech emotion recognition\\\\AudioFiles\\\\Actor_08\\\\03-01-07-02-02-02-08.wav',\n",
       " 'D:\\\\nlpcode\\\\Projects\\\\\\\\speech emotion recognition\\\\AudioFiles\\\\Actor_08\\\\03-01-08-01-01-01-08.wav',\n",
       " 'D:\\\\nlpcode\\\\Projects\\\\\\\\speech emotion recognition\\\\AudioFiles\\\\Actor_08\\\\03-01-08-01-01-02-08.wav',\n",
       " 'D:\\\\nlpcode\\\\Projects\\\\\\\\speech emotion recognition\\\\AudioFiles\\\\Actor_08\\\\03-01-08-01-02-01-08.wav',\n",
       " 'D:\\\\nlpcode\\\\Projects\\\\\\\\speech emotion recognition\\\\AudioFiles\\\\Actor_08\\\\03-01-08-01-02-02-08.wav',\n",
       " 'D:\\\\nlpcode\\\\Projects\\\\\\\\speech emotion recognition\\\\AudioFiles\\\\Actor_08\\\\03-01-08-02-01-01-08.wav',\n",
       " 'D:\\\\nlpcode\\\\Projects\\\\\\\\speech emotion recognition\\\\AudioFiles\\\\Actor_08\\\\03-01-08-02-01-02-08.wav',\n",
       " 'D:\\\\nlpcode\\\\Projects\\\\\\\\speech emotion recognition\\\\AudioFiles\\\\Actor_08\\\\03-01-08-02-02-01-08.wav',\n",
       " 'D:\\\\nlpcode\\\\Projects\\\\\\\\speech emotion recognition\\\\AudioFiles\\\\Actor_08\\\\03-01-08-02-02-02-08.wav',\n",
       " 'D:\\\\nlpcode\\\\Projects\\\\\\\\speech emotion recognition\\\\AudioFiles\\\\Actor_09\\\\03-01-01-01-01-01-09.wav',\n",
       " 'D:\\\\nlpcode\\\\Projects\\\\\\\\speech emotion recognition\\\\AudioFiles\\\\Actor_09\\\\03-01-01-01-01-02-09.wav',\n",
       " 'D:\\\\nlpcode\\\\Projects\\\\\\\\speech emotion recognition\\\\AudioFiles\\\\Actor_09\\\\03-01-01-01-02-01-09.wav',\n",
       " 'D:\\\\nlpcode\\\\Projects\\\\\\\\speech emotion recognition\\\\AudioFiles\\\\Actor_09\\\\03-01-01-01-02-02-09.wav',\n",
       " 'D:\\\\nlpcode\\\\Projects\\\\\\\\speech emotion recognition\\\\AudioFiles\\\\Actor_09\\\\03-01-02-01-01-01-09.wav',\n",
       " 'D:\\\\nlpcode\\\\Projects\\\\\\\\speech emotion recognition\\\\AudioFiles\\\\Actor_09\\\\03-01-02-01-01-02-09.wav',\n",
       " 'D:\\\\nlpcode\\\\Projects\\\\\\\\speech emotion recognition\\\\AudioFiles\\\\Actor_09\\\\03-01-02-01-02-01-09.wav',\n",
       " 'D:\\\\nlpcode\\\\Projects\\\\\\\\speech emotion recognition\\\\AudioFiles\\\\Actor_09\\\\03-01-02-01-02-02-09.wav',\n",
       " 'D:\\\\nlpcode\\\\Projects\\\\\\\\speech emotion recognition\\\\AudioFiles\\\\Actor_09\\\\03-01-02-02-01-01-09.wav',\n",
       " 'D:\\\\nlpcode\\\\Projects\\\\\\\\speech emotion recognition\\\\AudioFiles\\\\Actor_09\\\\03-01-02-02-01-02-09.wav',\n",
       " 'D:\\\\nlpcode\\\\Projects\\\\\\\\speech emotion recognition\\\\AudioFiles\\\\Actor_09\\\\03-01-02-02-02-01-09.wav',\n",
       " 'D:\\\\nlpcode\\\\Projects\\\\\\\\speech emotion recognition\\\\AudioFiles\\\\Actor_09\\\\03-01-02-02-02-02-09.wav',\n",
       " 'D:\\\\nlpcode\\\\Projects\\\\\\\\speech emotion recognition\\\\AudioFiles\\\\Actor_09\\\\03-01-03-01-01-01-09.wav',\n",
       " 'D:\\\\nlpcode\\\\Projects\\\\\\\\speech emotion recognition\\\\AudioFiles\\\\Actor_09\\\\03-01-03-01-01-02-09.wav',\n",
       " 'D:\\\\nlpcode\\\\Projects\\\\\\\\speech emotion recognition\\\\AudioFiles\\\\Actor_09\\\\03-01-03-01-02-01-09.wav',\n",
       " 'D:\\\\nlpcode\\\\Projects\\\\\\\\speech emotion recognition\\\\AudioFiles\\\\Actor_09\\\\03-01-03-01-02-02-09.wav',\n",
       " 'D:\\\\nlpcode\\\\Projects\\\\\\\\speech emotion recognition\\\\AudioFiles\\\\Actor_09\\\\03-01-03-02-01-01-09.wav',\n",
       " 'D:\\\\nlpcode\\\\Projects\\\\\\\\speech emotion recognition\\\\AudioFiles\\\\Actor_09\\\\03-01-03-02-01-02-09.wav',\n",
       " 'D:\\\\nlpcode\\\\Projects\\\\\\\\speech emotion recognition\\\\AudioFiles\\\\Actor_09\\\\03-01-03-02-02-01-09.wav',\n",
       " 'D:\\\\nlpcode\\\\Projects\\\\\\\\speech emotion recognition\\\\AudioFiles\\\\Actor_09\\\\03-01-03-02-02-02-09.wav',\n",
       " 'D:\\\\nlpcode\\\\Projects\\\\\\\\speech emotion recognition\\\\AudioFiles\\\\Actor_09\\\\03-01-04-01-01-01-09.wav',\n",
       " 'D:\\\\nlpcode\\\\Projects\\\\\\\\speech emotion recognition\\\\AudioFiles\\\\Actor_09\\\\03-01-04-01-01-02-09.wav',\n",
       " 'D:\\\\nlpcode\\\\Projects\\\\\\\\speech emotion recognition\\\\AudioFiles\\\\Actor_09\\\\03-01-04-01-02-01-09.wav',\n",
       " 'D:\\\\nlpcode\\\\Projects\\\\\\\\speech emotion recognition\\\\AudioFiles\\\\Actor_09\\\\03-01-04-01-02-02-09.wav',\n",
       " 'D:\\\\nlpcode\\\\Projects\\\\\\\\speech emotion recognition\\\\AudioFiles\\\\Actor_09\\\\03-01-04-02-01-01-09.wav',\n",
       " 'D:\\\\nlpcode\\\\Projects\\\\\\\\speech emotion recognition\\\\AudioFiles\\\\Actor_09\\\\03-01-04-02-01-02-09.wav',\n",
       " 'D:\\\\nlpcode\\\\Projects\\\\\\\\speech emotion recognition\\\\AudioFiles\\\\Actor_09\\\\03-01-04-02-02-01-09.wav',\n",
       " 'D:\\\\nlpcode\\\\Projects\\\\\\\\speech emotion recognition\\\\AudioFiles\\\\Actor_09\\\\03-01-04-02-02-02-09.wav',\n",
       " 'D:\\\\nlpcode\\\\Projects\\\\\\\\speech emotion recognition\\\\AudioFiles\\\\Actor_09\\\\03-01-05-01-01-01-09.wav',\n",
       " 'D:\\\\nlpcode\\\\Projects\\\\\\\\speech emotion recognition\\\\AudioFiles\\\\Actor_09\\\\03-01-05-01-01-02-09.wav',\n",
       " 'D:\\\\nlpcode\\\\Projects\\\\\\\\speech emotion recognition\\\\AudioFiles\\\\Actor_09\\\\03-01-05-01-02-01-09.wav',\n",
       " 'D:\\\\nlpcode\\\\Projects\\\\\\\\speech emotion recognition\\\\AudioFiles\\\\Actor_09\\\\03-01-05-01-02-02-09.wav',\n",
       " 'D:\\\\nlpcode\\\\Projects\\\\\\\\speech emotion recognition\\\\AudioFiles\\\\Actor_09\\\\03-01-05-02-01-01-09.wav',\n",
       " 'D:\\\\nlpcode\\\\Projects\\\\\\\\speech emotion recognition\\\\AudioFiles\\\\Actor_09\\\\03-01-05-02-01-02-09.wav',\n",
       " 'D:\\\\nlpcode\\\\Projects\\\\\\\\speech emotion recognition\\\\AudioFiles\\\\Actor_09\\\\03-01-05-02-02-01-09.wav',\n",
       " 'D:\\\\nlpcode\\\\Projects\\\\\\\\speech emotion recognition\\\\AudioFiles\\\\Actor_09\\\\03-01-05-02-02-02-09.wav',\n",
       " 'D:\\\\nlpcode\\\\Projects\\\\\\\\speech emotion recognition\\\\AudioFiles\\\\Actor_09\\\\03-01-06-01-01-01-09.wav',\n",
       " 'D:\\\\nlpcode\\\\Projects\\\\\\\\speech emotion recognition\\\\AudioFiles\\\\Actor_09\\\\03-01-06-01-01-02-09.wav',\n",
       " 'D:\\\\nlpcode\\\\Projects\\\\\\\\speech emotion recognition\\\\AudioFiles\\\\Actor_09\\\\03-01-06-01-02-01-09.wav',\n",
       " 'D:\\\\nlpcode\\\\Projects\\\\\\\\speech emotion recognition\\\\AudioFiles\\\\Actor_09\\\\03-01-06-01-02-02-09.wav',\n",
       " 'D:\\\\nlpcode\\\\Projects\\\\\\\\speech emotion recognition\\\\AudioFiles\\\\Actor_09\\\\03-01-06-02-01-01-09.wav',\n",
       " 'D:\\\\nlpcode\\\\Projects\\\\\\\\speech emotion recognition\\\\AudioFiles\\\\Actor_09\\\\03-01-06-02-01-02-09.wav',\n",
       " 'D:\\\\nlpcode\\\\Projects\\\\\\\\speech emotion recognition\\\\AudioFiles\\\\Actor_09\\\\03-01-06-02-02-01-09.wav',\n",
       " 'D:\\\\nlpcode\\\\Projects\\\\\\\\speech emotion recognition\\\\AudioFiles\\\\Actor_09\\\\03-01-06-02-02-02-09.wav',\n",
       " 'D:\\\\nlpcode\\\\Projects\\\\\\\\speech emotion recognition\\\\AudioFiles\\\\Actor_09\\\\03-01-07-01-01-01-09.wav',\n",
       " 'D:\\\\nlpcode\\\\Projects\\\\\\\\speech emotion recognition\\\\AudioFiles\\\\Actor_09\\\\03-01-07-01-01-02-09.wav',\n",
       " 'D:\\\\nlpcode\\\\Projects\\\\\\\\speech emotion recognition\\\\AudioFiles\\\\Actor_09\\\\03-01-07-01-02-01-09.wav',\n",
       " 'D:\\\\nlpcode\\\\Projects\\\\\\\\speech emotion recognition\\\\AudioFiles\\\\Actor_09\\\\03-01-07-01-02-02-09.wav',\n",
       " 'D:\\\\nlpcode\\\\Projects\\\\\\\\speech emotion recognition\\\\AudioFiles\\\\Actor_09\\\\03-01-07-02-01-01-09.wav',\n",
       " 'D:\\\\nlpcode\\\\Projects\\\\\\\\speech emotion recognition\\\\AudioFiles\\\\Actor_09\\\\03-01-07-02-01-02-09.wav',\n",
       " 'D:\\\\nlpcode\\\\Projects\\\\\\\\speech emotion recognition\\\\AudioFiles\\\\Actor_09\\\\03-01-07-02-02-01-09.wav',\n",
       " 'D:\\\\nlpcode\\\\Projects\\\\\\\\speech emotion recognition\\\\AudioFiles\\\\Actor_09\\\\03-01-07-02-02-02-09.wav',\n",
       " 'D:\\\\nlpcode\\\\Projects\\\\\\\\speech emotion recognition\\\\AudioFiles\\\\Actor_09\\\\03-01-08-01-01-01-09.wav',\n",
       " 'D:\\\\nlpcode\\\\Projects\\\\\\\\speech emotion recognition\\\\AudioFiles\\\\Actor_09\\\\03-01-08-01-01-02-09.wav',\n",
       " 'D:\\\\nlpcode\\\\Projects\\\\\\\\speech emotion recognition\\\\AudioFiles\\\\Actor_09\\\\03-01-08-01-02-01-09.wav',\n",
       " 'D:\\\\nlpcode\\\\Projects\\\\\\\\speech emotion recognition\\\\AudioFiles\\\\Actor_09\\\\03-01-08-01-02-02-09.wav',\n",
       " 'D:\\\\nlpcode\\\\Projects\\\\\\\\speech emotion recognition\\\\AudioFiles\\\\Actor_09\\\\03-01-08-02-01-01-09.wav',\n",
       " 'D:\\\\nlpcode\\\\Projects\\\\\\\\speech emotion recognition\\\\AudioFiles\\\\Actor_09\\\\03-01-08-02-01-02-09.wav',\n",
       " 'D:\\\\nlpcode\\\\Projects\\\\\\\\speech emotion recognition\\\\AudioFiles\\\\Actor_09\\\\03-01-08-02-02-01-09.wav',\n",
       " 'D:\\\\nlpcode\\\\Projects\\\\\\\\speech emotion recognition\\\\AudioFiles\\\\Actor_09\\\\03-01-08-02-02-02-09.wav',\n",
       " 'D:\\\\nlpcode\\\\Projects\\\\\\\\speech emotion recognition\\\\AudioFiles\\\\Actor_10\\\\03-01-01-01-01-01-10.wav',\n",
       " 'D:\\\\nlpcode\\\\Projects\\\\\\\\speech emotion recognition\\\\AudioFiles\\\\Actor_10\\\\03-01-01-01-01-02-10.wav',\n",
       " 'D:\\\\nlpcode\\\\Projects\\\\\\\\speech emotion recognition\\\\AudioFiles\\\\Actor_10\\\\03-01-01-01-02-01-10.wav',\n",
       " 'D:\\\\nlpcode\\\\Projects\\\\\\\\speech emotion recognition\\\\AudioFiles\\\\Actor_10\\\\03-01-01-01-02-02-10.wav',\n",
       " 'D:\\\\nlpcode\\\\Projects\\\\\\\\speech emotion recognition\\\\AudioFiles\\\\Actor_10\\\\03-01-02-01-01-01-10.wav',\n",
       " 'D:\\\\nlpcode\\\\Projects\\\\\\\\speech emotion recognition\\\\AudioFiles\\\\Actor_10\\\\03-01-02-01-01-02-10.wav',\n",
       " 'D:\\\\nlpcode\\\\Projects\\\\\\\\speech emotion recognition\\\\AudioFiles\\\\Actor_10\\\\03-01-02-01-02-01-10.wav',\n",
       " 'D:\\\\nlpcode\\\\Projects\\\\\\\\speech emotion recognition\\\\AudioFiles\\\\Actor_10\\\\03-01-02-01-02-02-10.wav',\n",
       " 'D:\\\\nlpcode\\\\Projects\\\\\\\\speech emotion recognition\\\\AudioFiles\\\\Actor_10\\\\03-01-02-02-01-01-10.wav',\n",
       " 'D:\\\\nlpcode\\\\Projects\\\\\\\\speech emotion recognition\\\\AudioFiles\\\\Actor_10\\\\03-01-02-02-01-02-10.wav',\n",
       " 'D:\\\\nlpcode\\\\Projects\\\\\\\\speech emotion recognition\\\\AudioFiles\\\\Actor_10\\\\03-01-02-02-02-01-10.wav',\n",
       " 'D:\\\\nlpcode\\\\Projects\\\\\\\\speech emotion recognition\\\\AudioFiles\\\\Actor_10\\\\03-01-02-02-02-02-10.wav',\n",
       " 'D:\\\\nlpcode\\\\Projects\\\\\\\\speech emotion recognition\\\\AudioFiles\\\\Actor_10\\\\03-01-03-01-01-01-10.wav',\n",
       " 'D:\\\\nlpcode\\\\Projects\\\\\\\\speech emotion recognition\\\\AudioFiles\\\\Actor_10\\\\03-01-03-01-01-02-10.wav',\n",
       " 'D:\\\\nlpcode\\\\Projects\\\\\\\\speech emotion recognition\\\\AudioFiles\\\\Actor_10\\\\03-01-03-01-02-01-10.wav',\n",
       " 'D:\\\\nlpcode\\\\Projects\\\\\\\\speech emotion recognition\\\\AudioFiles\\\\Actor_10\\\\03-01-03-01-02-02-10.wav',\n",
       " 'D:\\\\nlpcode\\\\Projects\\\\\\\\speech emotion recognition\\\\AudioFiles\\\\Actor_10\\\\03-01-03-02-01-01-10.wav',\n",
       " 'D:\\\\nlpcode\\\\Projects\\\\\\\\speech emotion recognition\\\\AudioFiles\\\\Actor_10\\\\03-01-03-02-01-02-10.wav',\n",
       " 'D:\\\\nlpcode\\\\Projects\\\\\\\\speech emotion recognition\\\\AudioFiles\\\\Actor_10\\\\03-01-03-02-02-01-10.wav',\n",
       " 'D:\\\\nlpcode\\\\Projects\\\\\\\\speech emotion recognition\\\\AudioFiles\\\\Actor_10\\\\03-01-03-02-02-02-10.wav',\n",
       " 'D:\\\\nlpcode\\\\Projects\\\\\\\\speech emotion recognition\\\\AudioFiles\\\\Actor_10\\\\03-01-04-01-01-01-10.wav',\n",
       " 'D:\\\\nlpcode\\\\Projects\\\\\\\\speech emotion recognition\\\\AudioFiles\\\\Actor_10\\\\03-01-04-01-01-02-10.wav',\n",
       " 'D:\\\\nlpcode\\\\Projects\\\\\\\\speech emotion recognition\\\\AudioFiles\\\\Actor_10\\\\03-01-04-01-02-01-10.wav',\n",
       " 'D:\\\\nlpcode\\\\Projects\\\\\\\\speech emotion recognition\\\\AudioFiles\\\\Actor_10\\\\03-01-04-01-02-02-10.wav',\n",
       " 'D:\\\\nlpcode\\\\Projects\\\\\\\\speech emotion recognition\\\\AudioFiles\\\\Actor_10\\\\03-01-04-02-01-01-10.wav',\n",
       " 'D:\\\\nlpcode\\\\Projects\\\\\\\\speech emotion recognition\\\\AudioFiles\\\\Actor_10\\\\03-01-04-02-01-02-10.wav',\n",
       " 'D:\\\\nlpcode\\\\Projects\\\\\\\\speech emotion recognition\\\\AudioFiles\\\\Actor_10\\\\03-01-04-02-02-01-10.wav',\n",
       " 'D:\\\\nlpcode\\\\Projects\\\\\\\\speech emotion recognition\\\\AudioFiles\\\\Actor_10\\\\03-01-04-02-02-02-10.wav',\n",
       " 'D:\\\\nlpcode\\\\Projects\\\\\\\\speech emotion recognition\\\\AudioFiles\\\\Actor_10\\\\03-01-05-01-01-01-10.wav',\n",
       " 'D:\\\\nlpcode\\\\Projects\\\\\\\\speech emotion recognition\\\\AudioFiles\\\\Actor_10\\\\03-01-05-01-01-02-10.wav',\n",
       " 'D:\\\\nlpcode\\\\Projects\\\\\\\\speech emotion recognition\\\\AudioFiles\\\\Actor_10\\\\03-01-05-01-02-01-10.wav',\n",
       " 'D:\\\\nlpcode\\\\Projects\\\\\\\\speech emotion recognition\\\\AudioFiles\\\\Actor_10\\\\03-01-05-01-02-02-10.wav',\n",
       " 'D:\\\\nlpcode\\\\Projects\\\\\\\\speech emotion recognition\\\\AudioFiles\\\\Actor_10\\\\03-01-05-02-01-01-10.wav',\n",
       " 'D:\\\\nlpcode\\\\Projects\\\\\\\\speech emotion recognition\\\\AudioFiles\\\\Actor_10\\\\03-01-05-02-01-02-10.wav',\n",
       " 'D:\\\\nlpcode\\\\Projects\\\\\\\\speech emotion recognition\\\\AudioFiles\\\\Actor_10\\\\03-01-05-02-02-01-10.wav',\n",
       " 'D:\\\\nlpcode\\\\Projects\\\\\\\\speech emotion recognition\\\\AudioFiles\\\\Actor_10\\\\03-01-05-02-02-02-10.wav',\n",
       " 'D:\\\\nlpcode\\\\Projects\\\\\\\\speech emotion recognition\\\\AudioFiles\\\\Actor_10\\\\03-01-06-01-01-01-10.wav',\n",
       " 'D:\\\\nlpcode\\\\Projects\\\\\\\\speech emotion recognition\\\\AudioFiles\\\\Actor_10\\\\03-01-06-01-01-02-10.wav',\n",
       " 'D:\\\\nlpcode\\\\Projects\\\\\\\\speech emotion recognition\\\\AudioFiles\\\\Actor_10\\\\03-01-06-01-02-01-10.wav',\n",
       " 'D:\\\\nlpcode\\\\Projects\\\\\\\\speech emotion recognition\\\\AudioFiles\\\\Actor_10\\\\03-01-06-01-02-02-10.wav',\n",
       " 'D:\\\\nlpcode\\\\Projects\\\\\\\\speech emotion recognition\\\\AudioFiles\\\\Actor_10\\\\03-01-06-02-01-01-10.wav',\n",
       " 'D:\\\\nlpcode\\\\Projects\\\\\\\\speech emotion recognition\\\\AudioFiles\\\\Actor_10\\\\03-01-06-02-01-02-10.wav',\n",
       " 'D:\\\\nlpcode\\\\Projects\\\\\\\\speech emotion recognition\\\\AudioFiles\\\\Actor_10\\\\03-01-06-02-02-01-10.wav',\n",
       " 'D:\\\\nlpcode\\\\Projects\\\\\\\\speech emotion recognition\\\\AudioFiles\\\\Actor_10\\\\03-01-06-02-02-02-10.wav',\n",
       " 'D:\\\\nlpcode\\\\Projects\\\\\\\\speech emotion recognition\\\\AudioFiles\\\\Actor_10\\\\03-01-07-01-01-01-10.wav',\n",
       " 'D:\\\\nlpcode\\\\Projects\\\\\\\\speech emotion recognition\\\\AudioFiles\\\\Actor_10\\\\03-01-07-01-01-02-10.wav',\n",
       " 'D:\\\\nlpcode\\\\Projects\\\\\\\\speech emotion recognition\\\\AudioFiles\\\\Actor_10\\\\03-01-07-01-02-01-10.wav',\n",
       " 'D:\\\\nlpcode\\\\Projects\\\\\\\\speech emotion recognition\\\\AudioFiles\\\\Actor_10\\\\03-01-07-01-02-02-10.wav',\n",
       " 'D:\\\\nlpcode\\\\Projects\\\\\\\\speech emotion recognition\\\\AudioFiles\\\\Actor_10\\\\03-01-07-02-01-01-10.wav',\n",
       " 'D:\\\\nlpcode\\\\Projects\\\\\\\\speech emotion recognition\\\\AudioFiles\\\\Actor_10\\\\03-01-07-02-01-02-10.wav',\n",
       " 'D:\\\\nlpcode\\\\Projects\\\\\\\\speech emotion recognition\\\\AudioFiles\\\\Actor_10\\\\03-01-07-02-02-01-10.wav',\n",
       " 'D:\\\\nlpcode\\\\Projects\\\\\\\\speech emotion recognition\\\\AudioFiles\\\\Actor_10\\\\03-01-07-02-02-02-10.wav',\n",
       " 'D:\\\\nlpcode\\\\Projects\\\\\\\\speech emotion recognition\\\\AudioFiles\\\\Actor_10\\\\03-01-08-01-01-01-10.wav',\n",
       " 'D:\\\\nlpcode\\\\Projects\\\\\\\\speech emotion recognition\\\\AudioFiles\\\\Actor_10\\\\03-01-08-01-01-02-10.wav',\n",
       " 'D:\\\\nlpcode\\\\Projects\\\\\\\\speech emotion recognition\\\\AudioFiles\\\\Actor_10\\\\03-01-08-01-02-01-10.wav',\n",
       " 'D:\\\\nlpcode\\\\Projects\\\\\\\\speech emotion recognition\\\\AudioFiles\\\\Actor_10\\\\03-01-08-01-02-02-10.wav',\n",
       " 'D:\\\\nlpcode\\\\Projects\\\\\\\\speech emotion recognition\\\\AudioFiles\\\\Actor_10\\\\03-01-08-02-01-01-10.wav',\n",
       " 'D:\\\\nlpcode\\\\Projects\\\\\\\\speech emotion recognition\\\\AudioFiles\\\\Actor_10\\\\03-01-08-02-01-02-10.wav',\n",
       " 'D:\\\\nlpcode\\\\Projects\\\\\\\\speech emotion recognition\\\\AudioFiles\\\\Actor_10\\\\03-01-08-02-02-01-10.wav',\n",
       " 'D:\\\\nlpcode\\\\Projects\\\\\\\\speech emotion recognition\\\\AudioFiles\\\\Actor_10\\\\03-01-08-02-02-02-10.wav',\n",
       " 'D:\\\\nlpcode\\\\Projects\\\\\\\\speech emotion recognition\\\\AudioFiles\\\\Actor_11\\\\03-01-01-01-01-01-11.wav',\n",
       " 'D:\\\\nlpcode\\\\Projects\\\\\\\\speech emotion recognition\\\\AudioFiles\\\\Actor_11\\\\03-01-01-01-01-02-11.wav',\n",
       " 'D:\\\\nlpcode\\\\Projects\\\\\\\\speech emotion recognition\\\\AudioFiles\\\\Actor_11\\\\03-01-01-01-02-01-11.wav',\n",
       " 'D:\\\\nlpcode\\\\Projects\\\\\\\\speech emotion recognition\\\\AudioFiles\\\\Actor_11\\\\03-01-01-01-02-02-11.wav',\n",
       " 'D:\\\\nlpcode\\\\Projects\\\\\\\\speech emotion recognition\\\\AudioFiles\\\\Actor_11\\\\03-01-02-01-01-01-11.wav',\n",
       " 'D:\\\\nlpcode\\\\Projects\\\\\\\\speech emotion recognition\\\\AudioFiles\\\\Actor_11\\\\03-01-02-01-01-02-11.wav',\n",
       " 'D:\\\\nlpcode\\\\Projects\\\\\\\\speech emotion recognition\\\\AudioFiles\\\\Actor_11\\\\03-01-02-01-02-01-11.wav',\n",
       " 'D:\\\\nlpcode\\\\Projects\\\\\\\\speech emotion recognition\\\\AudioFiles\\\\Actor_11\\\\03-01-02-01-02-02-11.wav',\n",
       " 'D:\\\\nlpcode\\\\Projects\\\\\\\\speech emotion recognition\\\\AudioFiles\\\\Actor_11\\\\03-01-02-02-01-01-11.wav',\n",
       " 'D:\\\\nlpcode\\\\Projects\\\\\\\\speech emotion recognition\\\\AudioFiles\\\\Actor_11\\\\03-01-02-02-01-02-11.wav',\n",
       " 'D:\\\\nlpcode\\\\Projects\\\\\\\\speech emotion recognition\\\\AudioFiles\\\\Actor_11\\\\03-01-02-02-02-01-11.wav',\n",
       " 'D:\\\\nlpcode\\\\Projects\\\\\\\\speech emotion recognition\\\\AudioFiles\\\\Actor_11\\\\03-01-02-02-02-02-11.wav',\n",
       " 'D:\\\\nlpcode\\\\Projects\\\\\\\\speech emotion recognition\\\\AudioFiles\\\\Actor_11\\\\03-01-03-01-01-01-11.wav',\n",
       " 'D:\\\\nlpcode\\\\Projects\\\\\\\\speech emotion recognition\\\\AudioFiles\\\\Actor_11\\\\03-01-03-01-01-02-11.wav',\n",
       " 'D:\\\\nlpcode\\\\Projects\\\\\\\\speech emotion recognition\\\\AudioFiles\\\\Actor_11\\\\03-01-03-01-02-01-11.wav',\n",
       " 'D:\\\\nlpcode\\\\Projects\\\\\\\\speech emotion recognition\\\\AudioFiles\\\\Actor_11\\\\03-01-03-01-02-02-11.wav',\n",
       " 'D:\\\\nlpcode\\\\Projects\\\\\\\\speech emotion recognition\\\\AudioFiles\\\\Actor_11\\\\03-01-03-02-01-01-11.wav',\n",
       " 'D:\\\\nlpcode\\\\Projects\\\\\\\\speech emotion recognition\\\\AudioFiles\\\\Actor_11\\\\03-01-03-02-01-02-11.wav',\n",
       " 'D:\\\\nlpcode\\\\Projects\\\\\\\\speech emotion recognition\\\\AudioFiles\\\\Actor_11\\\\03-01-03-02-02-01-11.wav',\n",
       " 'D:\\\\nlpcode\\\\Projects\\\\\\\\speech emotion recognition\\\\AudioFiles\\\\Actor_11\\\\03-01-03-02-02-02-11.wav',\n",
       " 'D:\\\\nlpcode\\\\Projects\\\\\\\\speech emotion recognition\\\\AudioFiles\\\\Actor_11\\\\03-01-04-01-01-01-11.wav',\n",
       " 'D:\\\\nlpcode\\\\Projects\\\\\\\\speech emotion recognition\\\\AudioFiles\\\\Actor_11\\\\03-01-04-01-01-02-11.wav',\n",
       " 'D:\\\\nlpcode\\\\Projects\\\\\\\\speech emotion recognition\\\\AudioFiles\\\\Actor_11\\\\03-01-04-01-02-01-11.wav',\n",
       " 'D:\\\\nlpcode\\\\Projects\\\\\\\\speech emotion recognition\\\\AudioFiles\\\\Actor_11\\\\03-01-04-01-02-02-11.wav',\n",
       " 'D:\\\\nlpcode\\\\Projects\\\\\\\\speech emotion recognition\\\\AudioFiles\\\\Actor_11\\\\03-01-04-02-01-01-11.wav',\n",
       " 'D:\\\\nlpcode\\\\Projects\\\\\\\\speech emotion recognition\\\\AudioFiles\\\\Actor_11\\\\03-01-04-02-01-02-11.wav',\n",
       " 'D:\\\\nlpcode\\\\Projects\\\\\\\\speech emotion recognition\\\\AudioFiles\\\\Actor_11\\\\03-01-04-02-02-01-11.wav',\n",
       " 'D:\\\\nlpcode\\\\Projects\\\\\\\\speech emotion recognition\\\\AudioFiles\\\\Actor_11\\\\03-01-04-02-02-02-11.wav',\n",
       " 'D:\\\\nlpcode\\\\Projects\\\\\\\\speech emotion recognition\\\\AudioFiles\\\\Actor_11\\\\03-01-05-01-01-01-11.wav',\n",
       " 'D:\\\\nlpcode\\\\Projects\\\\\\\\speech emotion recognition\\\\AudioFiles\\\\Actor_11\\\\03-01-05-01-01-02-11.wav',\n",
       " 'D:\\\\nlpcode\\\\Projects\\\\\\\\speech emotion recognition\\\\AudioFiles\\\\Actor_11\\\\03-01-05-01-02-01-11.wav',\n",
       " 'D:\\\\nlpcode\\\\Projects\\\\\\\\speech emotion recognition\\\\AudioFiles\\\\Actor_11\\\\03-01-05-01-02-02-11.wav',\n",
       " 'D:\\\\nlpcode\\\\Projects\\\\\\\\speech emotion recognition\\\\AudioFiles\\\\Actor_11\\\\03-01-05-02-01-01-11.wav',\n",
       " 'D:\\\\nlpcode\\\\Projects\\\\\\\\speech emotion recognition\\\\AudioFiles\\\\Actor_11\\\\03-01-05-02-01-02-11.wav',\n",
       " 'D:\\\\nlpcode\\\\Projects\\\\\\\\speech emotion recognition\\\\AudioFiles\\\\Actor_11\\\\03-01-05-02-02-01-11.wav',\n",
       " 'D:\\\\nlpcode\\\\Projects\\\\\\\\speech emotion recognition\\\\AudioFiles\\\\Actor_11\\\\03-01-05-02-02-02-11.wav',\n",
       " 'D:\\\\nlpcode\\\\Projects\\\\\\\\speech emotion recognition\\\\AudioFiles\\\\Actor_11\\\\03-01-06-01-01-01-11.wav',\n",
       " 'D:\\\\nlpcode\\\\Projects\\\\\\\\speech emotion recognition\\\\AudioFiles\\\\Actor_11\\\\03-01-06-01-01-02-11.wav',\n",
       " 'D:\\\\nlpcode\\\\Projects\\\\\\\\speech emotion recognition\\\\AudioFiles\\\\Actor_11\\\\03-01-06-01-02-01-11.wav',\n",
       " 'D:\\\\nlpcode\\\\Projects\\\\\\\\speech emotion recognition\\\\AudioFiles\\\\Actor_11\\\\03-01-06-01-02-02-11.wav',\n",
       " 'D:\\\\nlpcode\\\\Projects\\\\\\\\speech emotion recognition\\\\AudioFiles\\\\Actor_11\\\\03-01-06-02-01-01-11.wav',\n",
       " 'D:\\\\nlpcode\\\\Projects\\\\\\\\speech emotion recognition\\\\AudioFiles\\\\Actor_11\\\\03-01-06-02-01-02-11.wav',\n",
       " 'D:\\\\nlpcode\\\\Projects\\\\\\\\speech emotion recognition\\\\AudioFiles\\\\Actor_11\\\\03-01-06-02-02-01-11.wav',\n",
       " 'D:\\\\nlpcode\\\\Projects\\\\\\\\speech emotion recognition\\\\AudioFiles\\\\Actor_11\\\\03-01-06-02-02-02-11.wav',\n",
       " 'D:\\\\nlpcode\\\\Projects\\\\\\\\speech emotion recognition\\\\AudioFiles\\\\Actor_11\\\\03-01-07-01-01-01-11.wav',\n",
       " 'D:\\\\nlpcode\\\\Projects\\\\\\\\speech emotion recognition\\\\AudioFiles\\\\Actor_11\\\\03-01-07-01-01-02-11.wav',\n",
       " 'D:\\\\nlpcode\\\\Projects\\\\\\\\speech emotion recognition\\\\AudioFiles\\\\Actor_11\\\\03-01-07-01-02-01-11.wav',\n",
       " 'D:\\\\nlpcode\\\\Projects\\\\\\\\speech emotion recognition\\\\AudioFiles\\\\Actor_11\\\\03-01-07-01-02-02-11.wav',\n",
       " 'D:\\\\nlpcode\\\\Projects\\\\\\\\speech emotion recognition\\\\AudioFiles\\\\Actor_11\\\\03-01-07-02-01-01-11.wav',\n",
       " 'D:\\\\nlpcode\\\\Projects\\\\\\\\speech emotion recognition\\\\AudioFiles\\\\Actor_11\\\\03-01-07-02-01-02-11.wav',\n",
       " 'D:\\\\nlpcode\\\\Projects\\\\\\\\speech emotion recognition\\\\AudioFiles\\\\Actor_11\\\\03-01-07-02-02-01-11.wav',\n",
       " 'D:\\\\nlpcode\\\\Projects\\\\\\\\speech emotion recognition\\\\AudioFiles\\\\Actor_11\\\\03-01-07-02-02-02-11.wav',\n",
       " 'D:\\\\nlpcode\\\\Projects\\\\\\\\speech emotion recognition\\\\AudioFiles\\\\Actor_11\\\\03-01-08-01-01-01-11.wav',\n",
       " 'D:\\\\nlpcode\\\\Projects\\\\\\\\speech emotion recognition\\\\AudioFiles\\\\Actor_11\\\\03-01-08-01-01-02-11.wav',\n",
       " 'D:\\\\nlpcode\\\\Projects\\\\\\\\speech emotion recognition\\\\AudioFiles\\\\Actor_11\\\\03-01-08-01-02-01-11.wav',\n",
       " 'D:\\\\nlpcode\\\\Projects\\\\\\\\speech emotion recognition\\\\AudioFiles\\\\Actor_11\\\\03-01-08-01-02-02-11.wav',\n",
       " 'D:\\\\nlpcode\\\\Projects\\\\\\\\speech emotion recognition\\\\AudioFiles\\\\Actor_11\\\\03-01-08-02-01-01-11.wav',\n",
       " 'D:\\\\nlpcode\\\\Projects\\\\\\\\speech emotion recognition\\\\AudioFiles\\\\Actor_11\\\\03-01-08-02-01-02-11.wav',\n",
       " 'D:\\\\nlpcode\\\\Projects\\\\\\\\speech emotion recognition\\\\AudioFiles\\\\Actor_11\\\\03-01-08-02-02-01-11.wav',\n",
       " 'D:\\\\nlpcode\\\\Projects\\\\\\\\speech emotion recognition\\\\AudioFiles\\\\Actor_11\\\\03-01-08-02-02-02-11.wav',\n",
       " 'D:\\\\nlpcode\\\\Projects\\\\\\\\speech emotion recognition\\\\AudioFiles\\\\Actor_12\\\\03-01-01-01-01-01-12.wav',\n",
       " 'D:\\\\nlpcode\\\\Projects\\\\\\\\speech emotion recognition\\\\AudioFiles\\\\Actor_12\\\\03-01-01-01-01-02-12.wav',\n",
       " 'D:\\\\nlpcode\\\\Projects\\\\\\\\speech emotion recognition\\\\AudioFiles\\\\Actor_12\\\\03-01-01-01-02-01-12.wav',\n",
       " 'D:\\\\nlpcode\\\\Projects\\\\\\\\speech emotion recognition\\\\AudioFiles\\\\Actor_12\\\\03-01-01-01-02-02-12.wav',\n",
       " 'D:\\\\nlpcode\\\\Projects\\\\\\\\speech emotion recognition\\\\AudioFiles\\\\Actor_12\\\\03-01-02-01-01-01-12.wav',\n",
       " 'D:\\\\nlpcode\\\\Projects\\\\\\\\speech emotion recognition\\\\AudioFiles\\\\Actor_12\\\\03-01-02-01-01-02-12.wav',\n",
       " 'D:\\\\nlpcode\\\\Projects\\\\\\\\speech emotion recognition\\\\AudioFiles\\\\Actor_12\\\\03-01-02-01-02-01-12.wav',\n",
       " 'D:\\\\nlpcode\\\\Projects\\\\\\\\speech emotion recognition\\\\AudioFiles\\\\Actor_12\\\\03-01-02-01-02-02-12.wav',\n",
       " 'D:\\\\nlpcode\\\\Projects\\\\\\\\speech emotion recognition\\\\AudioFiles\\\\Actor_12\\\\03-01-02-02-01-01-12.wav',\n",
       " 'D:\\\\nlpcode\\\\Projects\\\\\\\\speech emotion recognition\\\\AudioFiles\\\\Actor_12\\\\03-01-02-02-01-02-12.wav',\n",
       " 'D:\\\\nlpcode\\\\Projects\\\\\\\\speech emotion recognition\\\\AudioFiles\\\\Actor_12\\\\03-01-02-02-02-01-12.wav',\n",
       " 'D:\\\\nlpcode\\\\Projects\\\\\\\\speech emotion recognition\\\\AudioFiles\\\\Actor_12\\\\03-01-02-02-02-02-12.wav',\n",
       " 'D:\\\\nlpcode\\\\Projects\\\\\\\\speech emotion recognition\\\\AudioFiles\\\\Actor_12\\\\03-01-03-01-01-01-12.wav',\n",
       " 'D:\\\\nlpcode\\\\Projects\\\\\\\\speech emotion recognition\\\\AudioFiles\\\\Actor_12\\\\03-01-03-01-01-02-12.wav',\n",
       " 'D:\\\\nlpcode\\\\Projects\\\\\\\\speech emotion recognition\\\\AudioFiles\\\\Actor_12\\\\03-01-03-01-02-01-12.wav',\n",
       " 'D:\\\\nlpcode\\\\Projects\\\\\\\\speech emotion recognition\\\\AudioFiles\\\\Actor_12\\\\03-01-03-01-02-02-12.wav',\n",
       " 'D:\\\\nlpcode\\\\Projects\\\\\\\\speech emotion recognition\\\\AudioFiles\\\\Actor_12\\\\03-01-03-02-01-01-12.wav',\n",
       " 'D:\\\\nlpcode\\\\Projects\\\\\\\\speech emotion recognition\\\\AudioFiles\\\\Actor_12\\\\03-01-03-02-01-02-12.wav',\n",
       " 'D:\\\\nlpcode\\\\Projects\\\\\\\\speech emotion recognition\\\\AudioFiles\\\\Actor_12\\\\03-01-03-02-02-01-12.wav',\n",
       " 'D:\\\\nlpcode\\\\Projects\\\\\\\\speech emotion recognition\\\\AudioFiles\\\\Actor_12\\\\03-01-03-02-02-02-12.wav',\n",
       " 'D:\\\\nlpcode\\\\Projects\\\\\\\\speech emotion recognition\\\\AudioFiles\\\\Actor_12\\\\03-01-04-01-01-01-12.wav',\n",
       " 'D:\\\\nlpcode\\\\Projects\\\\\\\\speech emotion recognition\\\\AudioFiles\\\\Actor_12\\\\03-01-04-01-01-02-12.wav',\n",
       " 'D:\\\\nlpcode\\\\Projects\\\\\\\\speech emotion recognition\\\\AudioFiles\\\\Actor_12\\\\03-01-04-01-02-01-12.wav',\n",
       " 'D:\\\\nlpcode\\\\Projects\\\\\\\\speech emotion recognition\\\\AudioFiles\\\\Actor_12\\\\03-01-04-01-02-02-12.wav',\n",
       " 'D:\\\\nlpcode\\\\Projects\\\\\\\\speech emotion recognition\\\\AudioFiles\\\\Actor_12\\\\03-01-04-02-01-01-12.wav',\n",
       " 'D:\\\\nlpcode\\\\Projects\\\\\\\\speech emotion recognition\\\\AudioFiles\\\\Actor_12\\\\03-01-04-02-01-02-12.wav',\n",
       " 'D:\\\\nlpcode\\\\Projects\\\\\\\\speech emotion recognition\\\\AudioFiles\\\\Actor_12\\\\03-01-04-02-02-01-12.wav',\n",
       " 'D:\\\\nlpcode\\\\Projects\\\\\\\\speech emotion recognition\\\\AudioFiles\\\\Actor_12\\\\03-01-04-02-02-02-12.wav',\n",
       " 'D:\\\\nlpcode\\\\Projects\\\\\\\\speech emotion recognition\\\\AudioFiles\\\\Actor_12\\\\03-01-05-01-01-01-12.wav',\n",
       " 'D:\\\\nlpcode\\\\Projects\\\\\\\\speech emotion recognition\\\\AudioFiles\\\\Actor_12\\\\03-01-05-01-01-02-12.wav',\n",
       " 'D:\\\\nlpcode\\\\Projects\\\\\\\\speech emotion recognition\\\\AudioFiles\\\\Actor_12\\\\03-01-05-01-02-01-12.wav',\n",
       " 'D:\\\\nlpcode\\\\Projects\\\\\\\\speech emotion recognition\\\\AudioFiles\\\\Actor_12\\\\03-01-05-01-02-02-12.wav',\n",
       " 'D:\\\\nlpcode\\\\Projects\\\\\\\\speech emotion recognition\\\\AudioFiles\\\\Actor_12\\\\03-01-05-02-01-01-12.wav',\n",
       " 'D:\\\\nlpcode\\\\Projects\\\\\\\\speech emotion recognition\\\\AudioFiles\\\\Actor_12\\\\03-01-05-02-01-02-12.wav',\n",
       " 'D:\\\\nlpcode\\\\Projects\\\\\\\\speech emotion recognition\\\\AudioFiles\\\\Actor_12\\\\03-01-05-02-02-01-12.wav',\n",
       " 'D:\\\\nlpcode\\\\Projects\\\\\\\\speech emotion recognition\\\\AudioFiles\\\\Actor_12\\\\03-01-05-02-02-02-12.wav',\n",
       " 'D:\\\\nlpcode\\\\Projects\\\\\\\\speech emotion recognition\\\\AudioFiles\\\\Actor_12\\\\03-01-06-01-01-01-12.wav',\n",
       " 'D:\\\\nlpcode\\\\Projects\\\\\\\\speech emotion recognition\\\\AudioFiles\\\\Actor_12\\\\03-01-06-01-01-02-12.wav',\n",
       " 'D:\\\\nlpcode\\\\Projects\\\\\\\\speech emotion recognition\\\\AudioFiles\\\\Actor_12\\\\03-01-06-01-02-01-12.wav',\n",
       " 'D:\\\\nlpcode\\\\Projects\\\\\\\\speech emotion recognition\\\\AudioFiles\\\\Actor_12\\\\03-01-06-01-02-02-12.wav',\n",
       " 'D:\\\\nlpcode\\\\Projects\\\\\\\\speech emotion recognition\\\\AudioFiles\\\\Actor_12\\\\03-01-06-02-01-01-12.wav',\n",
       " 'D:\\\\nlpcode\\\\Projects\\\\\\\\speech emotion recognition\\\\AudioFiles\\\\Actor_12\\\\03-01-06-02-01-02-12.wav',\n",
       " 'D:\\\\nlpcode\\\\Projects\\\\\\\\speech emotion recognition\\\\AudioFiles\\\\Actor_12\\\\03-01-06-02-02-01-12.wav',\n",
       " 'D:\\\\nlpcode\\\\Projects\\\\\\\\speech emotion recognition\\\\AudioFiles\\\\Actor_12\\\\03-01-06-02-02-02-12.wav',\n",
       " 'D:\\\\nlpcode\\\\Projects\\\\\\\\speech emotion recognition\\\\AudioFiles\\\\Actor_12\\\\03-01-07-01-01-01-12.wav',\n",
       " 'D:\\\\nlpcode\\\\Projects\\\\\\\\speech emotion recognition\\\\AudioFiles\\\\Actor_12\\\\03-01-07-01-01-02-12.wav',\n",
       " 'D:\\\\nlpcode\\\\Projects\\\\\\\\speech emotion recognition\\\\AudioFiles\\\\Actor_12\\\\03-01-07-01-02-01-12.wav',\n",
       " 'D:\\\\nlpcode\\\\Projects\\\\\\\\speech emotion recognition\\\\AudioFiles\\\\Actor_12\\\\03-01-07-01-02-02-12.wav',\n",
       " 'D:\\\\nlpcode\\\\Projects\\\\\\\\speech emotion recognition\\\\AudioFiles\\\\Actor_12\\\\03-01-07-02-01-01-12.wav',\n",
       " 'D:\\\\nlpcode\\\\Projects\\\\\\\\speech emotion recognition\\\\AudioFiles\\\\Actor_12\\\\03-01-07-02-01-02-12.wav',\n",
       " 'D:\\\\nlpcode\\\\Projects\\\\\\\\speech emotion recognition\\\\AudioFiles\\\\Actor_12\\\\03-01-07-02-02-01-12.wav',\n",
       " 'D:\\\\nlpcode\\\\Projects\\\\\\\\speech emotion recognition\\\\AudioFiles\\\\Actor_12\\\\03-01-07-02-02-02-12.wav',\n",
       " 'D:\\\\nlpcode\\\\Projects\\\\\\\\speech emotion recognition\\\\AudioFiles\\\\Actor_12\\\\03-01-08-01-01-01-12.wav',\n",
       " 'D:\\\\nlpcode\\\\Projects\\\\\\\\speech emotion recognition\\\\AudioFiles\\\\Actor_12\\\\03-01-08-01-01-02-12.wav',\n",
       " 'D:\\\\nlpcode\\\\Projects\\\\\\\\speech emotion recognition\\\\AudioFiles\\\\Actor_12\\\\03-01-08-01-02-01-12.wav',\n",
       " 'D:\\\\nlpcode\\\\Projects\\\\\\\\speech emotion recognition\\\\AudioFiles\\\\Actor_12\\\\03-01-08-01-02-02-12.wav',\n",
       " 'D:\\\\nlpcode\\\\Projects\\\\\\\\speech emotion recognition\\\\AudioFiles\\\\Actor_12\\\\03-01-08-02-01-01-12.wav',\n",
       " 'D:\\\\nlpcode\\\\Projects\\\\\\\\speech emotion recognition\\\\AudioFiles\\\\Actor_12\\\\03-01-08-02-01-02-12.wav',\n",
       " 'D:\\\\nlpcode\\\\Projects\\\\\\\\speech emotion recognition\\\\AudioFiles\\\\Actor_12\\\\03-01-08-02-02-01-12.wav',\n",
       " 'D:\\\\nlpcode\\\\Projects\\\\\\\\speech emotion recognition\\\\AudioFiles\\\\Actor_12\\\\03-01-08-02-02-02-12.wav',\n",
       " 'D:\\\\nlpcode\\\\Projects\\\\\\\\speech emotion recognition\\\\AudioFiles\\\\Actor_13\\\\03-01-01-01-01-01-13.wav',\n",
       " 'D:\\\\nlpcode\\\\Projects\\\\\\\\speech emotion recognition\\\\AudioFiles\\\\Actor_13\\\\03-01-01-01-01-02-13.wav',\n",
       " 'D:\\\\nlpcode\\\\Projects\\\\\\\\speech emotion recognition\\\\AudioFiles\\\\Actor_13\\\\03-01-01-01-02-01-13.wav',\n",
       " 'D:\\\\nlpcode\\\\Projects\\\\\\\\speech emotion recognition\\\\AudioFiles\\\\Actor_13\\\\03-01-01-01-02-02-13.wav',\n",
       " 'D:\\\\nlpcode\\\\Projects\\\\\\\\speech emotion recognition\\\\AudioFiles\\\\Actor_13\\\\03-01-02-01-01-01-13.wav',\n",
       " 'D:\\\\nlpcode\\\\Projects\\\\\\\\speech emotion recognition\\\\AudioFiles\\\\Actor_13\\\\03-01-02-01-01-02-13.wav',\n",
       " 'D:\\\\nlpcode\\\\Projects\\\\\\\\speech emotion recognition\\\\AudioFiles\\\\Actor_13\\\\03-01-02-01-02-01-13.wav',\n",
       " 'D:\\\\nlpcode\\\\Projects\\\\\\\\speech emotion recognition\\\\AudioFiles\\\\Actor_13\\\\03-01-02-01-02-02-13.wav',\n",
       " 'D:\\\\nlpcode\\\\Projects\\\\\\\\speech emotion recognition\\\\AudioFiles\\\\Actor_13\\\\03-01-02-02-01-01-13.wav',\n",
       " 'D:\\\\nlpcode\\\\Projects\\\\\\\\speech emotion recognition\\\\AudioFiles\\\\Actor_13\\\\03-01-02-02-01-02-13.wav',\n",
       " 'D:\\\\nlpcode\\\\Projects\\\\\\\\speech emotion recognition\\\\AudioFiles\\\\Actor_13\\\\03-01-02-02-02-01-13.wav',\n",
       " 'D:\\\\nlpcode\\\\Projects\\\\\\\\speech emotion recognition\\\\AudioFiles\\\\Actor_13\\\\03-01-02-02-02-02-13.wav',\n",
       " 'D:\\\\nlpcode\\\\Projects\\\\\\\\speech emotion recognition\\\\AudioFiles\\\\Actor_13\\\\03-01-03-01-01-01-13.wav',\n",
       " 'D:\\\\nlpcode\\\\Projects\\\\\\\\speech emotion recognition\\\\AudioFiles\\\\Actor_13\\\\03-01-03-01-01-02-13.wav',\n",
       " 'D:\\\\nlpcode\\\\Projects\\\\\\\\speech emotion recognition\\\\AudioFiles\\\\Actor_13\\\\03-01-03-01-02-01-13.wav',\n",
       " 'D:\\\\nlpcode\\\\Projects\\\\\\\\speech emotion recognition\\\\AudioFiles\\\\Actor_13\\\\03-01-03-01-02-02-13.wav',\n",
       " 'D:\\\\nlpcode\\\\Projects\\\\\\\\speech emotion recognition\\\\AudioFiles\\\\Actor_13\\\\03-01-03-02-01-01-13.wav',\n",
       " 'D:\\\\nlpcode\\\\Projects\\\\\\\\speech emotion recognition\\\\AudioFiles\\\\Actor_13\\\\03-01-03-02-01-02-13.wav',\n",
       " 'D:\\\\nlpcode\\\\Projects\\\\\\\\speech emotion recognition\\\\AudioFiles\\\\Actor_13\\\\03-01-03-02-02-01-13.wav',\n",
       " 'D:\\\\nlpcode\\\\Projects\\\\\\\\speech emotion recognition\\\\AudioFiles\\\\Actor_13\\\\03-01-03-02-02-02-13.wav',\n",
       " 'D:\\\\nlpcode\\\\Projects\\\\\\\\speech emotion recognition\\\\AudioFiles\\\\Actor_13\\\\03-01-04-01-01-01-13.wav',\n",
       " 'D:\\\\nlpcode\\\\Projects\\\\\\\\speech emotion recognition\\\\AudioFiles\\\\Actor_13\\\\03-01-04-01-01-02-13.wav',\n",
       " 'D:\\\\nlpcode\\\\Projects\\\\\\\\speech emotion recognition\\\\AudioFiles\\\\Actor_13\\\\03-01-04-01-02-01-13.wav',\n",
       " 'D:\\\\nlpcode\\\\Projects\\\\\\\\speech emotion recognition\\\\AudioFiles\\\\Actor_13\\\\03-01-04-01-02-02-13.wav',\n",
       " 'D:\\\\nlpcode\\\\Projects\\\\\\\\speech emotion recognition\\\\AudioFiles\\\\Actor_13\\\\03-01-04-02-01-01-13.wav',\n",
       " 'D:\\\\nlpcode\\\\Projects\\\\\\\\speech emotion recognition\\\\AudioFiles\\\\Actor_13\\\\03-01-04-02-01-02-13.wav',\n",
       " 'D:\\\\nlpcode\\\\Projects\\\\\\\\speech emotion recognition\\\\AudioFiles\\\\Actor_13\\\\03-01-04-02-02-01-13.wav',\n",
       " 'D:\\\\nlpcode\\\\Projects\\\\\\\\speech emotion recognition\\\\AudioFiles\\\\Actor_13\\\\03-01-04-02-02-02-13.wav',\n",
       " 'D:\\\\nlpcode\\\\Projects\\\\\\\\speech emotion recognition\\\\AudioFiles\\\\Actor_13\\\\03-01-05-01-01-01-13.wav',\n",
       " 'D:\\\\nlpcode\\\\Projects\\\\\\\\speech emotion recognition\\\\AudioFiles\\\\Actor_13\\\\03-01-05-01-01-02-13.wav',\n",
       " 'D:\\\\nlpcode\\\\Projects\\\\\\\\speech emotion recognition\\\\AudioFiles\\\\Actor_13\\\\03-01-05-01-02-01-13.wav',\n",
       " 'D:\\\\nlpcode\\\\Projects\\\\\\\\speech emotion recognition\\\\AudioFiles\\\\Actor_13\\\\03-01-05-01-02-02-13.wav',\n",
       " 'D:\\\\nlpcode\\\\Projects\\\\\\\\speech emotion recognition\\\\AudioFiles\\\\Actor_13\\\\03-01-05-02-01-01-13.wav',\n",
       " 'D:\\\\nlpcode\\\\Projects\\\\\\\\speech emotion recognition\\\\AudioFiles\\\\Actor_13\\\\03-01-05-02-01-02-13.wav',\n",
       " 'D:\\\\nlpcode\\\\Projects\\\\\\\\speech emotion recognition\\\\AudioFiles\\\\Actor_13\\\\03-01-05-02-02-01-13.wav',\n",
       " 'D:\\\\nlpcode\\\\Projects\\\\\\\\speech emotion recognition\\\\AudioFiles\\\\Actor_13\\\\03-01-05-02-02-02-13.wav',\n",
       " 'D:\\\\nlpcode\\\\Projects\\\\\\\\speech emotion recognition\\\\AudioFiles\\\\Actor_13\\\\03-01-06-01-01-01-13.wav',\n",
       " 'D:\\\\nlpcode\\\\Projects\\\\\\\\speech emotion recognition\\\\AudioFiles\\\\Actor_13\\\\03-01-06-01-01-02-13.wav',\n",
       " 'D:\\\\nlpcode\\\\Projects\\\\\\\\speech emotion recognition\\\\AudioFiles\\\\Actor_13\\\\03-01-06-01-02-01-13.wav',\n",
       " 'D:\\\\nlpcode\\\\Projects\\\\\\\\speech emotion recognition\\\\AudioFiles\\\\Actor_13\\\\03-01-06-01-02-02-13.wav',\n",
       " 'D:\\\\nlpcode\\\\Projects\\\\\\\\speech emotion recognition\\\\AudioFiles\\\\Actor_13\\\\03-01-06-02-01-01-13.wav',\n",
       " 'D:\\\\nlpcode\\\\Projects\\\\\\\\speech emotion recognition\\\\AudioFiles\\\\Actor_13\\\\03-01-06-02-01-02-13.wav',\n",
       " 'D:\\\\nlpcode\\\\Projects\\\\\\\\speech emotion recognition\\\\AudioFiles\\\\Actor_13\\\\03-01-06-02-02-01-13.wav',\n",
       " 'D:\\\\nlpcode\\\\Projects\\\\\\\\speech emotion recognition\\\\AudioFiles\\\\Actor_13\\\\03-01-06-02-02-02-13.wav',\n",
       " 'D:\\\\nlpcode\\\\Projects\\\\\\\\speech emotion recognition\\\\AudioFiles\\\\Actor_13\\\\03-01-07-01-01-01-13.wav',\n",
       " 'D:\\\\nlpcode\\\\Projects\\\\\\\\speech emotion recognition\\\\AudioFiles\\\\Actor_13\\\\03-01-07-01-01-02-13.wav',\n",
       " 'D:\\\\nlpcode\\\\Projects\\\\\\\\speech emotion recognition\\\\AudioFiles\\\\Actor_13\\\\03-01-07-01-02-01-13.wav',\n",
       " 'D:\\\\nlpcode\\\\Projects\\\\\\\\speech emotion recognition\\\\AudioFiles\\\\Actor_13\\\\03-01-07-01-02-02-13.wav',\n",
       " 'D:\\\\nlpcode\\\\Projects\\\\\\\\speech emotion recognition\\\\AudioFiles\\\\Actor_13\\\\03-01-07-02-01-01-13.wav',\n",
       " 'D:\\\\nlpcode\\\\Projects\\\\\\\\speech emotion recognition\\\\AudioFiles\\\\Actor_13\\\\03-01-07-02-01-02-13.wav',\n",
       " 'D:\\\\nlpcode\\\\Projects\\\\\\\\speech emotion recognition\\\\AudioFiles\\\\Actor_13\\\\03-01-07-02-02-01-13.wav',\n",
       " 'D:\\\\nlpcode\\\\Projects\\\\\\\\speech emotion recognition\\\\AudioFiles\\\\Actor_13\\\\03-01-07-02-02-02-13.wav',\n",
       " 'D:\\\\nlpcode\\\\Projects\\\\\\\\speech emotion recognition\\\\AudioFiles\\\\Actor_13\\\\03-01-08-01-01-01-13.wav',\n",
       " 'D:\\\\nlpcode\\\\Projects\\\\\\\\speech emotion recognition\\\\AudioFiles\\\\Actor_13\\\\03-01-08-01-01-02-13.wav',\n",
       " 'D:\\\\nlpcode\\\\Projects\\\\\\\\speech emotion recognition\\\\AudioFiles\\\\Actor_13\\\\03-01-08-01-02-01-13.wav',\n",
       " 'D:\\\\nlpcode\\\\Projects\\\\\\\\speech emotion recognition\\\\AudioFiles\\\\Actor_13\\\\03-01-08-01-02-02-13.wav',\n",
       " 'D:\\\\nlpcode\\\\Projects\\\\\\\\speech emotion recognition\\\\AudioFiles\\\\Actor_13\\\\03-01-08-02-01-01-13.wav',\n",
       " 'D:\\\\nlpcode\\\\Projects\\\\\\\\speech emotion recognition\\\\AudioFiles\\\\Actor_13\\\\03-01-08-02-01-02-13.wav',\n",
       " 'D:\\\\nlpcode\\\\Projects\\\\\\\\speech emotion recognition\\\\AudioFiles\\\\Actor_13\\\\03-01-08-02-02-01-13.wav',\n",
       " 'D:\\\\nlpcode\\\\Projects\\\\\\\\speech emotion recognition\\\\AudioFiles\\\\Actor_13\\\\03-01-08-02-02-02-13.wav',\n",
       " 'D:\\\\nlpcode\\\\Projects\\\\\\\\speech emotion recognition\\\\AudioFiles\\\\Actor_14\\\\03-01-01-01-01-01-14.wav',\n",
       " 'D:\\\\nlpcode\\\\Projects\\\\\\\\speech emotion recognition\\\\AudioFiles\\\\Actor_14\\\\03-01-01-01-01-02-14.wav',\n",
       " 'D:\\\\nlpcode\\\\Projects\\\\\\\\speech emotion recognition\\\\AudioFiles\\\\Actor_14\\\\03-01-01-01-02-01-14.wav',\n",
       " 'D:\\\\nlpcode\\\\Projects\\\\\\\\speech emotion recognition\\\\AudioFiles\\\\Actor_14\\\\03-01-01-01-02-02-14.wav',\n",
       " 'D:\\\\nlpcode\\\\Projects\\\\\\\\speech emotion recognition\\\\AudioFiles\\\\Actor_14\\\\03-01-02-01-01-01-14.wav',\n",
       " 'D:\\\\nlpcode\\\\Projects\\\\\\\\speech emotion recognition\\\\AudioFiles\\\\Actor_14\\\\03-01-02-01-01-02-14.wav',\n",
       " 'D:\\\\nlpcode\\\\Projects\\\\\\\\speech emotion recognition\\\\AudioFiles\\\\Actor_14\\\\03-01-02-01-02-01-14.wav',\n",
       " 'D:\\\\nlpcode\\\\Projects\\\\\\\\speech emotion recognition\\\\AudioFiles\\\\Actor_14\\\\03-01-02-01-02-02-14.wav',\n",
       " 'D:\\\\nlpcode\\\\Projects\\\\\\\\speech emotion recognition\\\\AudioFiles\\\\Actor_14\\\\03-01-02-02-01-01-14.wav',\n",
       " 'D:\\\\nlpcode\\\\Projects\\\\\\\\speech emotion recognition\\\\AudioFiles\\\\Actor_14\\\\03-01-02-02-01-02-14.wav',\n",
       " 'D:\\\\nlpcode\\\\Projects\\\\\\\\speech emotion recognition\\\\AudioFiles\\\\Actor_14\\\\03-01-02-02-02-01-14.wav',\n",
       " 'D:\\\\nlpcode\\\\Projects\\\\\\\\speech emotion recognition\\\\AudioFiles\\\\Actor_14\\\\03-01-02-02-02-02-14.wav',\n",
       " 'D:\\\\nlpcode\\\\Projects\\\\\\\\speech emotion recognition\\\\AudioFiles\\\\Actor_14\\\\03-01-03-01-01-01-14.wav',\n",
       " 'D:\\\\nlpcode\\\\Projects\\\\\\\\speech emotion recognition\\\\AudioFiles\\\\Actor_14\\\\03-01-03-01-01-02-14.wav',\n",
       " 'D:\\\\nlpcode\\\\Projects\\\\\\\\speech emotion recognition\\\\AudioFiles\\\\Actor_14\\\\03-01-03-01-02-01-14.wav',\n",
       " 'D:\\\\nlpcode\\\\Projects\\\\\\\\speech emotion recognition\\\\AudioFiles\\\\Actor_14\\\\03-01-03-01-02-02-14.wav',\n",
       " 'D:\\\\nlpcode\\\\Projects\\\\\\\\speech emotion recognition\\\\AudioFiles\\\\Actor_14\\\\03-01-03-02-01-01-14.wav',\n",
       " 'D:\\\\nlpcode\\\\Projects\\\\\\\\speech emotion recognition\\\\AudioFiles\\\\Actor_14\\\\03-01-03-02-01-02-14.wav',\n",
       " 'D:\\\\nlpcode\\\\Projects\\\\\\\\speech emotion recognition\\\\AudioFiles\\\\Actor_14\\\\03-01-03-02-02-01-14.wav',\n",
       " 'D:\\\\nlpcode\\\\Projects\\\\\\\\speech emotion recognition\\\\AudioFiles\\\\Actor_14\\\\03-01-03-02-02-02-14.wav',\n",
       " 'D:\\\\nlpcode\\\\Projects\\\\\\\\speech emotion recognition\\\\AudioFiles\\\\Actor_14\\\\03-01-04-01-01-01-14.wav',\n",
       " 'D:\\\\nlpcode\\\\Projects\\\\\\\\speech emotion recognition\\\\AudioFiles\\\\Actor_14\\\\03-01-04-01-01-02-14.wav',\n",
       " 'D:\\\\nlpcode\\\\Projects\\\\\\\\speech emotion recognition\\\\AudioFiles\\\\Actor_14\\\\03-01-04-01-02-01-14.wav',\n",
       " 'D:\\\\nlpcode\\\\Projects\\\\\\\\speech emotion recognition\\\\AudioFiles\\\\Actor_14\\\\03-01-04-01-02-02-14.wav',\n",
       " 'D:\\\\nlpcode\\\\Projects\\\\\\\\speech emotion recognition\\\\AudioFiles\\\\Actor_14\\\\03-01-04-02-01-01-14.wav',\n",
       " 'D:\\\\nlpcode\\\\Projects\\\\\\\\speech emotion recognition\\\\AudioFiles\\\\Actor_14\\\\03-01-04-02-01-02-14.wav',\n",
       " 'D:\\\\nlpcode\\\\Projects\\\\\\\\speech emotion recognition\\\\AudioFiles\\\\Actor_14\\\\03-01-04-02-02-01-14.wav',\n",
       " 'D:\\\\nlpcode\\\\Projects\\\\\\\\speech emotion recognition\\\\AudioFiles\\\\Actor_14\\\\03-01-04-02-02-02-14.wav',\n",
       " 'D:\\\\nlpcode\\\\Projects\\\\\\\\speech emotion recognition\\\\AudioFiles\\\\Actor_14\\\\03-01-05-01-01-01-14.wav',\n",
       " 'D:\\\\nlpcode\\\\Projects\\\\\\\\speech emotion recognition\\\\AudioFiles\\\\Actor_14\\\\03-01-05-01-01-02-14.wav',\n",
       " 'D:\\\\nlpcode\\\\Projects\\\\\\\\speech emotion recognition\\\\AudioFiles\\\\Actor_14\\\\03-01-05-01-02-01-14.wav',\n",
       " 'D:\\\\nlpcode\\\\Projects\\\\\\\\speech emotion recognition\\\\AudioFiles\\\\Actor_14\\\\03-01-05-01-02-02-14.wav',\n",
       " 'D:\\\\nlpcode\\\\Projects\\\\\\\\speech emotion recognition\\\\AudioFiles\\\\Actor_14\\\\03-01-05-02-01-01-14.wav',\n",
       " 'D:\\\\nlpcode\\\\Projects\\\\\\\\speech emotion recognition\\\\AudioFiles\\\\Actor_14\\\\03-01-05-02-01-02-14.wav',\n",
       " 'D:\\\\nlpcode\\\\Projects\\\\\\\\speech emotion recognition\\\\AudioFiles\\\\Actor_14\\\\03-01-05-02-02-01-14.wav',\n",
       " 'D:\\\\nlpcode\\\\Projects\\\\\\\\speech emotion recognition\\\\AudioFiles\\\\Actor_14\\\\03-01-05-02-02-02-14.wav',\n",
       " 'D:\\\\nlpcode\\\\Projects\\\\\\\\speech emotion recognition\\\\AudioFiles\\\\Actor_14\\\\03-01-06-01-01-01-14.wav',\n",
       " 'D:\\\\nlpcode\\\\Projects\\\\\\\\speech emotion recognition\\\\AudioFiles\\\\Actor_14\\\\03-01-06-01-01-02-14.wav',\n",
       " 'D:\\\\nlpcode\\\\Projects\\\\\\\\speech emotion recognition\\\\AudioFiles\\\\Actor_14\\\\03-01-06-01-02-01-14.wav',\n",
       " 'D:\\\\nlpcode\\\\Projects\\\\\\\\speech emotion recognition\\\\AudioFiles\\\\Actor_14\\\\03-01-06-01-02-02-14.wav',\n",
       " 'D:\\\\nlpcode\\\\Projects\\\\\\\\speech emotion recognition\\\\AudioFiles\\\\Actor_14\\\\03-01-06-02-01-01-14.wav',\n",
       " 'D:\\\\nlpcode\\\\Projects\\\\\\\\speech emotion recognition\\\\AudioFiles\\\\Actor_14\\\\03-01-06-02-01-02-14.wav',\n",
       " 'D:\\\\nlpcode\\\\Projects\\\\\\\\speech emotion recognition\\\\AudioFiles\\\\Actor_14\\\\03-01-06-02-02-01-14.wav',\n",
       " 'D:\\\\nlpcode\\\\Projects\\\\\\\\speech emotion recognition\\\\AudioFiles\\\\Actor_14\\\\03-01-06-02-02-02-14.wav',\n",
       " 'D:\\\\nlpcode\\\\Projects\\\\\\\\speech emotion recognition\\\\AudioFiles\\\\Actor_14\\\\03-01-07-01-01-01-14.wav',\n",
       " 'D:\\\\nlpcode\\\\Projects\\\\\\\\speech emotion recognition\\\\AudioFiles\\\\Actor_14\\\\03-01-07-01-01-02-14.wav',\n",
       " 'D:\\\\nlpcode\\\\Projects\\\\\\\\speech emotion recognition\\\\AudioFiles\\\\Actor_14\\\\03-01-07-01-02-01-14.wav',\n",
       " 'D:\\\\nlpcode\\\\Projects\\\\\\\\speech emotion recognition\\\\AudioFiles\\\\Actor_14\\\\03-01-07-01-02-02-14.wav',\n",
       " 'D:\\\\nlpcode\\\\Projects\\\\\\\\speech emotion recognition\\\\AudioFiles\\\\Actor_14\\\\03-01-07-02-01-01-14.wav',\n",
       " 'D:\\\\nlpcode\\\\Projects\\\\\\\\speech emotion recognition\\\\AudioFiles\\\\Actor_14\\\\03-01-07-02-01-02-14.wav',\n",
       " 'D:\\\\nlpcode\\\\Projects\\\\\\\\speech emotion recognition\\\\AudioFiles\\\\Actor_14\\\\03-01-07-02-02-01-14.wav',\n",
       " 'D:\\\\nlpcode\\\\Projects\\\\\\\\speech emotion recognition\\\\AudioFiles\\\\Actor_14\\\\03-01-07-02-02-02-14.wav',\n",
       " 'D:\\\\nlpcode\\\\Projects\\\\\\\\speech emotion recognition\\\\AudioFiles\\\\Actor_14\\\\03-01-08-01-01-01-14.wav',\n",
       " 'D:\\\\nlpcode\\\\Projects\\\\\\\\speech emotion recognition\\\\AudioFiles\\\\Actor_14\\\\03-01-08-01-01-02-14.wav',\n",
       " 'D:\\\\nlpcode\\\\Projects\\\\\\\\speech emotion recognition\\\\AudioFiles\\\\Actor_14\\\\03-01-08-01-02-01-14.wav',\n",
       " 'D:\\\\nlpcode\\\\Projects\\\\\\\\speech emotion recognition\\\\AudioFiles\\\\Actor_14\\\\03-01-08-01-02-02-14.wav',\n",
       " 'D:\\\\nlpcode\\\\Projects\\\\\\\\speech emotion recognition\\\\AudioFiles\\\\Actor_14\\\\03-01-08-02-01-01-14.wav',\n",
       " 'D:\\\\nlpcode\\\\Projects\\\\\\\\speech emotion recognition\\\\AudioFiles\\\\Actor_14\\\\03-01-08-02-01-02-14.wav',\n",
       " 'D:\\\\nlpcode\\\\Projects\\\\\\\\speech emotion recognition\\\\AudioFiles\\\\Actor_14\\\\03-01-08-02-02-01-14.wav',\n",
       " 'D:\\\\nlpcode\\\\Projects\\\\\\\\speech emotion recognition\\\\AudioFiles\\\\Actor_14\\\\03-01-08-02-02-02-14.wav',\n",
       " 'D:\\\\nlpcode\\\\Projects\\\\\\\\speech emotion recognition\\\\AudioFiles\\\\Actor_15\\\\03-01-01-01-01-01-15.wav',\n",
       " 'D:\\\\nlpcode\\\\Projects\\\\\\\\speech emotion recognition\\\\AudioFiles\\\\Actor_15\\\\03-01-01-01-01-02-15.wav',\n",
       " 'D:\\\\nlpcode\\\\Projects\\\\\\\\speech emotion recognition\\\\AudioFiles\\\\Actor_15\\\\03-01-01-01-02-01-15.wav',\n",
       " 'D:\\\\nlpcode\\\\Projects\\\\\\\\speech emotion recognition\\\\AudioFiles\\\\Actor_15\\\\03-01-01-01-02-02-15.wav',\n",
       " 'D:\\\\nlpcode\\\\Projects\\\\\\\\speech emotion recognition\\\\AudioFiles\\\\Actor_15\\\\03-01-02-01-01-01-15.wav',\n",
       " 'D:\\\\nlpcode\\\\Projects\\\\\\\\speech emotion recognition\\\\AudioFiles\\\\Actor_15\\\\03-01-02-01-01-02-15.wav',\n",
       " 'D:\\\\nlpcode\\\\Projects\\\\\\\\speech emotion recognition\\\\AudioFiles\\\\Actor_15\\\\03-01-02-01-02-01-15.wav',\n",
       " 'D:\\\\nlpcode\\\\Projects\\\\\\\\speech emotion recognition\\\\AudioFiles\\\\Actor_15\\\\03-01-02-01-02-02-15.wav',\n",
       " 'D:\\\\nlpcode\\\\Projects\\\\\\\\speech emotion recognition\\\\AudioFiles\\\\Actor_15\\\\03-01-02-02-01-01-15.wav',\n",
       " 'D:\\\\nlpcode\\\\Projects\\\\\\\\speech emotion recognition\\\\AudioFiles\\\\Actor_15\\\\03-01-02-02-01-02-15.wav',\n",
       " 'D:\\\\nlpcode\\\\Projects\\\\\\\\speech emotion recognition\\\\AudioFiles\\\\Actor_15\\\\03-01-02-02-02-01-15.wav',\n",
       " 'D:\\\\nlpcode\\\\Projects\\\\\\\\speech emotion recognition\\\\AudioFiles\\\\Actor_15\\\\03-01-02-02-02-02-15.wav',\n",
       " 'D:\\\\nlpcode\\\\Projects\\\\\\\\speech emotion recognition\\\\AudioFiles\\\\Actor_15\\\\03-01-03-01-01-01-15.wav',\n",
       " 'D:\\\\nlpcode\\\\Projects\\\\\\\\speech emotion recognition\\\\AudioFiles\\\\Actor_15\\\\03-01-03-01-01-02-15.wav',\n",
       " 'D:\\\\nlpcode\\\\Projects\\\\\\\\speech emotion recognition\\\\AudioFiles\\\\Actor_15\\\\03-01-03-01-02-01-15.wav',\n",
       " 'D:\\\\nlpcode\\\\Projects\\\\\\\\speech emotion recognition\\\\AudioFiles\\\\Actor_15\\\\03-01-03-01-02-02-15.wav',\n",
       " 'D:\\\\nlpcode\\\\Projects\\\\\\\\speech emotion recognition\\\\AudioFiles\\\\Actor_15\\\\03-01-03-02-01-01-15.wav',\n",
       " 'D:\\\\nlpcode\\\\Projects\\\\\\\\speech emotion recognition\\\\AudioFiles\\\\Actor_15\\\\03-01-03-02-01-02-15.wav',\n",
       " 'D:\\\\nlpcode\\\\Projects\\\\\\\\speech emotion recognition\\\\AudioFiles\\\\Actor_15\\\\03-01-03-02-02-01-15.wav',\n",
       " 'D:\\\\nlpcode\\\\Projects\\\\\\\\speech emotion recognition\\\\AudioFiles\\\\Actor_15\\\\03-01-03-02-02-02-15.wav',\n",
       " 'D:\\\\nlpcode\\\\Projects\\\\\\\\speech emotion recognition\\\\AudioFiles\\\\Actor_15\\\\03-01-04-01-01-01-15.wav',\n",
       " 'D:\\\\nlpcode\\\\Projects\\\\\\\\speech emotion recognition\\\\AudioFiles\\\\Actor_15\\\\03-01-04-01-01-02-15.wav',\n",
       " 'D:\\\\nlpcode\\\\Projects\\\\\\\\speech emotion recognition\\\\AudioFiles\\\\Actor_15\\\\03-01-04-01-02-01-15.wav',\n",
       " 'D:\\\\nlpcode\\\\Projects\\\\\\\\speech emotion recognition\\\\AudioFiles\\\\Actor_15\\\\03-01-04-01-02-02-15.wav',\n",
       " 'D:\\\\nlpcode\\\\Projects\\\\\\\\speech emotion recognition\\\\AudioFiles\\\\Actor_15\\\\03-01-04-02-01-01-15.wav',\n",
       " 'D:\\\\nlpcode\\\\Projects\\\\\\\\speech emotion recognition\\\\AudioFiles\\\\Actor_15\\\\03-01-04-02-01-02-15.wav',\n",
       " 'D:\\\\nlpcode\\\\Projects\\\\\\\\speech emotion recognition\\\\AudioFiles\\\\Actor_15\\\\03-01-04-02-02-01-15.wav',\n",
       " 'D:\\\\nlpcode\\\\Projects\\\\\\\\speech emotion recognition\\\\AudioFiles\\\\Actor_15\\\\03-01-04-02-02-02-15.wav',\n",
       " 'D:\\\\nlpcode\\\\Projects\\\\\\\\speech emotion recognition\\\\AudioFiles\\\\Actor_15\\\\03-01-05-01-01-01-15.wav',\n",
       " 'D:\\\\nlpcode\\\\Projects\\\\\\\\speech emotion recognition\\\\AudioFiles\\\\Actor_15\\\\03-01-05-01-01-02-15.wav',\n",
       " 'D:\\\\nlpcode\\\\Projects\\\\\\\\speech emotion recognition\\\\AudioFiles\\\\Actor_15\\\\03-01-05-01-02-01-15.wav',\n",
       " 'D:\\\\nlpcode\\\\Projects\\\\\\\\speech emotion recognition\\\\AudioFiles\\\\Actor_15\\\\03-01-05-01-02-02-15.wav',\n",
       " 'D:\\\\nlpcode\\\\Projects\\\\\\\\speech emotion recognition\\\\AudioFiles\\\\Actor_15\\\\03-01-05-02-01-01-15.wav',\n",
       " 'D:\\\\nlpcode\\\\Projects\\\\\\\\speech emotion recognition\\\\AudioFiles\\\\Actor_15\\\\03-01-05-02-01-02-15.wav',\n",
       " 'D:\\\\nlpcode\\\\Projects\\\\\\\\speech emotion recognition\\\\AudioFiles\\\\Actor_15\\\\03-01-05-02-02-01-15.wav',\n",
       " 'D:\\\\nlpcode\\\\Projects\\\\\\\\speech emotion recognition\\\\AudioFiles\\\\Actor_15\\\\03-01-05-02-02-02-15.wav',\n",
       " 'D:\\\\nlpcode\\\\Projects\\\\\\\\speech emotion recognition\\\\AudioFiles\\\\Actor_15\\\\03-01-06-01-01-01-15.wav',\n",
       " 'D:\\\\nlpcode\\\\Projects\\\\\\\\speech emotion recognition\\\\AudioFiles\\\\Actor_15\\\\03-01-06-01-01-02-15.wav',\n",
       " 'D:\\\\nlpcode\\\\Projects\\\\\\\\speech emotion recognition\\\\AudioFiles\\\\Actor_15\\\\03-01-06-01-02-01-15.wav',\n",
       " 'D:\\\\nlpcode\\\\Projects\\\\\\\\speech emotion recognition\\\\AudioFiles\\\\Actor_15\\\\03-01-06-01-02-02-15.wav',\n",
       " 'D:\\\\nlpcode\\\\Projects\\\\\\\\speech emotion recognition\\\\AudioFiles\\\\Actor_15\\\\03-01-06-02-01-01-15.wav',\n",
       " 'D:\\\\nlpcode\\\\Projects\\\\\\\\speech emotion recognition\\\\AudioFiles\\\\Actor_15\\\\03-01-06-02-01-02-15.wav',\n",
       " 'D:\\\\nlpcode\\\\Projects\\\\\\\\speech emotion recognition\\\\AudioFiles\\\\Actor_15\\\\03-01-06-02-02-01-15.wav',\n",
       " 'D:\\\\nlpcode\\\\Projects\\\\\\\\speech emotion recognition\\\\AudioFiles\\\\Actor_15\\\\03-01-06-02-02-02-15.wav',\n",
       " 'D:\\\\nlpcode\\\\Projects\\\\\\\\speech emotion recognition\\\\AudioFiles\\\\Actor_15\\\\03-01-07-01-01-01-15.wav',\n",
       " 'D:\\\\nlpcode\\\\Projects\\\\\\\\speech emotion recognition\\\\AudioFiles\\\\Actor_15\\\\03-01-07-01-01-02-15.wav',\n",
       " 'D:\\\\nlpcode\\\\Projects\\\\\\\\speech emotion recognition\\\\AudioFiles\\\\Actor_15\\\\03-01-07-01-02-01-15.wav',\n",
       " 'D:\\\\nlpcode\\\\Projects\\\\\\\\speech emotion recognition\\\\AudioFiles\\\\Actor_15\\\\03-01-07-01-02-02-15.wav',\n",
       " 'D:\\\\nlpcode\\\\Projects\\\\\\\\speech emotion recognition\\\\AudioFiles\\\\Actor_15\\\\03-01-07-02-01-01-15.wav',\n",
       " 'D:\\\\nlpcode\\\\Projects\\\\\\\\speech emotion recognition\\\\AudioFiles\\\\Actor_15\\\\03-01-07-02-01-02-15.wav',\n",
       " 'D:\\\\nlpcode\\\\Projects\\\\\\\\speech emotion recognition\\\\AudioFiles\\\\Actor_15\\\\03-01-07-02-02-01-15.wav',\n",
       " 'D:\\\\nlpcode\\\\Projects\\\\\\\\speech emotion recognition\\\\AudioFiles\\\\Actor_15\\\\03-01-07-02-02-02-15.wav',\n",
       " 'D:\\\\nlpcode\\\\Projects\\\\\\\\speech emotion recognition\\\\AudioFiles\\\\Actor_15\\\\03-01-08-01-01-01-15.wav',\n",
       " 'D:\\\\nlpcode\\\\Projects\\\\\\\\speech emotion recognition\\\\AudioFiles\\\\Actor_15\\\\03-01-08-01-01-02-15.wav',\n",
       " 'D:\\\\nlpcode\\\\Projects\\\\\\\\speech emotion recognition\\\\AudioFiles\\\\Actor_15\\\\03-01-08-01-02-01-15.wav',\n",
       " 'D:\\\\nlpcode\\\\Projects\\\\\\\\speech emotion recognition\\\\AudioFiles\\\\Actor_15\\\\03-01-08-01-02-02-15.wav',\n",
       " 'D:\\\\nlpcode\\\\Projects\\\\\\\\speech emotion recognition\\\\AudioFiles\\\\Actor_15\\\\03-01-08-02-01-01-15.wav',\n",
       " 'D:\\\\nlpcode\\\\Projects\\\\\\\\speech emotion recognition\\\\AudioFiles\\\\Actor_15\\\\03-01-08-02-01-02-15.wav',\n",
       " 'D:\\\\nlpcode\\\\Projects\\\\\\\\speech emotion recognition\\\\AudioFiles\\\\Actor_15\\\\03-01-08-02-02-01-15.wav',\n",
       " 'D:\\\\nlpcode\\\\Projects\\\\\\\\speech emotion recognition\\\\AudioFiles\\\\Actor_15\\\\03-01-08-02-02-02-15.wav',\n",
       " 'D:\\\\nlpcode\\\\Projects\\\\\\\\speech emotion recognition\\\\AudioFiles\\\\Actor_16\\\\03-01-01-01-01-01-16.wav',\n",
       " 'D:\\\\nlpcode\\\\Projects\\\\\\\\speech emotion recognition\\\\AudioFiles\\\\Actor_16\\\\03-01-01-01-01-02-16.wav',\n",
       " 'D:\\\\nlpcode\\\\Projects\\\\\\\\speech emotion recognition\\\\AudioFiles\\\\Actor_16\\\\03-01-01-01-02-01-16.wav',\n",
       " 'D:\\\\nlpcode\\\\Projects\\\\\\\\speech emotion recognition\\\\AudioFiles\\\\Actor_16\\\\03-01-01-01-02-02-16.wav',\n",
       " 'D:\\\\nlpcode\\\\Projects\\\\\\\\speech emotion recognition\\\\AudioFiles\\\\Actor_16\\\\03-01-02-01-01-01-16.wav',\n",
       " 'D:\\\\nlpcode\\\\Projects\\\\\\\\speech emotion recognition\\\\AudioFiles\\\\Actor_16\\\\03-01-02-01-01-02-16.wav',\n",
       " 'D:\\\\nlpcode\\\\Projects\\\\\\\\speech emotion recognition\\\\AudioFiles\\\\Actor_16\\\\03-01-02-01-02-01-16.wav',\n",
       " 'D:\\\\nlpcode\\\\Projects\\\\\\\\speech emotion recognition\\\\AudioFiles\\\\Actor_16\\\\03-01-02-01-02-02-16.wav',\n",
       " 'D:\\\\nlpcode\\\\Projects\\\\\\\\speech emotion recognition\\\\AudioFiles\\\\Actor_16\\\\03-01-02-02-01-01-16.wav',\n",
       " 'D:\\\\nlpcode\\\\Projects\\\\\\\\speech emotion recognition\\\\AudioFiles\\\\Actor_16\\\\03-01-02-02-01-02-16.wav',\n",
       " 'D:\\\\nlpcode\\\\Projects\\\\\\\\speech emotion recognition\\\\AudioFiles\\\\Actor_16\\\\03-01-02-02-02-01-16.wav',\n",
       " 'D:\\\\nlpcode\\\\Projects\\\\\\\\speech emotion recognition\\\\AudioFiles\\\\Actor_16\\\\03-01-02-02-02-02-16.wav',\n",
       " 'D:\\\\nlpcode\\\\Projects\\\\\\\\speech emotion recognition\\\\AudioFiles\\\\Actor_16\\\\03-01-03-01-01-01-16.wav',\n",
       " 'D:\\\\nlpcode\\\\Projects\\\\\\\\speech emotion recognition\\\\AudioFiles\\\\Actor_16\\\\03-01-03-01-01-02-16.wav',\n",
       " 'D:\\\\nlpcode\\\\Projects\\\\\\\\speech emotion recognition\\\\AudioFiles\\\\Actor_16\\\\03-01-03-01-02-01-16.wav',\n",
       " 'D:\\\\nlpcode\\\\Projects\\\\\\\\speech emotion recognition\\\\AudioFiles\\\\Actor_16\\\\03-01-03-01-02-02-16.wav',\n",
       " 'D:\\\\nlpcode\\\\Projects\\\\\\\\speech emotion recognition\\\\AudioFiles\\\\Actor_16\\\\03-01-03-02-01-01-16.wav',\n",
       " 'D:\\\\nlpcode\\\\Projects\\\\\\\\speech emotion recognition\\\\AudioFiles\\\\Actor_16\\\\03-01-03-02-01-02-16.wav',\n",
       " 'D:\\\\nlpcode\\\\Projects\\\\\\\\speech emotion recognition\\\\AudioFiles\\\\Actor_16\\\\03-01-03-02-02-01-16.wav',\n",
       " 'D:\\\\nlpcode\\\\Projects\\\\\\\\speech emotion recognition\\\\AudioFiles\\\\Actor_16\\\\03-01-03-02-02-02-16.wav',\n",
       " 'D:\\\\nlpcode\\\\Projects\\\\\\\\speech emotion recognition\\\\AudioFiles\\\\Actor_16\\\\03-01-04-01-01-01-16.wav',\n",
       " 'D:\\\\nlpcode\\\\Projects\\\\\\\\speech emotion recognition\\\\AudioFiles\\\\Actor_16\\\\03-01-04-01-01-02-16.wav',\n",
       " 'D:\\\\nlpcode\\\\Projects\\\\\\\\speech emotion recognition\\\\AudioFiles\\\\Actor_16\\\\03-01-04-01-02-01-16.wav',\n",
       " 'D:\\\\nlpcode\\\\Projects\\\\\\\\speech emotion recognition\\\\AudioFiles\\\\Actor_16\\\\03-01-04-01-02-02-16.wav',\n",
       " 'D:\\\\nlpcode\\\\Projects\\\\\\\\speech emotion recognition\\\\AudioFiles\\\\Actor_16\\\\03-01-04-02-01-01-16.wav',\n",
       " 'D:\\\\nlpcode\\\\Projects\\\\\\\\speech emotion recognition\\\\AudioFiles\\\\Actor_16\\\\03-01-04-02-01-02-16.wav',\n",
       " 'D:\\\\nlpcode\\\\Projects\\\\\\\\speech emotion recognition\\\\AudioFiles\\\\Actor_16\\\\03-01-04-02-02-01-16.wav',\n",
       " 'D:\\\\nlpcode\\\\Projects\\\\\\\\speech emotion recognition\\\\AudioFiles\\\\Actor_16\\\\03-01-04-02-02-02-16.wav',\n",
       " 'D:\\\\nlpcode\\\\Projects\\\\\\\\speech emotion recognition\\\\AudioFiles\\\\Actor_16\\\\03-01-05-01-01-01-16.wav',\n",
       " 'D:\\\\nlpcode\\\\Projects\\\\\\\\speech emotion recognition\\\\AudioFiles\\\\Actor_16\\\\03-01-05-01-01-02-16.wav',\n",
       " 'D:\\\\nlpcode\\\\Projects\\\\\\\\speech emotion recognition\\\\AudioFiles\\\\Actor_16\\\\03-01-05-01-02-01-16.wav',\n",
       " 'D:\\\\nlpcode\\\\Projects\\\\\\\\speech emotion recognition\\\\AudioFiles\\\\Actor_16\\\\03-01-05-01-02-02-16.wav',\n",
       " 'D:\\\\nlpcode\\\\Projects\\\\\\\\speech emotion recognition\\\\AudioFiles\\\\Actor_16\\\\03-01-05-02-01-01-16.wav',\n",
       " 'D:\\\\nlpcode\\\\Projects\\\\\\\\speech emotion recognition\\\\AudioFiles\\\\Actor_16\\\\03-01-05-02-01-02-16.wav',\n",
       " 'D:\\\\nlpcode\\\\Projects\\\\\\\\speech emotion recognition\\\\AudioFiles\\\\Actor_16\\\\03-01-05-02-02-01-16.wav',\n",
       " 'D:\\\\nlpcode\\\\Projects\\\\\\\\speech emotion recognition\\\\AudioFiles\\\\Actor_16\\\\03-01-05-02-02-02-16.wav',\n",
       " 'D:\\\\nlpcode\\\\Projects\\\\\\\\speech emotion recognition\\\\AudioFiles\\\\Actor_16\\\\03-01-06-01-01-01-16.wav',\n",
       " 'D:\\\\nlpcode\\\\Projects\\\\\\\\speech emotion recognition\\\\AudioFiles\\\\Actor_16\\\\03-01-06-01-01-02-16.wav',\n",
       " 'D:\\\\nlpcode\\\\Projects\\\\\\\\speech emotion recognition\\\\AudioFiles\\\\Actor_16\\\\03-01-06-01-02-01-16.wav',\n",
       " 'D:\\\\nlpcode\\\\Projects\\\\\\\\speech emotion recognition\\\\AudioFiles\\\\Actor_16\\\\03-01-06-01-02-02-16.wav',\n",
       " 'D:\\\\nlpcode\\\\Projects\\\\\\\\speech emotion recognition\\\\AudioFiles\\\\Actor_16\\\\03-01-06-02-01-01-16.wav',\n",
       " 'D:\\\\nlpcode\\\\Projects\\\\\\\\speech emotion recognition\\\\AudioFiles\\\\Actor_16\\\\03-01-06-02-01-02-16.wav',\n",
       " 'D:\\\\nlpcode\\\\Projects\\\\\\\\speech emotion recognition\\\\AudioFiles\\\\Actor_16\\\\03-01-06-02-02-01-16.wav',\n",
       " 'D:\\\\nlpcode\\\\Projects\\\\\\\\speech emotion recognition\\\\AudioFiles\\\\Actor_16\\\\03-01-06-02-02-02-16.wav',\n",
       " 'D:\\\\nlpcode\\\\Projects\\\\\\\\speech emotion recognition\\\\AudioFiles\\\\Actor_16\\\\03-01-07-01-01-01-16.wav',\n",
       " 'D:\\\\nlpcode\\\\Projects\\\\\\\\speech emotion recognition\\\\AudioFiles\\\\Actor_16\\\\03-01-07-01-01-02-16.wav',\n",
       " 'D:\\\\nlpcode\\\\Projects\\\\\\\\speech emotion recognition\\\\AudioFiles\\\\Actor_16\\\\03-01-07-01-02-01-16.wav',\n",
       " 'D:\\\\nlpcode\\\\Projects\\\\\\\\speech emotion recognition\\\\AudioFiles\\\\Actor_16\\\\03-01-07-01-02-02-16.wav',\n",
       " 'D:\\\\nlpcode\\\\Projects\\\\\\\\speech emotion recognition\\\\AudioFiles\\\\Actor_16\\\\03-01-07-02-01-01-16.wav',\n",
       " 'D:\\\\nlpcode\\\\Projects\\\\\\\\speech emotion recognition\\\\AudioFiles\\\\Actor_16\\\\03-01-07-02-01-02-16.wav',\n",
       " 'D:\\\\nlpcode\\\\Projects\\\\\\\\speech emotion recognition\\\\AudioFiles\\\\Actor_16\\\\03-01-07-02-02-01-16.wav',\n",
       " 'D:\\\\nlpcode\\\\Projects\\\\\\\\speech emotion recognition\\\\AudioFiles\\\\Actor_16\\\\03-01-07-02-02-02-16.wav',\n",
       " 'D:\\\\nlpcode\\\\Projects\\\\\\\\speech emotion recognition\\\\AudioFiles\\\\Actor_16\\\\03-01-08-01-01-01-16.wav',\n",
       " 'D:\\\\nlpcode\\\\Projects\\\\\\\\speech emotion recognition\\\\AudioFiles\\\\Actor_16\\\\03-01-08-01-01-02-16.wav',\n",
       " 'D:\\\\nlpcode\\\\Projects\\\\\\\\speech emotion recognition\\\\AudioFiles\\\\Actor_16\\\\03-01-08-01-02-01-16.wav',\n",
       " 'D:\\\\nlpcode\\\\Projects\\\\\\\\speech emotion recognition\\\\AudioFiles\\\\Actor_16\\\\03-01-08-01-02-02-16.wav',\n",
       " 'D:\\\\nlpcode\\\\Projects\\\\\\\\speech emotion recognition\\\\AudioFiles\\\\Actor_16\\\\03-01-08-02-01-01-16.wav',\n",
       " 'D:\\\\nlpcode\\\\Projects\\\\\\\\speech emotion recognition\\\\AudioFiles\\\\Actor_16\\\\03-01-08-02-01-02-16.wav',\n",
       " 'D:\\\\nlpcode\\\\Projects\\\\\\\\speech emotion recognition\\\\AudioFiles\\\\Actor_16\\\\03-01-08-02-02-01-16.wav',\n",
       " 'D:\\\\nlpcode\\\\Projects\\\\\\\\speech emotion recognition\\\\AudioFiles\\\\Actor_16\\\\03-01-08-02-02-02-16.wav',\n",
       " 'D:\\\\nlpcode\\\\Projects\\\\\\\\speech emotion recognition\\\\AudioFiles\\\\Actor_17\\\\03-01-01-01-01-01-17.wav',\n",
       " 'D:\\\\nlpcode\\\\Projects\\\\\\\\speech emotion recognition\\\\AudioFiles\\\\Actor_17\\\\03-01-01-01-01-02-17.wav',\n",
       " 'D:\\\\nlpcode\\\\Projects\\\\\\\\speech emotion recognition\\\\AudioFiles\\\\Actor_17\\\\03-01-01-01-02-01-17.wav',\n",
       " 'D:\\\\nlpcode\\\\Projects\\\\\\\\speech emotion recognition\\\\AudioFiles\\\\Actor_17\\\\03-01-01-01-02-02-17.wav',\n",
       " 'D:\\\\nlpcode\\\\Projects\\\\\\\\speech emotion recognition\\\\AudioFiles\\\\Actor_17\\\\03-01-02-01-01-01-17.wav',\n",
       " 'D:\\\\nlpcode\\\\Projects\\\\\\\\speech emotion recognition\\\\AudioFiles\\\\Actor_17\\\\03-01-02-01-01-02-17.wav',\n",
       " 'D:\\\\nlpcode\\\\Projects\\\\\\\\speech emotion recognition\\\\AudioFiles\\\\Actor_17\\\\03-01-02-01-02-01-17.wav',\n",
       " 'D:\\\\nlpcode\\\\Projects\\\\\\\\speech emotion recognition\\\\AudioFiles\\\\Actor_17\\\\03-01-02-01-02-02-17.wav',\n",
       " 'D:\\\\nlpcode\\\\Projects\\\\\\\\speech emotion recognition\\\\AudioFiles\\\\Actor_17\\\\03-01-02-02-01-01-17.wav',\n",
       " 'D:\\\\nlpcode\\\\Projects\\\\\\\\speech emotion recognition\\\\AudioFiles\\\\Actor_17\\\\03-01-02-02-01-02-17.wav',\n",
       " 'D:\\\\nlpcode\\\\Projects\\\\\\\\speech emotion recognition\\\\AudioFiles\\\\Actor_17\\\\03-01-02-02-02-01-17.wav',\n",
       " 'D:\\\\nlpcode\\\\Projects\\\\\\\\speech emotion recognition\\\\AudioFiles\\\\Actor_17\\\\03-01-02-02-02-02-17.wav',\n",
       " 'D:\\\\nlpcode\\\\Projects\\\\\\\\speech emotion recognition\\\\AudioFiles\\\\Actor_17\\\\03-01-03-01-01-01-17.wav',\n",
       " 'D:\\\\nlpcode\\\\Projects\\\\\\\\speech emotion recognition\\\\AudioFiles\\\\Actor_17\\\\03-01-03-01-01-02-17.wav',\n",
       " 'D:\\\\nlpcode\\\\Projects\\\\\\\\speech emotion recognition\\\\AudioFiles\\\\Actor_17\\\\03-01-03-01-02-01-17.wav',\n",
       " 'D:\\\\nlpcode\\\\Projects\\\\\\\\speech emotion recognition\\\\AudioFiles\\\\Actor_17\\\\03-01-03-01-02-02-17.wav',\n",
       " 'D:\\\\nlpcode\\\\Projects\\\\\\\\speech emotion recognition\\\\AudioFiles\\\\Actor_17\\\\03-01-03-02-01-01-17.wav',\n",
       " 'D:\\\\nlpcode\\\\Projects\\\\\\\\speech emotion recognition\\\\AudioFiles\\\\Actor_17\\\\03-01-03-02-01-02-17.wav',\n",
       " 'D:\\\\nlpcode\\\\Projects\\\\\\\\speech emotion recognition\\\\AudioFiles\\\\Actor_17\\\\03-01-03-02-02-01-17.wav',\n",
       " 'D:\\\\nlpcode\\\\Projects\\\\\\\\speech emotion recognition\\\\AudioFiles\\\\Actor_17\\\\03-01-03-02-02-02-17.wav',\n",
       " 'D:\\\\nlpcode\\\\Projects\\\\\\\\speech emotion recognition\\\\AudioFiles\\\\Actor_17\\\\03-01-04-01-01-01-17.wav',\n",
       " 'D:\\\\nlpcode\\\\Projects\\\\\\\\speech emotion recognition\\\\AudioFiles\\\\Actor_17\\\\03-01-04-01-01-02-17.wav',\n",
       " 'D:\\\\nlpcode\\\\Projects\\\\\\\\speech emotion recognition\\\\AudioFiles\\\\Actor_17\\\\03-01-04-01-02-01-17.wav',\n",
       " 'D:\\\\nlpcode\\\\Projects\\\\\\\\speech emotion recognition\\\\AudioFiles\\\\Actor_17\\\\03-01-04-01-02-02-17.wav',\n",
       " 'D:\\\\nlpcode\\\\Projects\\\\\\\\speech emotion recognition\\\\AudioFiles\\\\Actor_17\\\\03-01-04-02-01-01-17.wav',\n",
       " 'D:\\\\nlpcode\\\\Projects\\\\\\\\speech emotion recognition\\\\AudioFiles\\\\Actor_17\\\\03-01-04-02-01-02-17.wav',\n",
       " 'D:\\\\nlpcode\\\\Projects\\\\\\\\speech emotion recognition\\\\AudioFiles\\\\Actor_17\\\\03-01-04-02-02-01-17.wav',\n",
       " 'D:\\\\nlpcode\\\\Projects\\\\\\\\speech emotion recognition\\\\AudioFiles\\\\Actor_17\\\\03-01-04-02-02-02-17.wav',\n",
       " 'D:\\\\nlpcode\\\\Projects\\\\\\\\speech emotion recognition\\\\AudioFiles\\\\Actor_17\\\\03-01-05-01-01-01-17.wav',\n",
       " 'D:\\\\nlpcode\\\\Projects\\\\\\\\speech emotion recognition\\\\AudioFiles\\\\Actor_17\\\\03-01-05-01-01-02-17.wav',\n",
       " 'D:\\\\nlpcode\\\\Projects\\\\\\\\speech emotion recognition\\\\AudioFiles\\\\Actor_17\\\\03-01-05-01-02-01-17.wav',\n",
       " 'D:\\\\nlpcode\\\\Projects\\\\\\\\speech emotion recognition\\\\AudioFiles\\\\Actor_17\\\\03-01-05-01-02-02-17.wav',\n",
       " 'D:\\\\nlpcode\\\\Projects\\\\\\\\speech emotion recognition\\\\AudioFiles\\\\Actor_17\\\\03-01-05-02-01-01-17.wav',\n",
       " 'D:\\\\nlpcode\\\\Projects\\\\\\\\speech emotion recognition\\\\AudioFiles\\\\Actor_17\\\\03-01-05-02-01-02-17.wav',\n",
       " 'D:\\\\nlpcode\\\\Projects\\\\\\\\speech emotion recognition\\\\AudioFiles\\\\Actor_17\\\\03-01-05-02-02-01-17.wav',\n",
       " 'D:\\\\nlpcode\\\\Projects\\\\\\\\speech emotion recognition\\\\AudioFiles\\\\Actor_17\\\\03-01-05-02-02-02-17.wav',\n",
       " 'D:\\\\nlpcode\\\\Projects\\\\\\\\speech emotion recognition\\\\AudioFiles\\\\Actor_17\\\\03-01-06-01-01-01-17.wav',\n",
       " 'D:\\\\nlpcode\\\\Projects\\\\\\\\speech emotion recognition\\\\AudioFiles\\\\Actor_17\\\\03-01-06-01-01-02-17.wav',\n",
       " 'D:\\\\nlpcode\\\\Projects\\\\\\\\speech emotion recognition\\\\AudioFiles\\\\Actor_17\\\\03-01-06-01-02-01-17.wav',\n",
       " 'D:\\\\nlpcode\\\\Projects\\\\\\\\speech emotion recognition\\\\AudioFiles\\\\Actor_17\\\\03-01-06-01-02-02-17.wav',\n",
       " ...]"
      ]
     },
     "execution_count": 2,
     "metadata": {},
     "output_type": "execute_result"
    }
   ],
   "source": [
    "#lists the all the audio files path in the system/computer ...\n",
    "\n",
    "\n",
    "\n",
    "def getList(dirname):\n",
    "    listOffiles=os.listdir(dirname)\n",
    "    allfiles=list()\n",
    "    for entry in listOffiles:\n",
    "        fullpath=os.path.join(dirname,entry)\n",
    "        if os.path.isdir(fullpath):\n",
    "            allfiles=allfiles+getList(fullpath)\n",
    "            \n",
    "        else:\n",
    "            allfiles.append(fullpath)\n",
    "    return allfiles\n",
    "\n",
    "dirname=\"D:\\\\nlpcode\\\\Projects\\\\\\speech emotion recognition\\\\AudioFiles\\\\\"\n",
    "listOffiles = getList(dirname)\n",
    "print(\"list of audios files used for speech emotion recognition \")\n",
    "listOffiles"
   ]
  },
  {
   "cell_type": "code",
   "execution_count": 3,
   "id": "350f857a",
   "metadata": {},
   "outputs": [
    {
     "data": {
      "text/plain": [
       "1440"
      ]
     },
     "execution_count": 3,
     "metadata": {},
     "output_type": "execute_result"
    }
   ],
   "source": [
    "#total audios (size)\n",
    "\n",
    "len(listOffiles)"
   ]
  },
  {
   "cell_type": "markdown",
   "id": "7340d5bf",
   "metadata": {},
   "source": [
    "#!pip install speech_recognition\n",
    "import speech_recognition as sr\n",
    "s=sr.Recognizer()\n",
    "for file in range(0,len(listOffiles)):\n",
    "    with sr.AudioFile(listOffiles[file]) as source:\n",
    "        audio=s.listen(source)\n",
    "        try:\n",
    "            text=s.recognize_google(audio)\n",
    "            print(text)\n",
    "        except:\n",
    "            print(\"error\")"
   ]
  },
  {
   "cell_type": "code",
   "execution_count": 4,
   "id": "a0e50261",
   "metadata": {},
   "outputs": [],
   "source": [
    "def envlop(y,rate,t):\n",
    "    temp=[]\n",
    "    y=pd.Series(y).apply(np.abs)\n",
    "    y_mean=y.rolling(window=int(rate/10) , min_periods=1,center = True).mean()\n",
    "    for mean in y_mean:\n",
    "        if mean>t:\n",
    "            temp.append(True)\n",
    "        else:\n",
    "            temp.append(False)\n",
    "    print(len(temp))\n",
    "    return temp"
   ]
  },
  {
   "cell_type": "code",
   "execution_count": 5,
   "id": "331e58fc",
   "metadata": {},
   "outputs": [
    {
     "name": "stdout",
     "output_type": "stream",
     "text": [
      "0--------------------------------------\n"
     ]
    },
    {
     "name": "stderr",
     "output_type": "stream",
     "text": [
      "  0%|▏                                                                                | 4/1440 [00:01<08:05,  2.96it/s]"
     ]
    },
    {
     "name": "stdout",
     "output_type": "stream",
     "text": [
      "52853\n",
      "53387\n",
      "52319\n",
      "50717\n",
      "56590\n",
      "57657\n"
     ]
    },
    {
     "name": "stderr",
     "output_type": "stream",
     "text": [
      "  1%|▋                                                                               | 13/1440 [00:01<01:57, 12.17it/s]"
     ]
    },
    {
     "name": "stdout",
     "output_type": "stream",
     "text": [
      "56056\n",
      "55522\n",
      "59259\n",
      "64064\n",
      "67267\n",
      "64064\n",
      "55522\n",
      "55522\n",
      "56590\n",
      "59259\n",
      "58725\n"
     ]
    },
    {
     "name": "stderr",
     "output_type": "stream",
     "text": [
      "  2%|█▏                                                                              | 22/1440 [00:02<01:10, 20.10it/s]"
     ]
    },
    {
     "name": "stdout",
     "output_type": "stream",
     "text": [
      "58191\n",
      "62996\n",
      "62996\n",
      "61395\n",
      "57124\n",
      "56056\n",
      "53921\n"
     ]
    },
    {
     "name": "stderr",
     "output_type": "stream",
     "text": [
      "  2%|█▋                                                                              | 31/1440 [00:02<00:51, 27.62it/s]"
     ]
    },
    {
     "name": "stdout",
     "output_type": "stream",
     "text": [
      "60861\n",
      "59259\n",
      "59793\n",
      "59793\n",
      "61929\n",
      "62996\n",
      "56056\n",
      "59793\n",
      "65666\n",
      "69937\n",
      "66199\n"
     ]
    },
    {
     "name": "stderr",
     "output_type": "stream",
     "text": [
      "  3%|██▍                                                                             | 43/1440 [00:02<00:35, 39.04it/s]"
     ]
    },
    {
     "name": "stdout",
     "output_type": "stream",
     "text": [
      "71004\n",
      "58725\n",
      "58192\n",
      "54988\n",
      "59259\n",
      "80080\n",
      "67801\n",
      "63530\n",
      "62463\n",
      "61928\n",
      "62462\n"
     ]
    },
    {
     "name": "stderr",
     "output_type": "stream",
     "text": [
      "  4%|██▉                                                                             | 53/1440 [00:02<00:34, 39.76it/s]"
     ]
    },
    {
     "name": "stdout",
     "output_type": "stream",
     "text": [
      "62462\n",
      "61395\n",
      "68869\n",
      "65666\n",
      "64598\n",
      "69936\n",
      "54454\n",
      "52319\n",
      "56590\n"
     ]
    },
    {
     "name": "stderr",
     "output_type": "stream",
     "text": [
      "  4%|███▌                                                                            | 63/1440 [00:03<00:33, 41.66it/s]"
     ]
    },
    {
     "name": "stdout",
     "output_type": "stream",
     "text": [
      "52319\n",
      "54988\n",
      "57124\n",
      "56056\n",
      "52319\n",
      "58191\n",
      "57658\n",
      "60327\n",
      "57657\n",
      "61395\n",
      "64064\n"
     ]
    },
    {
     "name": "stderr",
     "output_type": "stream",
     "text": [
      "  5%|████                                                                            | 73/1440 [00:03<00:35, 38.35it/s]"
     ]
    },
    {
     "name": "stdout",
     "output_type": "stream",
     "text": [
      "61395\n",
      "63530\n",
      "66200\n",
      "64598\n",
      "65666\n",
      "65666\n",
      "57658\n"
     ]
    },
    {
     "name": "stderr",
     "output_type": "stream",
     "text": [
      "\r",
      "  5%|████▎                                                                           | 78/1440 [00:03<00:33, 40.19it/s]"
     ]
    },
    {
     "name": "stdout",
     "output_type": "stream",
     "text": [
      "59259\n",
      "60327\n",
      "59793\n",
      "59259\n",
      "58725\n",
      "59259\n",
      "61928\n",
      "61395\n",
      "60327\n",
      "59793\n",
      "60327\n"
     ]
    },
    {
     "name": "stderr",
     "output_type": "stream",
     "text": [
      "  7%|█████▏                                                                          | 94/1440 [00:03<00:34, 38.89it/s]"
     ]
    },
    {
     "name": "stdout",
     "output_type": "stream",
     "text": [
      "59793\n",
      "60327\n",
      "59259\n",
      "58725\n",
      "58725\n",
      "58725\n",
      "60327\n",
      "60861\n",
      "62463\n",
      "64064\n"
     ]
    },
    {
     "name": "stderr",
     "output_type": "stream",
     "text": [
      "\r",
      "  7%|█████▍                                                                          | 98/1440 [00:04<00:36, 37.16it/s]"
     ]
    },
    {
     "name": "stdout",
     "output_type": "stream",
     "text": [
      "64064\n",
      "64064\n",
      "58192\n",
      "59793\n",
      "58725\n",
      "59793\n",
      "60861\n",
      "58192\n",
      "57658\n"
     ]
    },
    {
     "name": "stderr",
     "output_type": "stream",
     "text": [
      "  8%|█████▉                                                                         | 109/1440 [00:04<00:31, 42.52it/s]"
     ]
    },
    {
     "name": "stdout",
     "output_type": "stream",
     "text": [
      "57658\n",
      "58725\n",
      "58192\n",
      "61929\n",
      "61395\n",
      "66199\n",
      "66199\n",
      "64064\n"
     ]
    },
    {
     "name": "stderr",
     "output_type": "stream",
     "text": [
      "  8%|██████▍                                                                        | 118/1440 [00:04<00:35, 37.13it/s]"
     ]
    },
    {
     "name": "stdout",
     "output_type": "stream",
     "text": [
      "64598\n",
      "56590\n",
      "56590\n",
      "57658\n",
      "56590\n",
      "59793\n",
      "60327\n"
     ]
    },
    {
     "name": "stderr",
     "output_type": "stream",
     "text": [
      "  9%|██████▉                                                                        | 127/1440 [00:04<00:33, 39.52it/s]"
     ]
    },
    {
     "name": "stdout",
     "output_type": "stream",
     "text": [
      "59793\n",
      "60861\n",
      "54988\n",
      "56056\n",
      "56056\n",
      "55522\n",
      "61395\n",
      "59793\n",
      "61395\n"
     ]
    },
    {
     "name": "stderr",
     "output_type": "stream",
     "text": [
      "\r",
      "  9%|███████▏                                                                       | 132/1440 [00:04<00:34, 38.29it/s]"
     ]
    },
    {
     "name": "stdout",
     "output_type": "stream",
     "text": [
      "63530\n",
      "64598\n",
      "63530\n",
      "66199\n",
      "64064\n",
      "60327\n",
      "57657\n",
      "56056\n",
      "56056\n"
     ]
    },
    {
     "name": "stderr",
     "output_type": "stream",
     "text": [
      " 10%|███████▋                                                                       | 141/1440 [00:05<00:34, 38.02it/s]"
     ]
    },
    {
     "name": "stdout",
     "output_type": "stream",
     "text": [
      "68869\n",
      "70470\n",
      "66199\n",
      "61395\n",
      "57658\n",
      "57124\n",
      "57124\n",
      "56590\n"
     ]
    },
    {
     "name": "stderr",
     "output_type": "stream",
     "text": [
      " 10%|████████▏                                                                      | 149/1440 [00:05<00:34, 37.41it/s]"
     ]
    },
    {
     "name": "stdout",
     "output_type": "stream",
     "text": [
      "60327\n",
      "61395\n",
      "55522\n",
      "59259\n",
      "64064\n",
      "65132\n",
      "60861\n",
      "61395\n"
     ]
    },
    {
     "name": "stderr",
     "output_type": "stream",
     "text": [
      " 11%|████████▌                                                                      | 157/1440 [00:05<00:42, 30.42it/s]"
     ]
    },
    {
     "name": "stdout",
     "output_type": "stream",
     "text": [
      "70470\n",
      "70471\n",
      "67801\n",
      "72072\n",
      "59793\n",
      "61395\n",
      "56056\n",
      "51251\n"
     ]
    },
    {
     "name": "stderr",
     "output_type": "stream",
     "text": [
      "\r",
      " 11%|████████▉                                                                      | 162/1440 [00:05<00:38, 33.13it/s]"
     ]
    },
    {
     "name": "stdout",
     "output_type": "stream",
     "text": [
      "52853\n",
      "62462\n",
      "52853\n",
      "54988\n"
     ]
    },
    {
     "name": "stderr",
     "output_type": "stream",
     "text": [
      " 12%|█████████▎                                                                     | 170/1440 [00:06<00:46, 27.17it/s]"
     ]
    },
    {
     "name": "stdout",
     "output_type": "stream",
     "text": [
      "64598\n",
      "63530\n",
      "57658\n",
      "60327\n",
      "65666\n",
      "65666\n",
      "61395\n"
     ]
    },
    {
     "name": "stderr",
     "output_type": "stream",
     "text": [
      " 12%|█████████▋                                                                     | 177/1440 [00:06<00:51, 24.50it/s]"
     ]
    },
    {
     "name": "stdout",
     "output_type": "stream",
     "text": [
      "62996\n",
      "51785\n",
      "53921\n",
      "51251\n",
      "57124\n",
      "52319\n"
     ]
    },
    {
     "name": "stderr",
     "output_type": "stream",
     "text": [
      "\r",
      " 12%|█████████▉                                                                     | 180/1440 [00:06<00:49, 25.41it/s]"
     ]
    },
    {
     "name": "stdout",
     "output_type": "stream",
     "text": [
      "57658\n",
      "56056\n",
      "51785\n",
      "52853\n",
      "53921\n",
      "52319\n",
      "51785\n"
     ]
    },
    {
     "name": "stderr",
     "output_type": "stream",
     "text": [
      " 13%|██████████▎                                                                    | 187/1440 [00:06<00:45, 27.62it/s]"
     ]
    },
    {
     "name": "stdout",
     "output_type": "stream",
     "text": [
      "60861\n",
      "59793\n",
      "58192\n",
      "57124\n",
      "63530\n"
     ]
    },
    {
     "name": "stderr",
     "output_type": "stream",
     "text": [
      " 13%|██████████▌                                                                    | 193/1440 [00:07<00:50, 24.57it/s]"
     ]
    },
    {
     "name": "stdout",
     "output_type": "stream",
     "text": [
      "60861\n",
      "60861\n",
      "64598\n",
      "56056\n",
      "56590\n",
      "56056\n"
     ]
    },
    {
     "name": "stderr",
     "output_type": "stream",
     "text": [
      "\r",
      " 14%|██████████▊                                                                    | 197/1440 [00:07<00:47, 26.19it/s]"
     ]
    },
    {
     "name": "stdout",
     "output_type": "stream",
     "text": [
      "54988\n",
      "61929\n",
      "57124\n",
      "57658\n"
     ]
    },
    {
     "name": "stderr",
     "output_type": "stream",
     "text": [
      " 14%|███████████▏                                                                   | 203/1440 [00:07<00:57, 21.49it/s]"
     ]
    },
    {
     "name": "stdout",
     "output_type": "stream",
     "text": [
      "60327\n",
      "53921\n",
      "54454\n",
      "54988\n",
      "55522\n",
      "58725\n",
      "60327\n"
     ]
    },
    {
     "name": "stderr",
     "output_type": "stream",
     "text": [
      " 15%|███████████▋                                                                   | 213/1440 [00:07<00:47, 25.79it/s]"
     ]
    },
    {
     "name": "stdout",
     "output_type": "stream",
     "text": [
      "60327\n",
      "60327\n",
      "59259\n",
      "57658\n",
      "55522\n",
      "59793\n",
      "60327\n"
     ]
    },
    {
     "name": "stderr",
     "output_type": "stream",
     "text": [
      "\r",
      " 15%|███████████▊                                                                   | 216/1440 [00:08<00:49, 24.60it/s]"
     ]
    },
    {
     "name": "stdout",
     "output_type": "stream",
     "text": [
      "61928\n",
      "59259\n",
      "61395\n",
      "52853\n",
      "51785\n",
      "55522\n"
     ]
    },
    {
     "name": "stderr",
     "output_type": "stream",
     "text": [
      " 15%|████████████▏                                                                  | 223/1440 [00:08<00:47, 25.84it/s]"
     ]
    },
    {
     "name": "stdout",
     "output_type": "stream",
     "text": [
      "55522\n",
      "62996\n",
      "54454\n",
      "57658\n",
      "57124\n",
      "62463\n"
     ]
    },
    {
     "name": "stderr",
     "output_type": "stream",
     "text": [
      " 16%|████████████▌                                                                  | 230/1440 [00:08<00:42, 28.38it/s]"
     ]
    },
    {
     "name": "stdout",
     "output_type": "stream",
     "text": [
      "62462\n",
      "60327\n",
      "60861\n",
      "64064\n",
      "64598\n",
      "61929\n"
     ]
    },
    {
     "name": "stderr",
     "output_type": "stream",
     "text": [
      " 16%|████████████▉                                                                  | 236/1440 [00:08<00:53, 22.31it/s]"
     ]
    },
    {
     "name": "stdout",
     "output_type": "stream",
     "text": [
      "62996\n",
      "51785\n",
      "53387\n",
      "58191\n",
      "54988\n",
      "58725\n"
     ]
    },
    {
     "name": "stderr",
     "output_type": "stream",
     "text": [
      " 17%|█████████████▍                                                                 | 244/1440 [00:09<00:44, 27.06it/s]"
     ]
    },
    {
     "name": "stdout",
     "output_type": "stream",
     "text": [
      "57124\n",
      "55522\n",
      "56590\n",
      "57658\n",
      "58192\n",
      "49649\n",
      "57658\n"
     ]
    },
    {
     "name": "stderr",
     "output_type": "stream",
     "text": [
      "\r",
      " 17%|█████████████▌                                                                 | 247/1440 [00:09<00:48, 24.72it/s]"
     ]
    },
    {
     "name": "stdout",
     "output_type": "stream",
     "text": [
      "64598\n",
      "65666\n",
      "66200\n",
      "67801\n",
      "75809\n"
     ]
    },
    {
     "name": "stderr",
     "output_type": "stream",
     "text": [
      " 18%|█████████████▉                                                                 | 254/1440 [00:09<00:44, 26.41it/s]"
     ]
    },
    {
     "name": "stdout",
     "output_type": "stream",
     "text": [
      "72072\n",
      "76343\n",
      "68869\n",
      "64064\n",
      "51785\n",
      "53920\n",
      "60327\n"
     ]
    },
    {
     "name": "stderr",
     "output_type": "stream",
     "text": [
      " 18%|██████████████▎                                                                | 261/1440 [00:09<00:42, 27.94it/s]"
     ]
    },
    {
     "name": "stdout",
     "output_type": "stream",
     "text": [
      "66200\n",
      "61929\n",
      "57657\n",
      "54454\n",
      "52319\n",
      "58191\n",
      "49650\n",
      "59259\n"
     ]
    },
    {
     "name": "stderr",
     "output_type": "stream",
     "text": [
      " 19%|██████████████▋                                                                | 268/1440 [00:10<00:45, 26.03it/s]"
     ]
    },
    {
     "name": "stdout",
     "output_type": "stream",
     "text": [
      "56590\n",
      "52319\n",
      "52319\n",
      "50184\n"
     ]
    },
    {
     "name": "stderr",
     "output_type": "stream",
     "text": [
      " 19%|███████████████                                                                | 275/1440 [00:10<00:41, 28.06it/s]"
     ]
    },
    {
     "name": "stdout",
     "output_type": "stream",
     "text": [
      "61929\n",
      "60861\n",
      "65132\n",
      "70470\n",
      "54454\n",
      "57124\n",
      "58191\n",
      "58192\n",
      "50184\n"
     ]
    },
    {
     "name": "stderr",
     "output_type": "stream",
     "text": [
      " 20%|███████████████▌                                                               | 283/1440 [00:10<00:36, 31.50it/s]"
     ]
    },
    {
     "name": "stdout",
     "output_type": "stream",
     "text": [
      "53920\n",
      "50183\n",
      "49116\n",
      "51785\n",
      "57124\n",
      "51785\n",
      "49650\n"
     ]
    },
    {
     "name": "stderr",
     "output_type": "stream",
     "text": [
      "\r",
      " 20%|███████████████▋                                                               | 287/1440 [00:10<00:40, 28.63it/s]"
     ]
    },
    {
     "name": "stdout",
     "output_type": "stream",
     "text": [
      "69403\n",
      "65666\n",
      "62462\n",
      "59793\n",
      "69403\n",
      "62462\n",
      "68335\n"
     ]
    },
    {
     "name": "stderr",
     "output_type": "stream",
     "text": [
      " 21%|████████████████▎                                                              | 297/1440 [00:11<00:39, 28.71it/s]"
     ]
    },
    {
     "name": "stdout",
     "output_type": "stream",
     "text": [
      "72606\n",
      "59793\n",
      "58725\n",
      "49116\n",
      "59259\n",
      "66200\n",
      "65666\n",
      "58725\n"
     ]
    },
    {
     "name": "stderr",
     "output_type": "stream",
     "text": [
      "\r",
      " 21%|████████████████▌                                                              | 302/1440 [00:11<00:37, 30.01it/s]"
     ]
    },
    {
     "name": "stdout",
     "output_type": "stream",
     "text": [
      "56590\n",
      "53387\n",
      "57658\n",
      "54454\n",
      "54988\n",
      "64598\n",
      "65666\n"
     ]
    },
    {
     "name": "stderr",
     "output_type": "stream",
     "text": [
      "\r",
      " 21%|████████████████▊                                                              | 306/1440 [00:11<00:39, 28.42it/s]"
     ]
    },
    {
     "name": "stdout",
     "output_type": "stream",
     "text": [
      "63530\n",
      "67267\n",
      "72072\n"
     ]
    },
    {
     "name": "stderr",
     "output_type": "stream",
     "text": [
      " 22%|█████████████████                                                              | 312/1440 [00:11<00:59, 18.83it/s]"
     ]
    },
    {
     "name": "stdout",
     "output_type": "stream",
     "text": [
      "74208\n",
      "69403\n",
      "76343\n",
      "56590\n"
     ]
    },
    {
     "name": "stderr",
     "output_type": "stream",
     "text": [
      " 22%|█████████████████▌                                                             | 319/1440 [00:12<00:47, 23.84it/s]"
     ]
    },
    {
     "name": "stdout",
     "output_type": "stream",
     "text": [
      "57658\n",
      "55522\n",
      "54988\n",
      "56056\n",
      "55522\n",
      "57124\n",
      "57657\n",
      "57124\n"
     ]
    },
    {
     "name": "stderr",
     "output_type": "stream",
     "text": [
      " 23%|█████████████████▉                                                             | 327/1440 [00:12<00:40, 27.53it/s]"
     ]
    },
    {
     "name": "stdout",
     "output_type": "stream",
     "text": [
      "57658\n",
      "55522\n",
      "54988\n",
      "67267\n",
      "65666\n",
      "73673\n",
      "64598\n"
     ]
    },
    {
     "name": "stderr",
     "output_type": "stream",
     "text": [
      " 23%|██████████████████▎                                                            | 334/1440 [00:12<00:41, 26.44it/s]"
     ]
    },
    {
     "name": "stdout",
     "output_type": "stream",
     "text": [
      "60327\n",
      "63530\n",
      "67267\n",
      "62462\n",
      "65666\n",
      "67267\n"
     ]
    },
    {
     "name": "stderr",
     "output_type": "stream",
     "text": [
      "\r",
      " 23%|██████████████████▍                                                            | 337/1440 [00:12<00:43, 25.43it/s]"
     ]
    },
    {
     "name": "stdout",
     "output_type": "stream",
     "text": [
      "71004\n",
      "71538\n",
      "58191\n",
      "54988\n",
      "57124\n",
      "56056\n"
     ]
    },
    {
     "name": "stderr",
     "output_type": "stream",
     "text": [
      " 24%|██████████████████▊                                                            | 344/1440 [00:13<00:44, 24.70it/s]"
     ]
    },
    {
     "name": "stdout",
     "output_type": "stream",
     "text": [
      "58192\n",
      "57658\n",
      "59793\n",
      "59793\n",
      "56056\n",
      "68335\n"
     ]
    },
    {
     "name": "stderr",
     "output_type": "stream",
     "text": [
      " 24%|███████████████████▎                                                           | 351/1440 [00:13<00:40, 26.83it/s]"
     ]
    },
    {
     "name": "stdout",
     "output_type": "stream",
     "text": [
      "59793\n",
      "62996\n",
      "68869\n",
      "62996\n",
      "64598\n",
      "63530\n",
      "51785\n"
     ]
    },
    {
     "name": "stderr",
     "output_type": "stream",
     "text": [
      " 25%|███████████████████▌                                                           | 357/1440 [00:13<00:43, 24.74it/s]"
     ]
    },
    {
     "name": "stdout",
     "output_type": "stream",
     "text": [
      "51785\n",
      "51251\n",
      "50183\n",
      "51785\n",
      "53921\n",
      "52853\n",
      "51251\n"
     ]
    },
    {
     "name": "stderr",
     "output_type": "stream",
     "text": [
      " 25%|████████████████████                                                           | 366/1440 [00:13<00:34, 30.84it/s]"
     ]
    },
    {
     "name": "stdout",
     "output_type": "stream",
     "text": [
      "62463\n",
      "60861\n",
      "66199\n",
      "59793\n",
      "55522\n",
      "59793\n",
      "56056\n",
      "56590\n",
      "64064\n"
     ]
    },
    {
     "name": "stderr",
     "output_type": "stream",
     "text": [
      " 26%|████████████████████▌                                                          | 375/1440 [00:14<00:29, 35.67it/s]"
     ]
    },
    {
     "name": "stdout",
     "output_type": "stream",
     "text": [
      "61929\n",
      "68335\n",
      "65666\n",
      "56056\n",
      "55522\n",
      "54454\n",
      "54454\n",
      "65666\n"
     ]
    },
    {
     "name": "stderr",
     "output_type": "stream",
     "text": [
      " 27%|█████████████████████                                                          | 383/1440 [00:14<00:37, 27.84it/s]"
     ]
    },
    {
     "name": "stdout",
     "output_type": "stream",
     "text": [
      "64598\n",
      "64598\n",
      "61395\n",
      "56590\n",
      "57657\n",
      "56590\n",
      "61928\n",
      "62996\n"
     ]
    },
    {
     "name": "stderr",
     "output_type": "stream",
     "text": [
      " 27%|█████████████████████▍                                                         | 391/1440 [00:14<00:35, 29.82it/s]"
     ]
    },
    {
     "name": "stdout",
     "output_type": "stream",
     "text": [
      "61395\n",
      "58192\n",
      "61395\n",
      "64064\n",
      "63530\n",
      "64064\n",
      "64064\n",
      "57658\n"
     ]
    },
    {
     "name": "stderr",
     "output_type": "stream",
     "text": [
      " 28%|█████████████████████▉                                                         | 399/1440 [00:14<00:34, 30.29it/s]"
     ]
    },
    {
     "name": "stdout",
     "output_type": "stream",
     "text": [
      "64064\n",
      "61395\n",
      "69403\n",
      "54988\n",
      "56056\n",
      "54988\n",
      "53921\n"
     ]
    },
    {
     "name": "stderr",
     "output_type": "stream",
     "text": [
      " 28%|██████████████████████▎                                                        | 407/1440 [00:15<00:34, 30.27it/s]"
     ]
    },
    {
     "name": "stdout",
     "output_type": "stream",
     "text": [
      "58192\n",
      "55522\n",
      "54454\n",
      "56056\n",
      "56590\n",
      "56056\n",
      "54988\n"
     ]
    },
    {
     "name": "stderr",
     "output_type": "stream",
     "text": [
      "\r",
      " 29%|██████████████████████▌                                                        | 411/1440 [00:15<00:34, 29.99it/s]"
     ]
    },
    {
     "name": "stdout",
     "output_type": "stream",
     "text": [
      "56590\n",
      "66200\n",
      "70470\n",
      "66199\n",
      "76343\n",
      "55522\n"
     ]
    },
    {
     "name": "stderr",
     "output_type": "stream",
     "text": [
      "\r",
      " 29%|██████████████████████▊                                                        | 415/1440 [00:15<00:34, 29.96it/s]"
     ]
    },
    {
     "name": "stdout",
     "output_type": "stream",
     "text": [
      "56590\n",
      "54988\n",
      "54988\n",
      "61929\n"
     ]
    },
    {
     "name": "stderr",
     "output_type": "stream",
     "text": [
      " 29%|███████████████████████▏                                                       | 423/1440 [00:15<00:38, 26.40it/s]"
     ]
    },
    {
     "name": "stdout",
     "output_type": "stream",
     "text": [
      "58191\n",
      "54988\n",
      "55522\n",
      "56056\n",
      "58192\n",
      "56590\n",
      "56056\n"
     ]
    },
    {
     "name": "stderr",
     "output_type": "stream",
     "text": [
      " 30%|███████████████████████▌                                                       | 430/1440 [00:16<00:35, 28.56it/s]"
     ]
    },
    {
     "name": "stdout",
     "output_type": "stream",
     "text": [
      "57658\n",
      "54455\n",
      "55522\n",
      "55522\n",
      "58191\n",
      "59793\n",
      "58725\n",
      "60861\n",
      "56056\n"
     ]
    },
    {
     "name": "stderr",
     "output_type": "stream",
     "text": [
      " 30%|████████████████████████                                                       | 439/1440 [00:16<00:32, 30.77it/s]"
     ]
    },
    {
     "name": "stdout",
     "output_type": "stream",
     "text": [
      "54988\n",
      "55522\n",
      "54988\n",
      "60327\n",
      "62462\n",
      "61395\n",
      "62996\n"
     ]
    },
    {
     "name": "stderr",
     "output_type": "stream",
     "text": [
      "\r",
      " 31%|████████████████████████▎                                                      | 443/1440 [00:16<00:30, 32.57it/s]"
     ]
    },
    {
     "name": "stdout",
     "output_type": "stream",
     "text": [
      "67267\n",
      "61928\n",
      "57124\n",
      "57658\n",
      "60327\n",
      "62996\n"
     ]
    },
    {
     "name": "stderr",
     "output_type": "stream",
     "text": [
      " 31%|████████████████████████▋                                                      | 451/1440 [00:16<00:33, 29.46it/s]"
     ]
    },
    {
     "name": "stdout",
     "output_type": "stream",
     "text": [
      "58725\n",
      "59259\n",
      "59259\n",
      "57658\n",
      "56590\n",
      "57124\n",
      "63530\n",
      "60327\n",
      "57658\n"
     ]
    },
    {
     "name": "stderr",
     "output_type": "stream",
     "text": [
      " 32%|█████████████████████████▎                                                     | 461/1440 [00:16<00:29, 33.10it/s]"
     ]
    },
    {
     "name": "stdout",
     "output_type": "stream",
     "text": [
      "58191\n",
      "63530\n",
      "58725\n",
      "60327\n",
      "58725\n",
      "63530\n",
      "62462\n",
      "61928\n",
      "62996\n"
     ]
    },
    {
     "name": "stderr",
     "output_type": "stream",
     "text": [
      " 33%|█████████████████████████▊                                                     | 471/1440 [00:17<00:26, 36.74it/s]"
     ]
    },
    {
     "name": "stdout",
     "output_type": "stream",
     "text": [
      "62462\n",
      "58725\n",
      "62996\n",
      "61395\n",
      "65132\n",
      "60327\n",
      "59793\n",
      "61928\n",
      "59259\n"
     ]
    },
    {
     "name": "stderr",
     "output_type": "stream",
     "text": [
      " 33%|██████████████████████████▎                                                    | 479/1440 [00:17<00:27, 35.37it/s]"
     ]
    },
    {
     "name": "stdout",
     "output_type": "stream",
     "text": [
      "60861\n",
      "60327\n",
      "56590\n",
      "61395\n",
      "59259\n",
      "60861\n",
      "61929\n",
      "52319\n",
      "51251\n"
     ]
    },
    {
     "name": "stderr",
     "output_type": "stream",
     "text": [
      " 34%|██████████████████████████▋                                                    | 487/1440 [00:17<00:27, 34.83it/s]"
     ]
    },
    {
     "name": "stdout",
     "output_type": "stream",
     "text": [
      "53387\n",
      "51785\n",
      "53387\n",
      "53387\n",
      "55522\n",
      "57124\n",
      "53387\n",
      "54988\n",
      "60861\n"
     ]
    },
    {
     "name": "stderr",
     "output_type": "stream",
     "text": [
      " 35%|███████████████████████████▎                                                   | 498/1440 [00:17<00:22, 41.65it/s]"
     ]
    },
    {
     "name": "stdout",
     "output_type": "stream",
     "text": [
      "58192\n",
      "53387\n",
      "56590\n",
      "52853\n",
      "55522\n",
      "60327\n",
      "66733\n",
      "57124\n",
      "57124\n",
      "52319\n",
      "54988\n",
      "54454\n"
     ]
    },
    {
     "name": "stderr",
     "output_type": "stream",
     "text": [
      " 35%|███████████████████████████▉                                                   | 509/1440 [00:18<00:21, 44.17it/s]"
     ]
    },
    {
     "name": "stdout",
     "output_type": "stream",
     "text": [
      "54455\n",
      "62996\n",
      "62462\n",
      "58192\n",
      "61929\n",
      "57124\n",
      "57124\n",
      "59793\n",
      "56590\n"
     ]
    },
    {
     "name": "stderr",
     "output_type": "stream",
     "text": [
      " 36%|████████████████████████████▌                                                  | 520/1440 [00:18<00:22, 41.34it/s]"
     ]
    },
    {
     "name": "stdout",
     "output_type": "stream",
     "text": [
      "60861\n",
      "60327\n",
      "69937\n",
      "63530\n",
      "50717\n",
      "50717\n",
      "50184\n",
      "50183\n",
      "51785\n",
      "52319\n",
      "51785\n",
      "51785\n",
      "54454\n"
     ]
    },
    {
     "name": "stderr",
     "output_type": "stream",
     "text": [
      " 37%|█████████████████████████████▏                                                 | 531/1440 [00:18<00:21, 42.97it/s]"
     ]
    },
    {
     "name": "stdout",
     "output_type": "stream",
     "text": [
      "56056\n",
      "55522\n",
      "54454\n",
      "58192\n",
      "56590\n",
      "57124\n",
      "57657\n",
      "49116\n",
      "53387\n",
      "54988\n"
     ]
    },
    {
     "name": "stderr",
     "output_type": "stream",
     "text": [
      " 38%|█████████████████████████████▋                                                 | 541/1440 [00:18<00:21, 41.86it/s]"
     ]
    },
    {
     "name": "stdout",
     "output_type": "stream",
     "text": [
      "54988\n",
      "52853\n",
      "52319\n",
      "54454\n",
      "54988\n",
      "56590\n",
      "61395\n",
      "59793\n",
      "58725\n"
     ]
    },
    {
     "name": "stderr",
     "output_type": "stream",
     "text": [
      " 38%|██████████████████████████████▏                                                | 550/1440 [00:19<00:25, 35.03it/s]"
     ]
    },
    {
     "name": "stdout",
     "output_type": "stream",
     "text": [
      "57124\n",
      "57657\n",
      "58191\n",
      "59259\n",
      "59793\n",
      "59793\n",
      "60861\n",
      "61395\n"
     ]
    },
    {
     "name": "stderr",
     "output_type": "stream",
     "text": [
      " 39%|██████████████████████████████▋                                                | 559/1440 [00:19<00:24, 36.12it/s]"
     ]
    },
    {
     "name": "stdout",
     "output_type": "stream",
     "text": [
      "56056\n",
      "55522\n",
      "52853\n",
      "53387\n",
      "61395\n",
      "56056\n",
      "59793\n",
      "63530\n"
     ]
    },
    {
     "name": "stderr",
     "output_type": "stream",
     "text": [
      "\r",
      " 39%|██████████████████████████████▉                                                | 563/1440 [00:19<00:31, 27.91it/s]"
     ]
    },
    {
     "name": "stdout",
     "output_type": "stream",
     "text": [
      "52853\n",
      "55522\n",
      "56590\n",
      "60861\n",
      "56056\n",
      "57124\n"
     ]
    },
    {
     "name": "stderr",
     "output_type": "stream",
     "text": [
      " 40%|███████████████████████████████▍                                               | 572/1440 [00:19<00:28, 30.82it/s]"
     ]
    },
    {
     "name": "stdout",
     "output_type": "stream",
     "text": [
      "58725\n",
      "57124\n",
      "62462\n",
      "64064\n",
      "65666\n",
      "66200\n",
      "66733\n",
      "71538\n"
     ]
    },
    {
     "name": "stderr",
     "output_type": "stream",
     "text": [
      " 40%|███████████████████████████████▊                                               | 580/1440 [00:20<00:25, 33.44it/s]"
     ]
    },
    {
     "name": "stdout",
     "output_type": "stream",
     "text": [
      "61928\n",
      "66199\n",
      "54455\n",
      "52853\n",
      "56590\n",
      "54988\n",
      "56056\n",
      "59259\n",
      "60861\n"
     ]
    },
    {
     "name": "stderr",
     "output_type": "stream",
     "text": [
      " 41%|████████████████████████████████▎                                              | 589/1440 [00:20<00:24, 34.53it/s]"
     ]
    },
    {
     "name": "stdout",
     "output_type": "stream",
     "text": [
      "61929\n",
      "59259\n",
      "67267\n",
      "61929\n",
      "68335\n",
      "74741\n",
      "72606\n",
      "67267\n"
     ]
    },
    {
     "name": "stderr",
     "output_type": "stream",
     "text": [
      " 41%|████████████████████████████████▊                                              | 597/1440 [00:20<00:28, 29.29it/s]"
     ]
    },
    {
     "name": "stdout",
     "output_type": "stream",
     "text": [
      "77945\n",
      "51785\n",
      "54455\n",
      "56056\n",
      "55522\n",
      "56056\n"
     ]
    },
    {
     "name": "stderr",
     "output_type": "stream",
     "text": [
      "\r",
      " 42%|████████████████████████████████▉                                              | 601/1440 [00:20<00:26, 31.39it/s]"
     ]
    },
    {
     "name": "stdout",
     "output_type": "stream",
     "text": [
      "54454\n",
      "58191\n",
      "56056\n",
      "50184\n",
      "49650\n",
      "51251\n",
      "50717\n"
     ]
    },
    {
     "name": "stderr",
     "output_type": "stream",
     "text": [
      " 42%|█████████████████████████████████▍                                             | 609/1440 [00:21<00:29, 28.57it/s]"
     ]
    },
    {
     "name": "stdout",
     "output_type": "stream",
     "text": [
      "52319\n",
      "53387\n",
      "53387\n",
      "58725\n",
      "61395\n",
      "59793\n",
      "60327\n",
      "61395\n"
     ]
    },
    {
     "name": "stderr",
     "output_type": "stream",
     "text": [
      " 43%|█████████████████████████████████▉                                             | 618/1440 [00:21<00:24, 33.09it/s]"
     ]
    },
    {
     "name": "stdout",
     "output_type": "stream",
     "text": [
      "49650\n",
      "51251\n",
      "50717\n",
      "51785\n",
      "64598\n",
      "58192\n",
      "61928\n",
      "56056\n",
      "53387\n"
     ]
    },
    {
     "name": "stderr",
     "output_type": "stream",
     "text": [
      " 44%|██████████████████████████████████▌                                            | 629/1440 [00:21<00:19, 41.27it/s]"
     ]
    },
    {
     "name": "stdout",
     "output_type": "stream",
     "text": [
      "57658\n",
      "56590\n",
      "54988\n",
      "53387\n",
      "57658\n",
      "53921\n",
      "53387\n",
      "57658\n",
      "55522\n",
      "55522\n",
      "59793\n",
      "56590\n",
      "63530\n"
     ]
    },
    {
     "name": "stderr",
     "output_type": "stream",
     "text": [
      " 45%|███████████████████████████████████▍                                           | 647/1440 [00:21<00:15, 50.67it/s]"
     ]
    },
    {
     "name": "stdout",
     "output_type": "stream",
     "text": [
      "62996\n",
      "60327\n",
      "55522\n",
      "56056\n",
      "50717\n",
      "51251\n",
      "51251\n",
      "51251\n",
      "49116\n",
      "50183\n",
      "58725\n",
      "57658\n",
      "55522\n"
     ]
    },
    {
     "name": "stderr",
     "output_type": "stream",
     "text": [
      "\r",
      " 45%|███████████████████████████████████▊                                           | 653/1440 [00:22<00:16, 47.93it/s]"
     ]
    },
    {
     "name": "stdout",
     "output_type": "stream",
     "text": [
      "58725\n",
      "60861\n",
      "60861\n",
      "59793\n",
      "59793\n",
      "49116\n",
      "50183\n",
      "50717\n",
      "47514\n",
      "49116\n"
     ]
    },
    {
     "name": "stderr",
     "output_type": "stream",
     "text": [
      "\r",
      " 46%|████████████████████████████████████▏                                          | 659/1440 [00:22<00:15, 50.86it/s]"
     ]
    },
    {
     "name": "stdout",
     "output_type": "stream",
     "text": [
      "49650\n",
      "49116\n",
      "49116\n",
      "58191\n",
      "56590\n",
      "57658\n",
      "58192\n"
     ]
    },
    {
     "name": "stderr",
     "output_type": "stream",
     "text": [
      " 47%|█████████████████████████████████████                                          | 675/1440 [00:22<00:17, 43.94it/s]"
     ]
    },
    {
     "name": "stdout",
     "output_type": "stream",
     "text": [
      "61928\n",
      "60327\n",
      "60327\n",
      "58725\n",
      "63530\n",
      "60327\n",
      "59793\n",
      "60861\n",
      "59259\n",
      "59793\n",
      "56056\n"
     ]
    },
    {
     "name": "stderr",
     "output_type": "stream",
     "text": [
      "\r",
      " 47%|█████████████████████████████████████▎                                         | 680/1440 [00:22<00:17, 42.96it/s]"
     ]
    },
    {
     "name": "stdout",
     "output_type": "stream",
     "text": [
      "59793\n",
      "67267\n",
      "66199\n",
      "62463\n",
      "63530\n",
      "58725\n",
      "57657\n",
      "58725\n",
      "57124\n",
      "61928\n"
     ]
    },
    {
     "name": "stderr",
     "output_type": "stream",
     "text": [
      " 48%|█████████████████████████████████████▊                                         | 690/1440 [00:22<00:16, 44.88it/s]"
     ]
    },
    {
     "name": "stdout",
     "output_type": "stream",
     "text": [
      "60327\n",
      "60861\n",
      "61929\n",
      "68335\n",
      "63530\n",
      "59793\n",
      "66199\n",
      "58191\n",
      "58725\n",
      "60861\n"
     ]
    },
    {
     "name": "stderr",
     "output_type": "stream",
     "text": [
      " 49%|██████████████████████████████████████▍                                        | 701/1440 [00:23<00:16, 43.87it/s]"
     ]
    },
    {
     "name": "stdout",
     "output_type": "stream",
     "text": [
      "61395\n",
      "54455\n",
      "56056\n",
      "53920\n",
      "51251\n",
      "59793\n",
      "59259\n",
      "55522\n",
      "58725\n"
     ]
    },
    {
     "name": "stderr",
     "output_type": "stream",
     "text": [
      " 49%|███████████████████████████████████████                                        | 711/1440 [00:23<00:18, 38.58it/s]"
     ]
    },
    {
     "name": "stdout",
     "output_type": "stream",
     "text": [
      "59793\n",
      "59259\n",
      "57658\n",
      "59259\n",
      "63530\n",
      "72606\n",
      "67267\n",
      "63530\n",
      "56590\n"
     ]
    },
    {
     "name": "stderr",
     "output_type": "stream",
     "text": [
      "\r",
      " 50%|███████████████████████████████████████▏                                       | 715/1440 [00:23<00:19, 38.06it/s]"
     ]
    },
    {
     "name": "stdout",
     "output_type": "stream",
     "text": [
      "58191\n",
      "56056\n",
      "57658\n",
      "59259\n"
     ]
    },
    {
     "name": "stderr",
     "output_type": "stream",
     "text": [
      " 50%|███████████████████████████████████████▋                                       | 723/1440 [00:23<00:24, 29.50it/s]"
     ]
    },
    {
     "name": "stdout",
     "output_type": "stream",
     "text": [
      "59793\n",
      "59793\n",
      "58725\n",
      "50717\n",
      "51251\n",
      "49116\n",
      "50183\n"
     ]
    },
    {
     "name": "stderr",
     "output_type": "stream",
     "text": [
      " 51%|████████████████████████████████████████▏                                      | 732/1440 [00:24<00:20, 33.88it/s]"
     ]
    },
    {
     "name": "stdout",
     "output_type": "stream",
     "text": [
      "52853\n",
      "50717\n",
      "50183\n",
      "46980\n",
      "50184\n",
      "51251\n",
      "48048\n",
      "48582\n",
      "51785\n",
      "51251\n"
     ]
    },
    {
     "name": "stderr",
     "output_type": "stream",
     "text": [
      " 52%|████████████████████████████████████████▋                                      | 742/1440 [00:24<00:18, 38.30it/s]"
     ]
    },
    {
     "name": "stdout",
     "output_type": "stream",
     "text": [
      "50184\n",
      "51251\n",
      "54988\n",
      "57658\n",
      "53920\n",
      "53387\n",
      "57124\n",
      "56590\n",
      "54988\n",
      "53921\n"
     ]
    },
    {
     "name": "stderr",
     "output_type": "stream",
     "text": [
      " 52%|█████████████████████████████████████████▏                                     | 750/1440 [00:24<00:18, 36.98it/s]"
     ]
    },
    {
     "name": "stdout",
     "output_type": "stream",
     "text": [
      "53387\n",
      "52853\n",
      "54988\n",
      "51251\n",
      "54988\n",
      "56590\n",
      "57658\n",
      "53920\n"
     ]
    },
    {
     "name": "stderr",
     "output_type": "stream",
     "text": [
      " 53%|█████████████████████████████████████████▌                                     | 758/1440 [00:24<00:18, 36.90it/s]"
     ]
    },
    {
     "name": "stdout",
     "output_type": "stream",
     "text": [
      "58725\n",
      "68335\n",
      "57124\n",
      "66733\n",
      "50184\n",
      "50717\n",
      "51251\n",
      "51785\n"
     ]
    },
    {
     "name": "stderr",
     "output_type": "stream",
     "text": [
      "\r",
      " 53%|█████████████████████████████████████████▊                                     | 762/1440 [00:24<00:18, 37.11it/s]"
     ]
    },
    {
     "name": "stdout",
     "output_type": "stream",
     "text": [
      "53921\n",
      "52319\n",
      "56056\n",
      "51251\n",
      "50183\n"
     ]
    },
    {
     "name": "stderr",
     "output_type": "stream",
     "text": [
      " 53%|██████████████████████████████████████████▏                                    | 770/1440 [00:25<00:21, 30.91it/s]"
     ]
    },
    {
     "name": "stdout",
     "output_type": "stream",
     "text": [
      "50717\n",
      "52319\n",
      "51785\n",
      "54454\n",
      "59259\n",
      "54454\n",
      "54988\n",
      "54454\n"
     ]
    },
    {
     "name": "stderr",
     "output_type": "stream",
     "text": [
      " 54%|██████████████████████████████████████████▋                                    | 779/1440 [00:25<00:18, 35.27it/s]"
     ]
    },
    {
     "name": "stdout",
     "output_type": "stream",
     "text": [
      "50183\n",
      "50184\n",
      "48582\n",
      "53387\n",
      "52853\n",
      "53387\n",
      "52853\n",
      "55522\n",
      "53387\n"
     ]
    },
    {
     "name": "stderr",
     "output_type": "stream",
     "text": [
      " 55%|███████████████████████████████████████████▏                                   | 787/1440 [00:25<00:19, 33.67it/s]"
     ]
    },
    {
     "name": "stdout",
     "output_type": "stream",
     "text": [
      "55522\n",
      "57124\n",
      "59793\n",
      "57124\n",
      "54455\n",
      "56056\n",
      "61928\n",
      "62462\n",
      "59793\n"
     ]
    },
    {
     "name": "stderr",
     "output_type": "stream",
     "text": [
      " 55%|███████████████████████████████████████████▋                                   | 797/1440 [00:26<00:17, 37.36it/s]"
     ]
    },
    {
     "name": "stdout",
     "output_type": "stream",
     "text": [
      "60327\n",
      "59259\n",
      "58725\n",
      "54454\n",
      "55522\n",
      "60327\n",
      "59793\n",
      "61395\n",
      "59793\n"
     ]
    },
    {
     "name": "stderr",
     "output_type": "stream",
     "text": [
      " 56%|████████████████████████████████████████████▏                                  | 805/1440 [00:26<00:18, 34.90it/s]"
     ]
    },
    {
     "name": "stdout",
     "output_type": "stream",
     "text": [
      "59793\n",
      "57658\n",
      "57658\n",
      "56590\n",
      "61928\n",
      "58725\n",
      "58725\n",
      "62463\n",
      "57657\n"
     ]
    },
    {
     "name": "stderr",
     "output_type": "stream",
     "text": [
      " 57%|████████████████████████████████████████████▋                                  | 814/1440 [00:26<00:21, 29.15it/s]"
     ]
    },
    {
     "name": "stdout",
     "output_type": "stream",
     "text": [
      "59259\n",
      "59793\n",
      "62463\n",
      "68335\n",
      "69936\n"
     ]
    },
    {
     "name": "stderr",
     "output_type": "stream",
     "text": [
      "\r",
      " 57%|████████████████████████████████████████████▉                                  | 818/1440 [00:26<00:21, 29.29it/s]"
     ]
    },
    {
     "name": "stdout",
     "output_type": "stream",
     "text": [
      "66733\n",
      "70471\n",
      "53920\n",
      "57124\n",
      "53921\n",
      "53920\n",
      "53920\n",
      "54454\n"
     ]
    },
    {
     "name": "stderr",
     "output_type": "stream",
     "text": [
      " 57%|█████████████████████████████████████████████▎                                 | 827/1440 [00:27<00:19, 31.63it/s]"
     ]
    },
    {
     "name": "stdout",
     "output_type": "stream",
     "text": [
      "56056\n",
      "55522\n",
      "60327\n",
      "58191\n",
      "59793\n",
      "60327\n",
      "62996\n"
     ]
    },
    {
     "name": "stderr",
     "output_type": "stream",
     "text": [
      " 58%|█████████████████████████████████████████████▊                                 | 835/1440 [00:27<00:20, 29.76it/s]"
     ]
    },
    {
     "name": "stdout",
     "output_type": "stream",
     "text": [
      "59793\n",
      "58725\n",
      "60861\n",
      "58192\n",
      "57124\n",
      "51251\n"
     ]
    },
    {
     "name": "stderr",
     "output_type": "stream",
     "text": [
      "\r",
      " 58%|██████████████████████████████████████████████                                 | 839/1440 [00:27<00:21, 27.39it/s]"
     ]
    },
    {
     "name": "stdout",
     "output_type": "stream",
     "text": [
      "52853\n",
      "63530\n",
      "59259\n",
      "59259\n",
      "59793\n"
     ]
    },
    {
     "name": "stderr",
     "output_type": "stream",
     "text": [
      "\r",
      " 58%|██████████████████████████████████████████████▏                                | 842/1440 [00:27<00:24, 24.02it/s]"
     ]
    },
    {
     "name": "stdout",
     "output_type": "stream",
     "text": [
      "53921\n",
      "54988\n",
      "54988\n",
      "54454\n"
     ]
    },
    {
     "name": "stderr",
     "output_type": "stream",
     "text": [
      " 59%|██████████████████████████████████████████████▌                                | 849/1440 [00:27<00:24, 24.08it/s]"
     ]
    },
    {
     "name": "stdout",
     "output_type": "stream",
     "text": [
      "57124\n",
      "57124\n",
      "59793\n",
      "57124\n",
      "58725\n",
      "60861\n",
      "62996\n",
      "57657\n"
     ]
    },
    {
     "name": "stderr",
     "output_type": "stream",
     "text": [
      " 60%|███████████████████████████████████████████████▏                               | 859/1440 [00:28<00:16, 34.31it/s]"
     ]
    },
    {
     "name": "stdout",
     "output_type": "stream",
     "text": [
      "54454\n",
      "53387\n",
      "53387\n",
      "54988\n",
      "57124\n",
      "55522\n",
      "60861\n",
      "53921\n",
      "56056\n",
      "52853\n"
     ]
    },
    {
     "name": "stderr",
     "output_type": "stream",
     "text": [
      " 60%|███████████████████████████████████████████████▌                               | 867/1440 [00:28<00:16, 33.81it/s]"
     ]
    },
    {
     "name": "stdout",
     "output_type": "stream",
     "text": [
      "52853\n",
      "53920\n",
      "52319\n",
      "54454\n",
      "56590\n",
      "54988\n"
     ]
    },
    {
     "name": "stderr",
     "output_type": "stream",
     "text": [
      "\r",
      " 60%|███████████████████████████████████████████████▊                               | 871/1440 [00:28<00:20, 27.55it/s]"
     ]
    },
    {
     "name": "stdout",
     "output_type": "stream",
     "text": [
      "58192\n",
      "57658\n",
      "59259\n",
      "56590\n",
      "56590\n"
     ]
    },
    {
     "name": "stderr",
     "output_type": "stream",
     "text": [
      " 61%|████████████████████████████████████████████████▎                              | 880/1440 [00:28<00:18, 30.62it/s]"
     ]
    },
    {
     "name": "stdout",
     "output_type": "stream",
     "text": [
      "59793\n",
      "55522\n",
      "57658\n",
      "52853\n",
      "52853\n",
      "52319\n",
      "52853\n",
      "53387\n",
      "55522\n"
     ]
    },
    {
     "name": "stderr",
     "output_type": "stream",
     "text": [
      " 62%|████████████████████████████████████████████████▋                              | 888/1440 [00:29<00:17, 30.92it/s]"
     ]
    },
    {
     "name": "stdout",
     "output_type": "stream",
     "text": [
      "53920\n",
      "56056\n",
      "59793\n",
      "58191\n",
      "58725\n",
      "65132\n",
      "59259\n"
     ]
    },
    {
     "name": "stderr",
     "output_type": "stream",
     "text": [
      " 62%|█████████████████████████████████████████████████▏                             | 896/1440 [00:29<00:17, 31.35it/s]"
     ]
    },
    {
     "name": "stdout",
     "output_type": "stream",
     "text": [
      "53921\n",
      "52853\n",
      "55522\n",
      "58192\n",
      "54988\n",
      "59259\n",
      "53921\n",
      "53920\n",
      "52853\n"
     ]
    },
    {
     "name": "stderr",
     "output_type": "stream",
     "text": [
      " 63%|█████████████████████████████████████████████████▌                             | 904/1440 [00:29<00:16, 32.15it/s]"
     ]
    },
    {
     "name": "stdout",
     "output_type": "stream",
     "text": [
      "51251\n",
      "53387\n",
      "59793\n",
      "59793\n",
      "57658\n",
      "57124\n",
      "59259\n"
     ]
    },
    {
     "name": "stderr",
     "output_type": "stream",
     "text": [
      " 63%|██████████████████████████████████████████████████                             | 912/1440 [00:29<00:17, 30.97it/s]"
     ]
    },
    {
     "name": "stdout",
     "output_type": "stream",
     "text": [
      "61928\n",
      "60861\n",
      "58725\n",
      "61928\n",
      "62996\n",
      "60861\n",
      "60861\n"
     ]
    },
    {
     "name": "stderr",
     "output_type": "stream",
     "text": [
      "\r",
      " 64%|██████████████████████████████████████████████████▎                            | 916/1440 [00:30<00:16, 31.35it/s]"
     ]
    },
    {
     "name": "stdout",
     "output_type": "stream",
     "text": [
      "59259\n",
      "58725\n",
      "59793\n",
      "58725\n",
      "60327\n",
      "57124\n"
     ]
    },
    {
     "name": "stderr",
     "output_type": "stream",
     "text": [
      " 64%|██████████████████████████████████████████████████▋                            | 924/1440 [00:30<00:16, 30.62it/s]"
     ]
    },
    {
     "name": "stdout",
     "output_type": "stream",
     "text": [
      "60327\n",
      "60861\n",
      "57124\n",
      "58191\n",
      "54455\n",
      "56056\n",
      "59793\n",
      "60861\n"
     ]
    },
    {
     "name": "stderr",
     "output_type": "stream",
     "text": [
      "\r",
      " 64%|██████████████████████████████████████████████████▉                            | 928/1440 [00:30<00:17, 30.11it/s]"
     ]
    },
    {
     "name": "stdout",
     "output_type": "stream",
     "text": [
      "61929\n",
      "59793\n",
      "63530\n",
      "64064\n",
      "62462\n",
      "62462\n"
     ]
    },
    {
     "name": "stderr",
     "output_type": "stream",
     "text": [
      " 65%|███████████████████████████████████████████████████▎                           | 936/1440 [00:30<00:16, 29.78it/s]"
     ]
    },
    {
     "name": "stdout",
     "output_type": "stream",
     "text": [
      "63530\n",
      "59793\n",
      "60861\n",
      "65132\n",
      "59259\n",
      "56056\n",
      "58191\n"
     ]
    },
    {
     "name": "stderr",
     "output_type": "stream",
     "text": [
      " 66%|███████████████████████████████████████████████████▊                           | 945/1440 [00:30<00:14, 33.57it/s]"
     ]
    },
    {
     "name": "stdout",
     "output_type": "stream",
     "text": [
      "57124\n",
      "59793\n",
      "59793\n",
      "56590\n",
      "56056\n",
      "60327\n",
      "59793\n",
      "55522\n"
     ]
    },
    {
     "name": "stderr",
     "output_type": "stream",
     "text": [
      " 66%|████████████████████████████████████████████████████▎                          | 953/1440 [00:31<00:13, 36.01it/s]"
     ]
    },
    {
     "name": "stdout",
     "output_type": "stream",
     "text": [
      "57124\n",
      "68335\n",
      "67801\n",
      "66199\n",
      "66200\n",
      "56590\n",
      "54988\n",
      "56056\n",
      "54988\n",
      "56590\n"
     ]
    },
    {
     "name": "stderr",
     "output_type": "stream",
     "text": [
      " 67%|████████████████████████████████████████████████████▋                          | 961/1440 [00:31<00:13, 35.75it/s]"
     ]
    },
    {
     "name": "stdout",
     "output_type": "stream",
     "text": [
      "56590\n",
      "57124\n",
      "57124\n",
      "61395\n",
      "56056\n",
      "56056\n",
      "55522\n",
      "56056\n"
     ]
    },
    {
     "name": "stderr",
     "output_type": "stream",
     "text": [
      " 67%|█████████████████████████████████████████████████████▏                         | 969/1440 [00:31<00:15, 30.57it/s]"
     ]
    },
    {
     "name": "stdout",
     "output_type": "stream",
     "text": [
      "56590\n",
      "59793\n",
      "60327\n",
      "61929\n",
      "57658\n",
      "61395\n"
     ]
    },
    {
     "name": "stderr",
     "output_type": "stream",
     "text": [
      " 68%|█████████████████████████████████████████████████████▌                         | 977/1440 [00:32<00:16, 27.88it/s]"
     ]
    },
    {
     "name": "stdout",
     "output_type": "stream",
     "text": [
      "56590\n",
      "55522\n",
      "56590\n",
      "55522\n",
      "56590\n",
      "59793\n"
     ]
    },
    {
     "name": "stderr",
     "output_type": "stream",
     "text": [
      " 68%|██████████████████████████████████████████████████████                         | 985/1440 [00:32<00:14, 32.06it/s]"
     ]
    },
    {
     "name": "stdout",
     "output_type": "stream",
     "text": [
      "65666\n",
      "59793\n",
      "60861\n",
      "58725\n",
      "56056\n",
      "57124\n",
      "57658\n",
      "58725\n",
      "59259\n",
      "57658\n",
      "57124\n"
     ]
    },
    {
     "name": "stderr",
     "output_type": "stream",
     "text": [
      " 69%|██████████████████████████████████████████████████████▌                        | 995/1440 [00:32<00:12, 36.01it/s]"
     ]
    },
    {
     "name": "stdout",
     "output_type": "stream",
     "text": [
      "55522\n",
      "59259\n",
      "57658\n",
      "56590\n",
      "56056\n",
      "59793\n",
      "58192\n",
      "60861\n",
      "55522\n"
     ]
    },
    {
     "name": "stderr",
     "output_type": "stream",
     "text": [
      " 70%|██████████████████████████████████████████████████████▎                       | 1003/1440 [00:32<00:13, 32.27it/s]"
     ]
    },
    {
     "name": "stdout",
     "output_type": "stream",
     "text": [
      "56056\n",
      "56590\n",
      "58191\n",
      "59259\n",
      "59793\n",
      "58725\n"
     ]
    },
    {
     "name": "stderr",
     "output_type": "stream",
     "text": [
      "\r",
      " 70%|██████████████████████████████████████████████████████▌                       | 1007/1440 [00:32<00:14, 29.94it/s]"
     ]
    },
    {
     "name": "stdout",
     "output_type": "stream",
     "text": [
      "61395\n",
      "61395\n",
      "59259\n",
      "57124\n",
      "56056\n",
      "67267\n"
     ]
    },
    {
     "name": "stderr",
     "output_type": "stream",
     "text": [
      "\r",
      " 70%|██████████████████████████████████████████████████████▊                       | 1011/1440 [00:33<00:15, 27.97it/s]"
     ]
    },
    {
     "name": "stdout",
     "output_type": "stream",
     "text": [
      "66733\n",
      "71538\n",
      "73674\n",
      "54454\n",
      "58191\n",
      "53921\n"
     ]
    },
    {
     "name": "stderr",
     "output_type": "stream",
     "text": [
      " 71%|███████████████████████████████████████████████████████▎                      | 1020/1440 [00:33<00:13, 30.69it/s]"
     ]
    },
    {
     "name": "stdout",
     "output_type": "stream",
     "text": [
      "54988\n",
      "56590\n",
      "58725\n",
      "54988\n",
      "56590\n",
      "55522\n",
      "56590\n",
      "55522\n",
      "55522\n"
     ]
    },
    {
     "name": "stderr",
     "output_type": "stream",
     "text": [
      " 72%|███████████████████████████████████████████████████████▊                      | 1030/1440 [00:33<00:10, 37.75it/s]"
     ]
    },
    {
     "name": "stdout",
     "output_type": "stream",
     "text": [
      "55522\n",
      "54455\n",
      "58192\n",
      "56056\n",
      "57658\n",
      "57658\n",
      "57657\n",
      "57658\n",
      "54454\n"
     ]
    },
    {
     "name": "stderr",
     "output_type": "stream",
     "text": [
      " 72%|████████████████████████████████████████████████████████▏                     | 1038/1440 [00:33<00:13, 28.74it/s]"
     ]
    },
    {
     "name": "stdout",
     "output_type": "stream",
     "text": [
      "53920\n",
      "54988\n",
      "56056\n",
      "60327\n",
      "62996\n"
     ]
    },
    {
     "name": "stderr",
     "output_type": "stream",
     "text": [
      "\r",
      " 72%|████████████████████████████████████████████████████████▍                     | 1042/1440 [00:34<00:14, 27.53it/s]"
     ]
    },
    {
     "name": "stdout",
     "output_type": "stream",
     "text": [
      "60327\n",
      "61395\n",
      "57124\n",
      "58191\n",
      "56590\n",
      "58191\n"
     ]
    },
    {
     "name": "stderr",
     "output_type": "stream",
     "text": [
      " 73%|████████████████████████████████████████████████████████▉                     | 1050/1440 [00:34<00:13, 27.99it/s]"
     ]
    },
    {
     "name": "stdout",
     "output_type": "stream",
     "text": [
      "60861\n",
      "61395\n",
      "66200\n",
      "61395\n",
      "62462\n",
      "66733\n"
     ]
    },
    {
     "name": "stderr",
     "output_type": "stream",
     "text": [
      "\r",
      " 73%|█████████████████████████████████████████████████████████▏                    | 1055/1440 [00:34<00:12, 31.73it/s]"
     ]
    },
    {
     "name": "stdout",
     "output_type": "stream",
     "text": [
      "57124\n",
      "58192\n",
      "59259\n",
      "60327\n",
      "61395\n",
      "67801\n"
     ]
    },
    {
     "name": "stderr",
     "output_type": "stream",
     "text": [
      " 74%|█████████████████████████████████████████████████████████▌                    | 1063/1440 [00:34<00:12, 30.69it/s]"
     ]
    },
    {
     "name": "stdout",
     "output_type": "stream",
     "text": [
      "54988\n",
      "54454\n",
      "55522\n",
      "55522\n",
      "59793\n",
      "66733\n",
      "60861\n",
      "60861\n"
     ]
    },
    {
     "name": "stderr",
     "output_type": "stream",
     "text": [
      "\r",
      " 74%|█████████████████████████████████████████████████████████▊                    | 1067/1440 [00:34<00:12, 30.92it/s]"
     ]
    },
    {
     "name": "stdout",
     "output_type": "stream",
     "text": [
      "68869\n",
      "65132\n",
      "58725\n",
      "69937\n",
      "76343\n",
      "71538\n",
      "74207\n"
     ]
    },
    {
     "name": "stderr",
     "output_type": "stream",
     "text": [
      " 75%|██████████████████████████████████████████████████████████▍                   | 1078/1440 [00:35<00:11, 31.13it/s]"
     ]
    },
    {
     "name": "stdout",
     "output_type": "stream",
     "text": [
      "73140\n",
      "53920\n",
      "56056\n",
      "56056\n",
      "56056\n",
      "58192\n",
      "56590\n",
      "61929\n"
     ]
    },
    {
     "name": "stderr",
     "output_type": "stream",
     "text": [
      "\r",
      " 75%|██████████████████████████████████████████████████████████▌                   | 1082/1440 [00:35<00:12, 29.06it/s]"
     ]
    },
    {
     "name": "stdout",
     "output_type": "stream",
     "text": [
      "58191\n",
      "53921\n",
      "51785\n",
      "53387\n",
      "52853\n"
     ]
    },
    {
     "name": "stderr",
     "output_type": "stream",
     "text": [
      " 76%|██████████████████████████████████████████████████████████▉                   | 1089/1440 [00:35<00:13, 26.72it/s]"
     ]
    },
    {
     "name": "stdout",
     "output_type": "stream",
     "text": [
      "58725\n",
      "58725\n",
      "53387\n",
      "55522\n",
      "71538\n",
      "64598\n",
      "73674\n"
     ]
    },
    {
     "name": "stderr",
     "output_type": "stream",
     "text": [
      " 76%|███████████████████████████████████████████████████████████▎                  | 1096/1440 [00:35<00:12, 27.16it/s]"
     ]
    },
    {
     "name": "stdout",
     "output_type": "stream",
     "text": [
      "68869\n",
      "58191\n",
      "59259\n",
      "52319\n",
      "52853\n",
      "60327\n",
      "60861\n"
     ]
    },
    {
     "name": "stderr",
     "output_type": "stream",
     "text": [
      " 77%|███████████████████████████████████████████████████████████▊                  | 1104/1440 [00:36<00:10, 30.94it/s]"
     ]
    },
    {
     "name": "stdout",
     "output_type": "stream",
     "text": [
      "70470\n",
      "64064\n",
      "54988\n",
      "58725\n",
      "50717\n",
      "58725\n",
      "64064\n",
      "59259\n"
     ]
    },
    {
     "name": "stderr",
     "output_type": "stream",
     "text": [
      " 77%|████████████████████████████████████████████████████████████▏                 | 1112/1440 [00:36<00:10, 32.63it/s]"
     ]
    },
    {
     "name": "stdout",
     "output_type": "stream",
     "text": [
      "54455\n",
      "59793\n",
      "60327\n",
      "59259\n",
      "52853\n",
      "57124\n",
      "63530\n",
      "76877\n"
     ]
    },
    {
     "name": "stderr",
     "output_type": "stream",
     "text": [
      " 78%|████████████████████████████████████████████████████████████▊                 | 1123/1440 [00:36<00:07, 40.87it/s]"
     ]
    },
    {
     "name": "stdout",
     "output_type": "stream",
     "text": [
      "69403\n",
      "65666\n",
      "59259\n",
      "56056\n",
      "60327\n",
      "56590\n",
      "61395\n",
      "69936\n",
      "57124\n",
      "64598\n",
      "68869\n",
      "77411\n"
     ]
    },
    {
     "name": "stderr",
     "output_type": "stream",
     "text": [
      " 79%|█████████████████████████████████████████████████████████████▎                | 1133/1440 [00:36<00:08, 36.25it/s]"
     ]
    },
    {
     "name": "stdout",
     "output_type": "stream",
     "text": [
      "66733\n",
      "62996\n",
      "76877\n",
      "84351\n",
      "78478\n",
      "79012\n",
      "59793\n"
     ]
    },
    {
     "name": "stderr",
     "output_type": "stream",
     "text": [
      "\r",
      " 79%|█████████████████████████████████████████████████████████████▋                | 1138/1440 [00:37<00:07, 38.37it/s]"
     ]
    },
    {
     "name": "stdout",
     "output_type": "stream",
     "text": [
      "56590\n",
      "65665\n",
      "49116\n",
      "65666\n",
      "74208\n",
      "51785\n",
      "52319\n",
      "55522\n",
      "57124\n",
      "54988\n"
     ]
    },
    {
     "name": "stderr",
     "output_type": "stream",
     "text": [
      "\r",
      " 79%|█████████████████████████████████████████████████████████████▉                | 1143/1440 [00:37<00:07, 40.11it/s]"
     ]
    },
    {
     "name": "stdout",
     "output_type": "stream",
     "text": [
      "56590\n",
      "58191\n",
      "57124\n",
      "53387\n",
      "56056\n"
     ]
    },
    {
     "name": "stderr",
     "output_type": "stream",
     "text": [
      " 80%|██████████████████████████████████████████████████████████████▌               | 1156/1440 [00:37<00:08, 32.03it/s]"
     ]
    },
    {
     "name": "stdout",
     "output_type": "stream",
     "text": [
      "61929\n",
      "65132\n",
      "58191\n",
      "58192\n",
      "56590\n",
      "59259\n",
      "55522\n",
      "54454\n"
     ]
    },
    {
     "name": "stderr",
     "output_type": "stream",
     "text": [
      " 81%|███████████████████████████████████████████████████████████████               | 1165/1440 [00:37<00:08, 33.51it/s]"
     ]
    },
    {
     "name": "stdout",
     "output_type": "stream",
     "text": [
      "58725\n",
      "68869\n",
      "57124\n",
      "59259\n",
      "57657\n",
      "56056\n",
      "55522\n",
      "53921\n",
      "60327\n"
     ]
    },
    {
     "name": "stderr",
     "output_type": "stream",
     "text": [
      "\r",
      " 81%|███████████████████████████████████████████████████████████████▎              | 1169/1440 [00:38<00:08, 33.50it/s]"
     ]
    },
    {
     "name": "stdout",
     "output_type": "stream",
     "text": [
      "67801\n",
      "60861\n",
      "63530\n",
      "51785\n",
      "59793\n",
      "58725\n",
      "60861\n"
     ]
    },
    {
     "name": "stderr",
     "output_type": "stream",
     "text": [
      " 82%|███████████████████████████████████████████████████████████████▊              | 1177/1440 [00:38<00:07, 34.63it/s]"
     ]
    },
    {
     "name": "stdout",
     "output_type": "stream",
     "text": [
      "66200\n",
      "65132\n",
      "70471\n",
      "56590\n",
      "60861\n",
      "69936\n",
      "62996\n",
      "52853\n",
      "67801\n"
     ]
    },
    {
     "name": "stderr",
     "output_type": "stream",
     "text": [
      " 82%|████████████████████████████████████████████████████████████████▎             | 1188/1440 [00:38<00:06, 38.90it/s]"
     ]
    },
    {
     "name": "stdout",
     "output_type": "stream",
     "text": [
      "66733\n",
      "61929\n",
      "62463\n",
      "61928\n",
      "59793\n",
      "58191\n",
      "61395\n",
      "65666\n",
      "65665\n",
      "75809\n"
     ]
    },
    {
     "name": "stderr",
     "output_type": "stream",
     "text": [
      " 83%|████████████████████████████████████████████████████████████████▊             | 1196/1440 [00:38<00:07, 31.47it/s]"
     ]
    },
    {
     "name": "stdout",
     "output_type": "stream",
     "text": [
      "61928\n",
      "51785\n",
      "57124\n",
      "50184\n",
      "51251\n",
      "59793\n"
     ]
    },
    {
     "name": "stderr",
     "output_type": "stream",
     "text": [
      " 84%|█████████████████████████████████████████████████████████████████▎            | 1205/1440 [00:39<00:07, 33.06it/s]"
     ]
    },
    {
     "name": "stdout",
     "output_type": "stream",
     "text": [
      "51785\n",
      "56590\n",
      "54988\n",
      "61395\n",
      "63530\n",
      "57658\n",
      "58725\n",
      "64598\n"
     ]
    },
    {
     "name": "stderr",
     "output_type": "stream",
     "text": [
      "\r",
      " 84%|█████████████████████████████████████████████████████████████████▍            | 1209/1440 [00:39<00:07, 32.78it/s]"
     ]
    },
    {
     "name": "stdout",
     "output_type": "stream",
     "text": [
      "64064\n",
      "60861\n",
      "65132\n",
      "64064\n",
      "66733\n",
      "66200\n",
      "63530\n",
      "61395\n"
     ]
    },
    {
     "name": "stderr",
     "output_type": "stream",
     "text": [
      " 85%|██████████████████████████████████████████████████████████████████            | 1219/1440 [00:39<00:05, 37.60it/s]"
     ]
    },
    {
     "name": "stdout",
     "output_type": "stream",
     "text": [
      "60861\n",
      "59259\n",
      "61395\n",
      "60861\n",
      "62996\n",
      "58725\n",
      "60861\n"
     ]
    },
    {
     "name": "stderr",
     "output_type": "stream",
     "text": [
      "\r",
      " 85%|██████████████████████████████████████████████████████████████████▏           | 1223/1440 [00:39<00:06, 32.95it/s]"
     ]
    },
    {
     "name": "stdout",
     "output_type": "stream",
     "text": [
      "68869\n",
      "73674\n",
      "65132\n",
      "67267\n",
      "66733\n",
      "68335\n",
      "68335\n"
     ]
    },
    {
     "name": "stderr",
     "output_type": "stream",
     "text": [
      " 85%|██████████████████████████████████████████████████████████████████▋           | 1231/1440 [00:39<00:07, 28.64it/s]"
     ]
    },
    {
     "name": "stdout",
     "output_type": "stream",
     "text": [
      "66200\n",
      "66200\n",
      "64064\n",
      "65132\n",
      "62996\n",
      "69937\n"
     ]
    },
    {
     "name": "stderr",
     "output_type": "stream",
     "text": [
      " 86%|███████████████████████████████████████████████████████████████████           | 1238/1440 [00:40<00:06, 29.50it/s]"
     ]
    },
    {
     "name": "stdout",
     "output_type": "stream",
     "text": [
      "71538\n",
      "65665\n",
      "67801\n",
      "58725\n",
      "60327\n",
      "63530\n",
      "65132\n",
      "63530\n"
     ]
    },
    {
     "name": "stderr",
     "output_type": "stream",
     "text": [
      " 87%|███████████████████████████████████████████████████████████████████▍          | 1246/1440 [00:40<00:06, 29.59it/s]"
     ]
    },
    {
     "name": "stdout",
     "output_type": "stream",
     "text": [
      "61395\n",
      "60327\n",
      "58191\n",
      "60861\n",
      "65132\n",
      "58192\n",
      "57658\n",
      "65132\n",
      "64598\n"
     ]
    },
    {
     "name": "stderr",
     "output_type": "stream",
     "text": [
      " 87%|███████████████████████████████████████████████████████████████████▉          | 1255/1440 [00:40<00:05, 34.09it/s]"
     ]
    },
    {
     "name": "stdout",
     "output_type": "stream",
     "text": [
      "66733\n",
      "63530\n",
      "56056\n",
      "55522\n",
      "55522\n",
      "57124\n",
      "58191\n",
      "58192\n"
     ]
    },
    {
     "name": "stderr",
     "output_type": "stream",
     "text": [
      " 88%|████████████████████████████████████████████████████████████████████▍         | 1263/1440 [00:40<00:05, 33.22it/s]"
     ]
    },
    {
     "name": "stdout",
     "output_type": "stream",
     "text": [
      "55522\n",
      "56590\n",
      "58192\n",
      "54988\n",
      "57657\n",
      "56590\n",
      "56590\n",
      "57124\n",
      "57124\n"
     ]
    },
    {
     "name": "stderr",
     "output_type": "stream",
     "text": [
      " 88%|█████████████████████████████████████████████████████████████████████         | 1274/1440 [00:41<00:03, 41.90it/s]"
     ]
    },
    {
     "name": "stdout",
     "output_type": "stream",
     "text": [
      "56590\n",
      "59259\n",
      "61395\n",
      "58191\n",
      "60327\n",
      "56590\n",
      "54988\n",
      "56056\n",
      "56056\n",
      "59793\n",
      "61395\n"
     ]
    },
    {
     "name": "stderr",
     "output_type": "stream",
     "text": [
      "\r",
      " 89%|█████████████████████████████████████████████████████████████████████▎        | 1279/1440 [00:41<00:03, 41.73it/s]"
     ]
    },
    {
     "name": "stdout",
     "output_type": "stream",
     "text": [
      "58725\n",
      "62996\n",
      "57658\n",
      "59259\n",
      "58725\n"
     ]
    },
    {
     "name": "stderr",
     "output_type": "stream",
     "text": [
      "\r",
      " 89%|█████████████████████████████████████████████████████████████████████▌        | 1284/1440 [00:41<00:05, 29.67it/s]"
     ]
    },
    {
     "name": "stdout",
     "output_type": "stream",
     "text": [
      "59259\n",
      "59793\n",
      "58192\n",
      "59793\n"
     ]
    },
    {
     "name": "stderr",
     "output_type": "stream",
     "text": [
      " 90%|█████████████████████████████████████████████████████████████████████▉        | 1291/1440 [00:41<00:06, 23.80it/s]"
     ]
    },
    {
     "name": "stdout",
     "output_type": "stream",
     "text": [
      "61395\n",
      "59259\n",
      "59793\n",
      "61928\n",
      "64598\n"
     ]
    },
    {
     "name": "stderr",
     "output_type": "stream",
     "text": [
      " 90%|██████████████████████████████████████████████████████████████████████▎       | 1297/1440 [00:42<00:05, 24.63it/s]"
     ]
    },
    {
     "name": "stdout",
     "output_type": "stream",
     "text": [
      "61929\n",
      "62462\n",
      "67801\n",
      "67267\n",
      "57124\n",
      "57658\n",
      "58725\n"
     ]
    },
    {
     "name": "stderr",
     "output_type": "stream",
     "text": [
      " 91%|██████████████████████████████████████████████████████████████████████▋       | 1306/1440 [00:42<00:05, 25.12it/s]"
     ]
    },
    {
     "name": "stdout",
     "output_type": "stream",
     "text": [
      "56590\n",
      "57124\n",
      "57124\n",
      "58725\n",
      "57658\n",
      "59259\n",
      "62462\n"
     ]
    },
    {
     "name": "stderr",
     "output_type": "stream",
     "text": [
      "\r",
      " 91%|██████████████████████████████████████████████████████████████████████▉       | 1309/1440 [00:42<00:05, 23.00it/s]"
     ]
    },
    {
     "name": "stdout",
     "output_type": "stream",
     "text": [
      "60861\n",
      "61395\n",
      "67801\n",
      "66733\n",
      "67267\n"
     ]
    },
    {
     "name": "stderr",
     "output_type": "stream",
     "text": [
      " 91%|███████████████████████████████████████████████████████████████████████▎      | 1316/1440 [00:43<00:05, 22.68it/s]"
     ]
    },
    {
     "name": "stdout",
     "output_type": "stream",
     "text": [
      "65665\n",
      "56590\n",
      "57124\n",
      "54988\n",
      "57658\n",
      "57124\n",
      "59793\n",
      "59259\n"
     ]
    },
    {
     "name": "stderr",
     "output_type": "stream",
     "text": [
      " 92%|███████████████████████████████████████████████████████████████████████▋      | 1324/1440 [00:43<00:04, 25.44it/s]"
     ]
    },
    {
     "name": "stdout",
     "output_type": "stream",
     "text": [
      "58191\n",
      "60861\n",
      "59793\n",
      "58725\n",
      "61395\n",
      "63530\n",
      "65132\n"
     ]
    },
    {
     "name": "stderr",
     "output_type": "stream",
     "text": [
      "\r",
      " 92%|███████████████████████████████████████████████████████████████████████▉      | 1327/1440 [00:43<00:04, 25.16it/s]"
     ]
    },
    {
     "name": "stdout",
     "output_type": "stream",
     "text": [
      "66733\n",
      "64064\n",
      "73674\n",
      "73673\n"
     ]
    },
    {
     "name": "stderr",
     "output_type": "stream",
     "text": [
      " 93%|████████████████████████████████████████████████████████████████████████▏     | 1333/1440 [00:43<00:05, 21.39it/s]"
     ]
    },
    {
     "name": "stdout",
     "output_type": "stream",
     "text": [
      "65666\n",
      "73140\n",
      "53387\n",
      "52319\n",
      "51785\n",
      "52319\n"
     ]
    },
    {
     "name": "stderr",
     "output_type": "stream",
     "text": [
      " 93%|████████████████████████████████████████████████████████████████████████▌     | 1340/1440 [00:44<00:04, 24.43it/s]"
     ]
    },
    {
     "name": "stdout",
     "output_type": "stream",
     "text": [
      "51785\n",
      "51251\n",
      "51785\n",
      "51785\n",
      "57658\n",
      "61929\n"
     ]
    },
    {
     "name": "stderr",
     "output_type": "stream",
     "text": [
      " 93%|████████████████████████████████████████████████████████████████████████▉     | 1346/1440 [00:44<00:04, 22.63it/s]"
     ]
    },
    {
     "name": "stdout",
     "output_type": "stream",
     "text": [
      "57124\n",
      "58725\n",
      "68335\n",
      "69936\n",
      "62996\n",
      "75809\n"
     ]
    },
    {
     "name": "stderr",
     "output_type": "stream",
     "text": [
      " 94%|█████████████████████████████████████████████████████████████████████████▏    | 1352/1440 [00:44<00:03, 24.32it/s]"
     ]
    },
    {
     "name": "stdout",
     "output_type": "stream",
     "text": [
      "52853\n",
      "52853\n",
      "52319\n",
      "53387\n",
      "54454\n",
      "53387\n",
      "51785\n"
     ]
    },
    {
     "name": "stderr",
     "output_type": "stream",
     "text": [
      " 94%|█████████████████████████████████████████████████████████████████████████▌    | 1359/1440 [00:44<00:03, 25.76it/s]"
     ]
    },
    {
     "name": "stdout",
     "output_type": "stream",
     "text": [
      "52853\n",
      "54988\n",
      "51785\n",
      "50183\n",
      "49650\n"
     ]
    },
    {
     "name": "stderr",
     "output_type": "stream",
     "text": [
      " 95%|█████████████████████████████████████████████████████████████████████████▉    | 1365/1440 [00:45<00:03, 22.68it/s]"
     ]
    },
    {
     "name": "stdout",
     "output_type": "stream",
     "text": [
      "57124\n",
      "54988\n",
      "57124\n",
      "56590\n",
      "57124\n",
      "57124\n"
     ]
    },
    {
     "name": "stderr",
     "output_type": "stream",
     "text": [
      " 95%|██████████████████████████████████████████████████████████████████████████▎   | 1371/1440 [00:45<00:03, 21.94it/s]"
     ]
    },
    {
     "name": "stdout",
     "output_type": "stream",
     "text": [
      "55522\n",
      "53387\n",
      "65132\n",
      "61928\n",
      "59793\n"
     ]
    },
    {
     "name": "stderr",
     "output_type": "stream",
     "text": [
      "\r",
      " 95%|██████████████████████████████████████████████████████████████████████████▍   | 1374/1440 [00:45<00:03, 21.99it/s]"
     ]
    },
    {
     "name": "stdout",
     "output_type": "stream",
     "text": [
      "61928\n",
      "52319\n",
      "51785\n",
      "52853\n",
      "52853\n"
     ]
    },
    {
     "name": "stderr",
     "output_type": "stream",
     "text": [
      " 96%|██████████████████████████████████████████████████████████████████████████▊   | 1380/1440 [00:45<00:02, 21.67it/s]"
     ]
    },
    {
     "name": "stdout",
     "output_type": "stream",
     "text": [
      "56056\n",
      "53920\n",
      "53387\n",
      "52853\n",
      "59259\n",
      "58191\n"
     ]
    },
    {
     "name": "stderr",
     "output_type": "stream",
     "text": [
      " 96%|███████████████████████████████████████████████████████████████████████████   | 1386/1440 [00:46<00:02, 24.63it/s]"
     ]
    },
    {
     "name": "stdout",
     "output_type": "stream",
     "text": [
      "58192\n",
      "57658\n",
      "57124\n",
      "56056\n",
      "61929\n",
      "59259\n"
     ]
    },
    {
     "name": "stderr",
     "output_type": "stream",
     "text": [
      " 97%|███████████████████████████████████████████████████████████████████████████▍  | 1392/1440 [00:46<00:02, 22.31it/s]"
     ]
    },
    {
     "name": "stdout",
     "output_type": "stream",
     "text": [
      "65666\n",
      "65132\n",
      "64598\n",
      "65666\n",
      "57658\n",
      "62462\n",
      "56056\n"
     ]
    },
    {
     "name": "stderr",
     "output_type": "stream",
     "text": [
      " 97%|███████████████████████████████████████████████████████████████████████████▊  | 1400/1440 [00:46<00:01, 27.46it/s]"
     ]
    },
    {
     "name": "stdout",
     "output_type": "stream",
     "text": [
      "59793\n",
      "64064\n",
      "60327\n",
      "61929\n",
      "61929\n",
      "65666\n",
      "63530\n"
     ]
    },
    {
     "name": "stderr",
     "output_type": "stream",
     "text": [
      "\r",
      " 97%|███████████████████████████████████████████████████████████████████████████▉  | 1403/1440 [00:46<00:01, 24.43it/s]"
     ]
    },
    {
     "name": "stdout",
     "output_type": "stream",
     "text": [
      "56590\n",
      "61395\n",
      "70470\n",
      "73140\n"
     ]
    },
    {
     "name": "stderr",
     "output_type": "stream",
     "text": [
      " 98%|████████████████████████████████████████████████████████████████████████████▍ | 1412/1440 [00:47<00:01, 22.35it/s]"
     ]
    },
    {
     "name": "stdout",
     "output_type": "stream",
     "text": [
      "67267\n",
      "74741\n",
      "65666\n",
      "59793\n",
      "58725\n",
      "67267\n",
      "69937\n"
     ]
    },
    {
     "name": "stderr",
     "output_type": "stream",
     "text": [
      " 99%|████████████████████████████████████████████████████████████████████████████▊ | 1419/1440 [00:47<00:00, 26.60it/s]"
     ]
    },
    {
     "name": "stdout",
     "output_type": "stream",
     "text": [
      "69937\n",
      "66733\n",
      "81682\n",
      "65666\n",
      "65132\n",
      "62996\n",
      "64064\n",
      "61395\n"
     ]
    },
    {
     "name": "stderr",
     "output_type": "stream",
     "text": [
      " 99%|█████████████████████████████████████████████████████████████████████████████▏| 1426/1440 [00:47<00:00, 27.77it/s]"
     ]
    },
    {
     "name": "stdout",
     "output_type": "stream",
     "text": [
      "65132\n",
      "57657\n",
      "61395\n",
      "68869\n",
      "65666\n",
      "64064\n",
      "65132\n"
     ]
    },
    {
     "name": "stderr",
     "output_type": "stream",
     "text": [
      "100%|█████████████████████████████████████████████████████████████████████████████▌| 1433/1440 [00:47<00:00, 28.11it/s]"
     ]
    },
    {
     "name": "stdout",
     "output_type": "stream",
     "text": [
      "69403\n",
      "74207\n",
      "67801\n",
      "71004\n",
      "52853\n",
      "55522\n"
     ]
    },
    {
     "name": "stderr",
     "output_type": "stream",
     "text": [
      "100%|██████████████████████████████████████████████████████████████████████████████| 1440/1440 [00:48<00:00, 29.89it/s]"
     ]
    },
    {
     "name": "stdout",
     "output_type": "stream",
     "text": [
      "53921\n",
      "54454\n",
      "62996\n",
      "63530\n",
      "58725\n",
      "58191\n",
      "[0.         0.         0.         ... 0.00015259 0.00012207 0.00012207] 16000\n"
     ]
    },
    {
     "name": "stderr",
     "output_type": "stream",
     "text": [
      "\n"
     ]
    }
   ],
   "source": [
    "#after performing the cleaning the dataset that means after removing the error audio files the we need to store the actual data(audio files ) into another file\n",
    "import glob\n",
    "import pickle\n",
    "import os\n",
    "from tqdm import tqdm\n",
    "from scipy.io import wavfile\n",
    "i=0\n",
    "print(\"0--------------------------------------\")\n",
    "for file in tqdm(glob.glob(r\"D:\\\\nlpcode\\\\Projects\\\\speech emotion recognition\\\\AudioFiles\\\\Actor_*\\\\*.wav\")):\n",
    "    f1=os.path.basename(file)\n",
    "    sig,rate=librosa.load(file,sr=16000)\n",
    "    temp=envlop(sig,rate,0.0005)\n",
    "    wavfile.write(filename=r\"D:\\\\nlpcode\\\\Projects\\\\speech emotion recognition\\\\\"+str(f1),rate=rate,data=sig[temp])\n",
    "print(sig,rate)\n",
    "   \n",
    "    "
   ]
  },
  {
   "cell_type": "code",
   "execution_count": 6,
   "id": "d964a1c3",
   "metadata": {},
   "outputs": [],
   "source": [
    "#DataFlair - Extract features (mfcc, chroma, mel) from a sound file\n",
    "def extract_feature(file_name, mfcc, chroma, mel):\n",
    "    with soundfile.SoundFile(file_name) as sound_file:\n",
    "        X = sound_file.read(dtype=\"float32\")\n",
    "        #print(\"read file : \",X)\n",
    "        sample_rate=sound_file.samplerate\n",
    "        print(\"sample rate:\",sample_rate)\n",
    "        \n",
    "        if chroma:\n",
    "            stft=np.abs(librosa.stft(X))\n",
    "        result=np.array([])\n",
    "        if mfcc:\n",
    "            mfccs=np.mean(librosa.feature.mfcc(y=X, sr=sample_rate, n_mfcc=40).T, axis=0)\n",
    "            result=np.hstack((result, mfccs))\n",
    "            #print(\"mcff\",np.hstack((result, mfccs)))\n",
    "        if chroma:\n",
    "            chroma=np.mean(librosa.feature.chroma_stft(S=stft, sr=sample_rate).T,axis=0)\n",
    "            result=np.hstack((result, chroma))\n",
    "            #print(\"chroma\",np.hstack((result, chroma)))\n",
    "        if mel:\n",
    "            mel=np.mean(librosa.feature.melspectrogram(X, sr=sample_rate).T,axis=0)\n",
    "            result=np.hstack((result, mel))\n",
    "            #print(\"mel\",np.hstack((result, mel)))\n",
    "       \n",
    "    return result"
   ]
  },
  {
   "cell_type": "code",
   "execution_count": 7,
   "id": "54fd4079",
   "metadata": {},
   "outputs": [],
   "source": [
    "#DataFlair - Emotions in the RAVDESS dataset\n",
    "emotions={\n",
    "  '01':'neutral',\n",
    "  '02':'calm',\n",
    "  '03':'happy',\n",
    "  '04':'sad',\n",
    "  '05':'angry',\n",
    "  '06':'fearful',\n",
    "  '07':'disgust',\n",
    "  '08':'surprised'\n",
    "}\n",
    "#DataFlair - Emotions to observe\n",
    "observed_emotions=['calm', 'happy', 'fearful', 'disgust']"
   ]
  },
  {
   "cell_type": "code",
   "execution_count": 8,
   "id": "bb921d9d",
   "metadata": {},
   "outputs": [],
   "source": [
    "#DataFlair - Load the data and extract features for each sound file\n",
    "def load_data(test_size1=0.2):\n",
    "    x,y=[],[]\n",
    "    for file in glob.glob(\"D:\\\\nlpcode\\\\Projects\\\\speech emotion recognition\\\\*.wav\"):\n",
    "        file_name=os.path.basename(file)\n",
    "        #print(file_name)\n",
    "        emotion=emotions[file_name.split(\"-\")[2]]\n",
    "        #print(emotion)\n",
    "        if emotion not in observed_emotions:\n",
    "            continue\n",
    "        feature=extract_feature(file, mfcc=True, chroma=True, mel=True)\n",
    "        x.append(feature)\n",
    "        y.append(emotion)\n",
    "    return train_test_split(np.array(x), y, test_size=test_size1, random_state=1)"
   ]
  },
  {
   "cell_type": "code",
   "execution_count": 9,
   "id": "15c3ab01",
   "metadata": {},
   "outputs": [
    {
     "name": "stdout",
     "output_type": "stream",
     "text": [
      "sample rate: 16000\n"
     ]
    },
    {
     "ename": "TypeError",
     "evalue": "melspectrogram() takes 0 positional arguments but 1 positional argument (and 1 keyword-only argument) were given",
     "output_type": "error",
     "traceback": [
      "\u001b[1;31m---------------------------------------------------------------------------\u001b[0m",
      "\u001b[1;31mTypeError\u001b[0m                                 Traceback (most recent call last)",
      "Input \u001b[1;32mIn [9]\u001b[0m, in \u001b[0;36m<cell line: 2>\u001b[1;34m()\u001b[0m\n\u001b[0;32m      1\u001b[0m \u001b[38;5;66;03m#DataFlair - Split the dataset\u001b[39;00m\n\u001b[1;32m----> 2\u001b[0m x_train,x_test,y_train,y_test\u001b[38;5;241m=\u001b[39m\u001b[43mload_data\u001b[49m\u001b[43m(\u001b[49m\u001b[43mtest_size1\u001b[49m\u001b[38;5;241;43m=\u001b[39;49m\u001b[38;5;241;43m0.25\u001b[39;49m\u001b[43m)\u001b[49m\n",
      "Input \u001b[1;32mIn [8]\u001b[0m, in \u001b[0;36mload_data\u001b[1;34m(test_size1)\u001b[0m\n\u001b[0;32m      9\u001b[0m \u001b[38;5;28;01mif\u001b[39;00m emotion \u001b[38;5;129;01mnot\u001b[39;00m \u001b[38;5;129;01min\u001b[39;00m observed_emotions:\n\u001b[0;32m     10\u001b[0m     \u001b[38;5;28;01mcontinue\u001b[39;00m\n\u001b[1;32m---> 11\u001b[0m feature\u001b[38;5;241m=\u001b[39m\u001b[43mextract_feature\u001b[49m\u001b[43m(\u001b[49m\u001b[43mfile\u001b[49m\u001b[43m,\u001b[49m\u001b[43m \u001b[49m\u001b[43mmfcc\u001b[49m\u001b[38;5;241;43m=\u001b[39;49m\u001b[38;5;28;43;01mTrue\u001b[39;49;00m\u001b[43m,\u001b[49m\u001b[43m \u001b[49m\u001b[43mchroma\u001b[49m\u001b[38;5;241;43m=\u001b[39;49m\u001b[38;5;28;43;01mTrue\u001b[39;49;00m\u001b[43m,\u001b[49m\u001b[43m \u001b[49m\u001b[43mmel\u001b[49m\u001b[38;5;241;43m=\u001b[39;49m\u001b[38;5;28;43;01mTrue\u001b[39;49;00m\u001b[43m)\u001b[49m\n\u001b[0;32m     12\u001b[0m x\u001b[38;5;241m.\u001b[39mappend(feature)\n\u001b[0;32m     13\u001b[0m y\u001b[38;5;241m.\u001b[39mappend(emotion)\n",
      "Input \u001b[1;32mIn [6]\u001b[0m, in \u001b[0;36mextract_feature\u001b[1;34m(file_name, mfcc, chroma, mel)\u001b[0m\n\u001b[0;32m     19\u001b[0m     \u001b[38;5;66;03m#print(\"chroma\",np.hstack((result, chroma)))\u001b[39;00m\n\u001b[0;32m     20\u001b[0m \u001b[38;5;28;01mif\u001b[39;00m mel:\n\u001b[1;32m---> 21\u001b[0m     mel\u001b[38;5;241m=\u001b[39mnp\u001b[38;5;241m.\u001b[39mmean(\u001b[43mlibrosa\u001b[49m\u001b[38;5;241;43m.\u001b[39;49m\u001b[43mfeature\u001b[49m\u001b[38;5;241;43m.\u001b[39;49m\u001b[43mmelspectrogram\u001b[49m\u001b[43m(\u001b[49m\u001b[43mX\u001b[49m\u001b[43m,\u001b[49m\u001b[43m \u001b[49m\u001b[43msr\u001b[49m\u001b[38;5;241;43m=\u001b[39;49m\u001b[43msample_rate\u001b[49m\u001b[43m)\u001b[49m\u001b[38;5;241m.\u001b[39mT,axis\u001b[38;5;241m=\u001b[39m\u001b[38;5;241m0\u001b[39m)\n\u001b[0;32m     22\u001b[0m     result\u001b[38;5;241m=\u001b[39mnp\u001b[38;5;241m.\u001b[39mhstack((result, mel))\n\u001b[0;32m     23\u001b[0m     \u001b[38;5;66;03m#print(\"mel\",np.hstack((result, mel)))\u001b[39;00m\n",
      "\u001b[1;31mTypeError\u001b[0m: melspectrogram() takes 0 positional arguments but 1 positional argument (and 1 keyword-only argument) were given"
     ]
    }
   ],
   "source": [
    "#DataFlair - Split the dataset\n",
    "x_train,x_test,y_train,y_test=load_data(test_size1=0.25)"
   ]
  },
  {
   "cell_type": "markdown",
   "id": "b2b1cd61",
   "metadata": {},
   "source": [
    "#DataFlair - Get the shape of the training and testing datasets\n",
    "print((x_train.shape[0], x_test.shape[0]))\n",
    "print(x_test)"
   ]
  },
  {
   "cell_type": "code",
   "execution_count": null,
   "id": "d6c2bff6",
   "metadata": {},
   "outputs": [],
   "source": [
    "#DataFlair - Get the number of features extracted\n",
    "print(f'Features extracted: {x_train.shape[1]}')\n",
    "print(x_train)"
   ]
  },
  {
   "cell_type": "code",
   "execution_count": null,
   "id": "089e1a46",
   "metadata": {},
   "outputs": [],
   "source": [
    "\n",
    "\n",
    "#DataFlair - Initialize the Multi Layer Perceptron Classifier\n",
    "model=MLPClassifier(alpha=0.01, batch_size=256, epsilon=1e-08, hidden_layer_sizes=(300,), learning_rate='adaptive', max_iter=500)"
   ]
  },
  {
   "cell_type": "code",
   "execution_count": null,
   "id": "ca40c97c",
   "metadata": {},
   "outputs": [],
   "source": [
    "\n",
    "\n",
    "#DataFlair - Train the model\n",
    "model.fit(x_train,y_train)"
   ]
  },
  {
   "cell_type": "code",
   "execution_count": null,
   "id": "60cd152e",
   "metadata": {},
   "outputs": [],
   "source": [
    "#DataFlair - Predict for the test set\n",
    "y_pred=model.predict(x_test)\n",
    "y_pred,y_test"
   ]
  },
  {
   "cell_type": "code",
   "execution_count": null,
   "id": "1454680c",
   "metadata": {},
   "outputs": [],
   "source": [
    "#DataFlair - Calculate the accuracy of our model\n",
    "accuracy=accuracy_score(y_true=y_test, y_pred=y_pred)\n",
    "\n",
    "#DataFlair - Print the accuracy\n",
    "print(\"Accuracy: {:.2f}%\".format(accuracy*100))"
   ]
  },
  {
   "cell_type": "code",
   "execution_count": null,
   "id": "d171e328",
   "metadata": {},
   "outputs": [],
   "source": [
    "import seaborn as sn\n",
    "accuracy=accuracy_score(y_true=y_test, y_pred=y_pred)\n",
    "\n",
    "#DataFlair - Print the accuracy\n",
    "print(\"Accuracy: {:.2f}%\".format(accuracy*100))\n",
    "from sklearn.metrics import classification_report\n",
    "print(classification_report(y_test, y_pred))\n",
    "\n",
    "\n",
    "from sklearn.metrics import confusion_matrix\n",
    "matrix = confusion_matrix(y_test, y_pred)\n",
    "df_cm=pd.DataFrame(matrix)\n",
    "print(matrix)\n",
    "sn.heatmap(df_cm,annot=True,fmt='')\n",
    "plt.show()"
   ]
  },
  {
   "cell_type": "code",
   "execution_count": null,
   "id": "8c3ca05b",
   "metadata": {
    "scrolled": true
   },
   "outputs": [],
   "source": [
    "import scipy\n",
    "import scipy.io.wavfile as wav\n",
    "import matplotlib.pyplot as plt\n",
    "from sklearn import preprocessing\n",
    "\n",
    "#input for testing a audio \n",
    "\n",
    "file=\"D:\\\\Audios\\\\fan_01_off_01.wav\"\n",
    "fs,a=wav.read(file)\n",
    "fs,a\n",
    "nor=preprocessing.normalize([a])\n",
    "fig,(ax1,ax2)=plt.subplots(1,2,figsize=(15,10))\n",
    "ax1.plot(a)\n",
    "ax2.plot(nor[0][500:1000])\n",
    "plt.show()\n",
    "\n",
    "\n",
    "ans=[]\n",
    "fea=extract_feature(file,mfcc=True,chroma=True,mel=True)\n",
    "ans.append(fea)\n",
    "ans=np.array(ans)\n",
    "ans\n",
    "\n",
    "print(model.predict(ans))\n",
    "\n"
   ]
  },
  {
   "cell_type": "code",
   "execution_count": null,
   "id": "05e9699a",
   "metadata": {},
   "outputs": [],
   "source": [
    "#predicting the emotion for the give audio.\n",
    "file=\"03-01-02-01-01-01-04.wav\"\n",
    "fs,a=wav.read(file)\n",
    "fs,a\n",
    "nor=preprocessing.normalize([a])\n",
    "fig,(ax1,ax2)=plt.subplots(1,2,figsize=(15,10))\n",
    "ax1.plot(a)\n",
    "ax2.plot(nor[0][500:1000])\n",
    "plt.show()\n",
    "\n",
    "\n",
    "ans=[]\n",
    "fea=extract_feature(file,mfcc=True,chroma=True,mel=True)\n",
    "ans.append(fea)\n",
    "ans=np.array(ans)\n",
    "ans\n",
    "\n",
    "print(model.predict(ans))\n",
    "\n"
   ]
  },
  {
   "cell_type": "code",
   "execution_count": null,
   "id": "fe69a2f8",
   "metadata": {},
   "outputs": [],
   "source": [
    "file=\"E:\\\\03-01-02-01-01-01-07.wav\"\n",
    "fs,a=wav.read(file)\n",
    "fs,a\n",
    "nor=preprocessing.normalize([a])\n",
    "fig,(ax1,ax2)=plt.subplots(1,2,figsize=(15,10))\n",
    "ax1.plot(a)\n",
    "ax2.plot(nor[0][500:1000])\n",
    "plt.show()\n",
    "\n",
    "\n",
    "ans=[]\n",
    "fea=extract_feature(file,mfcc=True,chroma=True,mel=True)\n",
    "ans.append(fea)\n",
    "ans=np.array(ans)\n",
    "ans\n",
    "\n",
    "print(model.predict(ans))\n"
   ]
  },
  {
   "cell_type": "code",
   "execution_count": null,
   "id": "9aa8150d",
   "metadata": {},
   "outputs": [],
   "source": [
    "for file in glob.glob(r\"D:\\\\nlpcode\\\\Projects\\\\speech emotion recognition\\\\*.wav\"):\n",
    "        file_name=os.path.basename(file)\n",
    "        print(file)"
   ]
  },
  {
   "cell_type": "code",
   "execution_count": null,
   "id": "6ff84ff6",
   "metadata": {},
   "outputs": [],
   "source": []
  }
 ],
 "metadata": {
  "kernelspec": {
   "display_name": "Python 3 (ipykernel)",
   "language": "python",
   "name": "python3"
  },
  "language_info": {
   "codemirror_mode": {
    "name": "ipython",
    "version": 3
   },
   "file_extension": ".py",
   "mimetype": "text/x-python",
   "name": "python",
   "nbconvert_exporter": "python",
   "pygments_lexer": "ipython3",
   "version": "3.10.11"
  }
 },
 "nbformat": 4,
 "nbformat_minor": 5
}
